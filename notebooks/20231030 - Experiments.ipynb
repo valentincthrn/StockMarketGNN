{
 "cells": [
  {
   "cell_type": "markdown",
   "metadata": {},
   "source": [
    "# Experiments\n",
    "The goal of the notebook is to find the best hyperparameters for each model through MLFlow"
   ]
  },
  {
   "cell_type": "markdown",
   "metadata": {},
   "source": [
    "## Config"
   ]
  },
  {
   "cell_type": "code",
   "execution_count": 1,
   "metadata": {},
   "outputs": [],
   "source": [
    "import os\n",
    "from pathlib import Path\n",
    "\n",
    "try:\n",
    "    os.chdir(PROJECT_PATH)\n",
    "except NameError:\n",
    "    NOTEBOOK_PATH = Path(os.getcwd())\n",
    "    os.chdir(\"..\")\n",
    "    PROJECT_PATH = Path(os.getcwd())\n",
    "SRC_PATH = PROJECT_PATH / \"src\"\n",
    "DATA_PATH = PROJECT_PATH / \"data\""
   ]
  },
  {
   "cell_type": "code",
   "execution_count": 2,
   "metadata": {},
   "outputs": [],
   "source": [
    "%load_ext autoreload\n",
    "%autoreload 2"
   ]
  },
  {
   "cell_type": "markdown",
   "metadata": {},
   "source": [
    "## Packages"
   ]
  },
  {
   "cell_type": "code",
   "execution_count": 5,
   "metadata": {
    "scrolled": true
   },
   "outputs": [],
   "source": [
    "from src.data_prep.main import DataPrep\n",
    "from src.utils.db import DBInterface\n",
    "from src.model.main import run_gnn_model\n",
    "import pandas as pd\n",
    "\n",
    "\n",
    "from sklearn.model_selection import ParameterGrid"
   ]
  },
  {
   "cell_type": "code",
   "execution_count": 12,
   "metadata": {},
   "outputs": [
    {
     "name": "stdout",
     "output_type": "stream",
     "text": [
      "/bin/sh: 1: import: not found\n",
      "/bin/sh: 1: Syntax error: word unexpected (expecting \")\")\n"
     ]
    }
   ],
   "source": [
    "!import torch\n",
    "\n",
    "!print(torch.cuda.is_available())"
   ]
  },
  {
   "cell_type": "markdown",
   "metadata": {},
   "source": [
    "## Run One Test"
   ]
  },
  {
   "cell_type": "code",
   "execution_count": 7,
   "metadata": {},
   "outputs": [],
   "source": [
    "base_config_path = PROJECT_PATH / \"params/run_config.yml\""
   ]
  },
  {
   "cell_type": "code",
   "execution_count": 9,
   "metadata": {},
   "outputs": [
    {
     "name": "stdout",
     "output_type": "stream",
     "text": [
      "TESTING CONFIG >>  {'pe_t': 20, 'history': 400, 'min_points_history': 5, 'horizon_forecast': 90, 'test_days': 720, 'start': 100, 'step_every': 20}\n"
     ]
    },
    {
     "name": "stderr",
     "output_type": "stream",
     "text": [
      "  0%|          | 0/269 [00:00<?, ?it/s]\n"
     ]
    },
    {
     "ename": "RuntimeError",
     "evalue": "Found no NVIDIA driver on your system. Please check that you have an NVIDIA GPU and installed a driver from http://www.nvidia.com/Download/index.aspx",
     "output_type": "error",
     "traceback": [
      "\u001b[0;31m---------------------------------------------------------------------------\u001b[0m",
      "\u001b[0;31mRuntimeError\u001b[0m                              Traceback (most recent call last)",
      "\u001b[0;32m/tmp/ipykernel_12/448011174.py\u001b[0m in \u001b[0;36m<module>\u001b[0;34m\u001b[0m\n\u001b[1;32m     14\u001b[0m \u001b[0mprint\u001b[0m\u001b[0;34m(\u001b[0m\u001b[0;34m\"TESTING CONFIG >> \"\u001b[0m\u001b[0;34m,\u001b[0m \u001b[0mdata_prep\u001b[0m\u001b[0;34m.\u001b[0m\u001b[0mconfig\u001b[0m\u001b[0;34m.\u001b[0m\u001b[0mdata_prep\u001b[0m\u001b[0;34m)\u001b[0m\u001b[0;34m\u001b[0m\u001b[0;34m\u001b[0m\u001b[0m\n\u001b[1;32m     15\u001b[0m \u001b[0;34m\u001b[0m\u001b[0m\n\u001b[0;32m---> 16\u001b[0;31m \u001b[0mdata\u001b[0m\u001b[0;34m,\u001b[0m \u001b[0md_size\u001b[0m \u001b[0;34m=\u001b[0m \u001b[0mdata_prep\u001b[0m\u001b[0;34m.\u001b[0m\u001b[0mget_data\u001b[0m\u001b[0;34m(\u001b[0m\u001b[0;34m)\u001b[0m\u001b[0;34m\u001b[0m\u001b[0;34m\u001b[0m\u001b[0m\n\u001b[0m\u001b[1;32m     17\u001b[0m \u001b[0;34m\u001b[0m\u001b[0m\n\u001b[1;32m     18\u001b[0m \u001b[0;31m# get the data\u001b[0m\u001b[0;34m\u001b[0m\u001b[0;34m\u001b[0m\u001b[0;34m\u001b[0m\u001b[0m\n",
      "\u001b[0;32m/workspace/src/data_prep/main.py\u001b[0m in \u001b[0;36mget_data\u001b[0;34m(self)\u001b[0m\n\u001b[1;32m     38\u001b[0m \u001b[0;34m\u001b[0m\u001b[0m\n\u001b[1;32m     39\u001b[0m     \u001b[0;32mdef\u001b[0m \u001b[0mget_data\u001b[0m\u001b[0;34m(\u001b[0m\u001b[0mself\u001b[0m\u001b[0;34m)\u001b[0m\u001b[0;34m:\u001b[0m\u001b[0;34m\u001b[0m\u001b[0;34m\u001b[0m\u001b[0m\n\u001b[0;32m---> 40\u001b[0;31m         \u001b[0;32mreturn\u001b[0m \u001b[0mself\u001b[0m\u001b[0;34m.\u001b[0m\u001b[0m_extract_data\u001b[0m\u001b[0;34m(\u001b[0m\u001b[0;34m)\u001b[0m\u001b[0;34m\u001b[0m\u001b[0;34m\u001b[0m\u001b[0m\n\u001b[0m\u001b[1;32m     41\u001b[0m \u001b[0;34m\u001b[0m\u001b[0m\n\u001b[1;32m     42\u001b[0m     \u001b[0;32mdef\u001b[0m \u001b[0m_extract_data\u001b[0m\u001b[0;34m(\u001b[0m\u001b[0mself\u001b[0m\u001b[0;34m)\u001b[0m\u001b[0;34m:\u001b[0m\u001b[0;34m\u001b[0m\u001b[0;34m\u001b[0m\u001b[0m\n",
      "\u001b[0;32m/workspace/src/data_prep/main.py\u001b[0m in \u001b[0;36m_extract_data\u001b[0;34m(self)\u001b[0m\n\u001b[1;32m     48\u001b[0m \u001b[0;34m\u001b[0m\u001b[0m\n\u001b[1;32m     49\u001b[0m         \u001b[0mlogger\u001b[0m\u001b[0;34m.\u001b[0m\u001b[0minfo\u001b[0m\u001b[0;34m(\u001b[0m\u001b[0;34m\"Creating Data Dictionnary\"\u001b[0m\u001b[0;34m)\u001b[0m\u001b[0;34m\u001b[0m\u001b[0;34m\u001b[0m\u001b[0m\n\u001b[0;32m---> 50\u001b[0;31m         \u001b[0mdata\u001b[0m \u001b[0;34m=\u001b[0m \u001b[0mself\u001b[0m\u001b[0;34m.\u001b[0m\u001b[0m_run_extraction\u001b[0m\u001b[0;34m(\u001b[0m\u001b[0mdf_prices_with_fund\u001b[0m\u001b[0;34m,\u001b[0m \u001b[0mdf_macro\u001b[0m\u001b[0;34m)\u001b[0m\u001b[0;34m\u001b[0m\u001b[0;34m\u001b[0m\u001b[0m\n\u001b[0m\u001b[1;32m     51\u001b[0m \u001b[0;34m\u001b[0m\u001b[0m\n\u001b[1;32m     52\u001b[0m         \u001b[0;32mreturn\u001b[0m \u001b[0mdata\u001b[0m\u001b[0;34m,\u001b[0m \u001b[0md_size\u001b[0m\u001b[0;34m\u001b[0m\u001b[0;34m\u001b[0m\u001b[0m\n",
      "\u001b[0;32m/workspace/src/data_prep/main.py\u001b[0m in \u001b[0;36m_run_extraction\u001b[0;34m(self, df_prices_with_fund, df_macro)\u001b[0m\n\u001b[1;32m    237\u001b[0m \u001b[0;34m\u001b[0m\u001b[0m\n\u001b[1;32m    238\u001b[0m                 \u001b[0;31m# tensor\u001b[0m\u001b[0;34m\u001b[0m\u001b[0;34m\u001b[0m\u001b[0;34m\u001b[0m\u001b[0m\n\u001b[0;32m--> 239\u001b[0;31m                 \u001b[0mtensor_col\u001b[0m \u001b[0;34m=\u001b[0m \u001b[0mtorch\u001b[0m\u001b[0;34m.\u001b[0m\u001b[0mtensor\u001b[0m\u001b[0;34m(\u001b[0m\u001b[0mdf_col\u001b[0m\u001b[0;34m.\u001b[0m\u001b[0mvalues\u001b[0m\u001b[0;34m,\u001b[0m \u001b[0mdtype\u001b[0m\u001b[0;34m=\u001b[0m\u001b[0mtorch\u001b[0m\u001b[0;34m.\u001b[0m\u001b[0mfloat\u001b[0m\u001b[0;34m)\u001b[0m\u001b[0;34m.\u001b[0m\u001b[0mto\u001b[0m\u001b[0;34m(\u001b[0m\u001b[0mself\u001b[0m\u001b[0;34m.\u001b[0m\u001b[0mdevice\u001b[0m\u001b[0;34m)\u001b[0m\u001b[0;34m\u001b[0m\u001b[0;34m\u001b[0m\u001b[0m\n\u001b[0m\u001b[1;32m    240\u001b[0m                 \u001b[0mprices\u001b[0m \u001b[0;34m=\u001b[0m \u001b[0mtensor_col\u001b[0m\u001b[0;34m[\u001b[0m\u001b[0mhyperparam\u001b[0m\u001b[0;34m[\u001b[0m\u001b[0;34m\"horizon_forecast\"\u001b[0m\u001b[0;34m]\u001b[0m \u001b[0;34m:\u001b[0m\u001b[0;34m,\u001b[0m \u001b[0;34m:\u001b[0m\u001b[0;34m-\u001b[0m\u001b[0;36m1\u001b[0m\u001b[0;34m]\u001b[0m\u001b[0;34m\u001b[0m\u001b[0;34m\u001b[0m\u001b[0m\n\u001b[1;32m    241\u001b[0m                 \u001b[0mpos\u001b[0m \u001b[0;34m=\u001b[0m \u001b[0mtensor_col\u001b[0m\u001b[0;34m[\u001b[0m\u001b[0mhyperparam\u001b[0m\u001b[0;34m[\u001b[0m\u001b[0;34m\"horizon_forecast\"\u001b[0m\u001b[0;34m]\u001b[0m \u001b[0;34m:\u001b[0m\u001b[0;34m,\u001b[0m \u001b[0;34m-\u001b[0m\u001b[0;36m1\u001b[0m\u001b[0;34m]\u001b[0m\u001b[0;34m.\u001b[0m\u001b[0munsqueeze\u001b[0m\u001b[0;34m(\u001b[0m\u001b[0;34m-\u001b[0m\u001b[0;36m1\u001b[0m\u001b[0;34m)\u001b[0m\u001b[0;34m\u001b[0m\u001b[0;34m\u001b[0m\u001b[0m\n",
      "\u001b[0;32m/opt/conda/lib/python3.7/site-packages/torch/cuda/__init__.py\u001b[0m in \u001b[0;36m_lazy_init\u001b[0;34m()\u001b[0m\n\u001b[1;32m    215\u001b[0m         \u001b[0;31m# This function throws if there's a driver initialization error, no GPUs\u001b[0m\u001b[0;34m\u001b[0m\u001b[0;34m\u001b[0m\u001b[0;34m\u001b[0m\u001b[0m\n\u001b[1;32m    216\u001b[0m         \u001b[0;31m# are found or any other error occurs\u001b[0m\u001b[0;34m\u001b[0m\u001b[0;34m\u001b[0m\u001b[0;34m\u001b[0m\u001b[0m\n\u001b[0;32m--> 217\u001b[0;31m         \u001b[0mtorch\u001b[0m\u001b[0;34m.\u001b[0m\u001b[0m_C\u001b[0m\u001b[0;34m.\u001b[0m\u001b[0m_cuda_init\u001b[0m\u001b[0;34m(\u001b[0m\u001b[0;34m)\u001b[0m\u001b[0;34m\u001b[0m\u001b[0;34m\u001b[0m\u001b[0m\n\u001b[0m\u001b[1;32m    218\u001b[0m         \u001b[0;31m# Some of the queued calls may reentrantly call _lazy_init();\u001b[0m\u001b[0;34m\u001b[0m\u001b[0;34m\u001b[0m\u001b[0;34m\u001b[0m\u001b[0m\n\u001b[1;32m    219\u001b[0m         \u001b[0;31m# we need to just return without initializing in that case.\u001b[0m\u001b[0;34m\u001b[0m\u001b[0;34m\u001b[0m\u001b[0;34m\u001b[0m\u001b[0m\n",
      "\u001b[0;31mRuntimeError\u001b[0m: Found no NVIDIA driver on your system. Please check that you have an NVIDIA GPU and installed a driver from http://www.nvidia.com/Download/index.aspx"
     ]
    }
   ],
   "source": [
    "TEST_NAME = \"Setor\"\n",
    "\n",
    "rid = pd.to_datetime(\"today\").strftime(\"%Y%m%d%H%M%S\")\n",
    "\n",
    "os.mkdir(DATA_PATH / rid)\n",
    "\n",
    "        \n",
    "data_prep = DataPrep(\n",
    "    config_path=Path(base_config_path),\n",
    "    db=DBInterface(),\n",
    "    overwrite_params=None\n",
    ")\n",
    "\n",
    "print(\"TESTING CONFIG >> \", data_prep.config.data_prep)\n",
    "\n",
    "data, d_size = data_prep.get_data()\n",
    "\n",
    "# get the data\n",
    "run_gnn_model(\n",
    "    data=data, \n",
    "    d_size=d_size, \n",
    "    config_path=Path(base_config_path), \n",
    "    exp_name=TEST_NAME,\n",
    "    overwrite_dataprep = None,\n",
    "    base_path_save_csv = str(DATA_PATH / rid) + \"/\",\n",
    ")\n"
   ]
  },
  {
   "cell_type": "markdown",
   "metadata": {},
   "source": [
    "## Run Multiple Tests"
   ]
  },
  {
   "cell_type": "code",
   "execution_count": 6,
   "metadata": {},
   "outputs": [],
   "source": [
    "base_config_path = PROJECT_PATH / \"params/run_config.yml\""
   ]
  },
  {
   "cell_type": "code",
   "execution_count": 11,
   "metadata": {},
   "outputs": [],
   "source": [
    "data_prep_to_exp = {\n",
    "    \"pe_t\": [2, 6, 10, 20],\n",
    "    \"history\": [1, 7, 14, 31],\n",
    "}\n",
    "\n",
    "data_prep_grid = ParameterGrid(data_prep_to_exp)"
   ]
  },
  {
   "cell_type": "code",
   "execution_count": 13,
   "metadata": {},
   "outputs": [
    {
     "name": "stdout",
     "output_type": "stream",
     "text": [
      "TESTING CONFIG >>  {'pe_t': 6, 'history': 1, 'min_points_history': 1, 'horizon_forecast': 1, 'test_days': 360, 'start': 100, 'step_every': 1}\n"
     ]
    },
    {
     "name": "stderr",
     "output_type": "stream",
     "text": [
      "100%|██████████| 5856/5856 [01:45<00:00, 55.62it/s] \n",
      "100%|██████████| 4397/4397 [00:13<00:00, 334.47it/s]\n",
      "100%|██████████| 359/359 [00:00<00:00, 943.78it/s]\n"
     ]
    },
    {
     "name": "stdout",
     "output_type": "stream",
     "text": [
      "Best Loss! >>  23.527831303376008\n",
      "Epoch [1/200], Train Loss: 24.7987, Test Loss: 23.5278\n"
     ]
    },
    {
     "name": "stderr",
     "output_type": "stream",
     "text": [
      "100%|██████████| 4397/4397 [00:13<00:00, 327.76it/s]\n",
      "100%|██████████| 359/359 [00:00<00:00, 962.50it/s]\n"
     ]
    },
    {
     "name": "stdout",
     "output_type": "stream",
     "text": [
      "Best Loss! >>  21.274716608371577\n",
      "Epoch [2/200], Train Loss: 17.2453, Test Loss: 21.2747\n"
     ]
    },
    {
     "name": "stderr",
     "output_type": "stream",
     "text": [
      "100%|██████████| 4397/4397 [00:13<00:00, 336.79it/s]\n",
      "100%|██████████| 359/359 [00:00<00:00, 948.58it/s]\n"
     ]
    },
    {
     "name": "stdout",
     "output_type": "stream",
     "text": [
      "Best Loss! >>  20.484575170660417\n",
      "Epoch [3/200], Train Loss: 16.9050, Test Loss: 20.4846\n"
     ]
    },
    {
     "name": "stderr",
     "output_type": "stream",
     "text": [
      "100%|██████████| 4397/4397 [00:13<00:00, 333.05it/s]\n",
      "100%|██████████| 359/359 [00:00<00:00, 931.65it/s]\n"
     ]
    },
    {
     "name": "stdout",
     "output_type": "stream",
     "text": [
      "Epoch [4/200], Train Loss: 16.8670, Test Loss: 23.1054\n"
     ]
    },
    {
     "name": "stderr",
     "output_type": "stream",
     "text": [
      "100%|██████████| 4397/4397 [00:13<00:00, 328.55it/s]\n",
      "100%|██████████| 359/359 [00:00<00:00, 973.91it/s]\n"
     ]
    },
    {
     "name": "stdout",
     "output_type": "stream",
     "text": [
      "Best Loss! >>  18.977942673940845\n",
      "Epoch [5/200], Train Loss: 16.7639, Test Loss: 18.9779\n"
     ]
    },
    {
     "name": "stderr",
     "output_type": "stream",
     "text": [
      "100%|██████████| 4397/4397 [00:13<00:00, 333.56it/s]\n",
      "100%|██████████| 359/359 [00:00<00:00, 970.92it/s]\n"
     ]
    },
    {
     "name": "stdout",
     "output_type": "stream",
     "text": [
      "Epoch [6/200], Train Loss: 16.9114, Test Loss: 19.5835\n"
     ]
    },
    {
     "name": "stderr",
     "output_type": "stream",
     "text": [
      "100%|██████████| 4397/4397 [00:13<00:00, 327.43it/s]\n",
      "100%|██████████| 359/359 [00:00<00:00, 948.81it/s]\n"
     ]
    },
    {
     "name": "stdout",
     "output_type": "stream",
     "text": [
      "Epoch [7/200], Train Loss: 16.7695, Test Loss: 20.5539\n"
     ]
    },
    {
     "name": "stderr",
     "output_type": "stream",
     "text": [
      "100%|██████████| 4397/4397 [00:12<00:00, 338.47it/s]\n",
      "100%|██████████| 359/359 [00:00<00:00, 966.78it/s]\n"
     ]
    },
    {
     "name": "stdout",
     "output_type": "stream",
     "text": [
      "Epoch [8/200], Train Loss: 16.7813, Test Loss: 21.1763\n"
     ]
    },
    {
     "name": "stderr",
     "output_type": "stream",
     "text": [
      "100%|██████████| 4397/4397 [00:13<00:00, 333.17it/s]\n",
      "100%|██████████| 359/359 [00:00<00:00, 908.12it/s]\n"
     ]
    },
    {
     "name": "stdout",
     "output_type": "stream",
     "text": [
      "Best Loss! >>  18.83386483365115\n",
      "Epoch [9/200], Train Loss: 16.8049, Test Loss: 18.8339\n"
     ]
    },
    {
     "name": "stderr",
     "output_type": "stream",
     "text": [
      "100%|██████████| 4397/4397 [00:13<00:00, 337.09it/s]\n",
      "100%|██████████| 359/359 [00:00<00:00, 961.12it/s]\n"
     ]
    },
    {
     "name": "stdout",
     "output_type": "stream",
     "text": [
      "Epoch [10/200], Train Loss: 16.7267, Test Loss: 20.2350\n"
     ]
    },
    {
     "name": "stderr",
     "output_type": "stream",
     "text": [
      "100%|██████████| 4397/4397 [00:13<00:00, 333.15it/s]\n",
      "100%|██████████| 359/359 [00:00<00:00, 941.45it/s]\n"
     ]
    },
    {
     "name": "stdout",
     "output_type": "stream",
     "text": [
      "Epoch [11/200], Train Loss: 16.7586, Test Loss: 20.7149\n"
     ]
    },
    {
     "name": "stderr",
     "output_type": "stream",
     "text": [
      "100%|██████████| 4397/4397 [00:13<00:00, 334.56it/s]\n",
      "100%|██████████| 359/359 [00:00<00:00, 943.17it/s]\n"
     ]
    },
    {
     "name": "stdout",
     "output_type": "stream",
     "text": [
      "Epoch [12/200], Train Loss: 16.8195, Test Loss: 19.7989\n"
     ]
    },
    {
     "name": "stderr",
     "output_type": "stream",
     "text": [
      "100%|██████████| 4397/4397 [00:13<00:00, 334.77it/s]\n",
      "100%|██████████| 359/359 [00:00<00:00, 983.98it/s]\n"
     ]
    },
    {
     "name": "stdout",
     "output_type": "stream",
     "text": [
      "Epoch [13/200], Train Loss: 16.7915, Test Loss: 21.2740\n"
     ]
    },
    {
     "name": "stderr",
     "output_type": "stream",
     "text": [
      "100%|██████████| 4397/4397 [00:12<00:00, 338.24it/s]\n",
      "100%|██████████| 359/359 [00:00<00:00, 959.20it/s]\n"
     ]
    },
    {
     "name": "stdout",
     "output_type": "stream",
     "text": [
      "Epoch [14/200], Train Loss: 16.6855, Test Loss: 19.5223\n"
     ]
    },
    {
     "name": "stderr",
     "output_type": "stream",
     "text": [
      "100%|██████████| 4397/4397 [00:13<00:00, 334.05it/s]\n",
      "100%|██████████| 359/359 [00:00<00:00, 956.15it/s]\n"
     ]
    },
    {
     "name": "stdout",
     "output_type": "stream",
     "text": [
      "Epoch [15/200], Train Loss: 16.5520, Test Loss: 19.8829\n"
     ]
    },
    {
     "name": "stderr",
     "output_type": "stream",
     "text": [
      "100%|██████████| 4397/4397 [00:13<00:00, 329.59it/s]\n",
      "100%|██████████| 359/359 [00:00<00:00, 805.92it/s]\n"
     ]
    },
    {
     "name": "stdout",
     "output_type": "stream",
     "text": [
      "Epoch [16/200], Train Loss: 16.5254, Test Loss: 23.0136\n"
     ]
    },
    {
     "name": "stderr",
     "output_type": "stream",
     "text": [
      "100%|██████████| 4397/4397 [00:13<00:00, 322.92it/s]\n",
      "100%|██████████| 359/359 [00:00<00:00, 934.88it/s]\n"
     ]
    },
    {
     "name": "stdout",
     "output_type": "stream",
     "text": [
      "Epoch 00017: reducing learning rate of group 0 to 6.4000e-03.\n",
      "Epoch [17/200], Train Loss: 16.4562, Test Loss: 20.1424\n"
     ]
    },
    {
     "name": "stderr",
     "output_type": "stream",
     "text": [
      "100%|██████████| 4397/4397 [00:13<00:00, 331.09it/s]\n",
      "100%|██████████| 359/359 [00:00<00:00, 939.21it/s]\n"
     ]
    },
    {
     "name": "stdout",
     "output_type": "stream",
     "text": [
      "Epoch [18/200], Train Loss: 16.1141, Test Loss: 20.1892\n"
     ]
    },
    {
     "name": "stderr",
     "output_type": "stream",
     "text": [
      "100%|██████████| 4397/4397 [00:13<00:00, 321.81it/s]\n",
      "100%|██████████| 359/359 [00:00<00:00, 944.35it/s]\n"
     ]
    },
    {
     "name": "stdout",
     "output_type": "stream",
     "text": [
      "Epoch [19/200], Train Loss: 15.9554, Test Loss: 20.1470\n"
     ]
    },
    {
     "name": "stderr",
     "output_type": "stream",
     "text": [
      "100%|██████████| 4397/4397 [00:13<00:00, 325.15it/s]\n",
      "100%|██████████| 359/359 [00:00<00:00, 931.69it/s]\n"
     ]
    },
    {
     "name": "stdout",
     "output_type": "stream",
     "text": [
      "Epoch [20/200], Train Loss: 15.8856, Test Loss: 19.7884\n"
     ]
    },
    {
     "name": "stderr",
     "output_type": "stream",
     "text": [
      "100%|██████████| 4397/4397 [00:13<00:00, 330.99it/s]\n",
      "100%|██████████| 359/359 [00:00<00:00, 901.82it/s]\n"
     ]
    },
    {
     "name": "stdout",
     "output_type": "stream",
     "text": [
      "Best Loss! >>  18.64172090992622\n",
      "Epoch [21/200], Train Loss: 15.9418, Test Loss: 18.6417\n"
     ]
    },
    {
     "name": "stderr",
     "output_type": "stream",
     "text": [
      "100%|██████████| 4397/4397 [00:13<00:00, 327.49it/s]\n",
      "100%|██████████| 359/359 [00:00<00:00, 945.21it/s]\n"
     ]
    },
    {
     "name": "stdout",
     "output_type": "stream",
     "text": [
      "Epoch [22/200], Train Loss: 15.9236, Test Loss: 21.6600\n"
     ]
    },
    {
     "name": "stderr",
     "output_type": "stream",
     "text": [
      "100%|██████████| 4397/4397 [00:13<00:00, 328.70it/s]\n",
      "100%|██████████| 359/359 [00:00<00:00, 948.01it/s]\n"
     ]
    },
    {
     "name": "stdout",
     "output_type": "stream",
     "text": [
      "Epoch [23/200], Train Loss: 15.9191, Test Loss: 20.8776\n"
     ]
    },
    {
     "name": "stderr",
     "output_type": "stream",
     "text": [
      "100%|██████████| 4397/4397 [00:13<00:00, 326.22it/s]\n",
      "100%|██████████| 359/359 [00:00<00:00, 890.08it/s]\n"
     ]
    },
    {
     "name": "stdout",
     "output_type": "stream",
     "text": [
      "Epoch [24/200], Train Loss: 15.9342, Test Loss: 19.6422\n"
     ]
    },
    {
     "name": "stderr",
     "output_type": "stream",
     "text": [
      "100%|██████████| 4397/4397 [00:13<00:00, 327.62it/s]\n",
      "100%|██████████| 359/359 [00:00<00:00, 954.89it/s]\n"
     ]
    },
    {
     "name": "stdout",
     "output_type": "stream",
     "text": [
      "Epoch [25/200], Train Loss: 15.9557, Test Loss: 19.7724\n"
     ]
    },
    {
     "name": "stderr",
     "output_type": "stream",
     "text": [
      "100%|██████████| 4397/4397 [00:13<00:00, 322.72it/s]\n",
      "100%|██████████| 359/359 [00:00<00:00, 900.07it/s]\n"
     ]
    },
    {
     "name": "stdout",
     "output_type": "stream",
     "text": [
      "Epoch [26/200], Train Loss: 15.8889, Test Loss: 20.6884\n"
     ]
    },
    {
     "name": "stderr",
     "output_type": "stream",
     "text": [
      "100%|██████████| 4397/4397 [00:13<00:00, 329.35it/s]\n",
      "100%|██████████| 359/359 [00:00<00:00, 925.30it/s]\n"
     ]
    },
    {
     "name": "stdout",
     "output_type": "stream",
     "text": [
      "Epoch [27/200], Train Loss: 15.8903, Test Loss: 19.0843\n"
     ]
    },
    {
     "name": "stderr",
     "output_type": "stream",
     "text": [
      "100%|██████████| 4397/4397 [00:13<00:00, 327.88it/s]\n",
      "100%|██████████| 359/359 [00:00<00:00, 855.23it/s]\n"
     ]
    },
    {
     "name": "stdout",
     "output_type": "stream",
     "text": [
      "Epoch [28/200], Train Loss: 15.8750, Test Loss: 22.5128\n"
     ]
    },
    {
     "name": "stderr",
     "output_type": "stream",
     "text": [
      "100%|██████████| 4397/4397 [00:13<00:00, 329.98it/s]\n",
      "100%|██████████| 359/359 [00:00<00:00, 924.58it/s]\n"
     ]
    },
    {
     "name": "stdout",
     "output_type": "stream",
     "text": [
      "Epoch 00029: reducing learning rate of group 0 to 5.1200e-03.\n",
      "Epoch [29/200], Train Loss: 15.8638, Test Loss: 19.3570\n"
     ]
    },
    {
     "name": "stderr",
     "output_type": "stream",
     "text": [
      "100%|██████████| 4397/4397 [00:13<00:00, 321.19it/s]\n",
      "100%|██████████| 359/359 [00:00<00:00, 808.63it/s]\n"
     ]
    },
    {
     "name": "stdout",
     "output_type": "stream",
     "text": [
      "Best Loss! >>  18.363905877456027\n",
      "Epoch [30/200], Train Loss: 15.5819, Test Loss: 18.3639\n"
     ]
    },
    {
     "name": "stderr",
     "output_type": "stream",
     "text": [
      "100%|██████████| 4397/4397 [00:16<00:00, 262.25it/s]\n",
      "100%|██████████| 359/359 [00:00<00:00, 1095.76it/s]\n"
     ]
    },
    {
     "name": "stdout",
     "output_type": "stream",
     "text": [
      "Epoch [31/200], Train Loss: 15.5702, Test Loss: 19.6661\n"
     ]
    },
    {
     "name": "stderr",
     "output_type": "stream",
     "text": [
      "100%|██████████| 4397/4397 [00:12<00:00, 366.29it/s]\n",
      "100%|██████████| 359/359 [00:00<00:00, 1112.90it/s]\n"
     ]
    },
    {
     "name": "stdout",
     "output_type": "stream",
     "text": [
      "Epoch [32/200], Train Loss: 15.5410, Test Loss: 20.0716\n"
     ]
    },
    {
     "name": "stderr",
     "output_type": "stream",
     "text": [
      "100%|██████████| 4397/4397 [00:11<00:00, 379.93it/s]\n",
      "100%|██████████| 359/359 [00:00<00:00, 1202.72it/s]\n"
     ]
    },
    {
     "name": "stdout",
     "output_type": "stream",
     "text": [
      "Best Loss! >>  18.220573523582523\n",
      "Epoch [33/200], Train Loss: 15.5655, Test Loss: 18.2206\n"
     ]
    },
    {
     "name": "stderr",
     "output_type": "stream",
     "text": [
      "100%|██████████| 4397/4397 [00:11<00:00, 387.43it/s]\n",
      "100%|██████████| 359/359 [00:00<00:00, 1204.86it/s]\n"
     ]
    },
    {
     "name": "stdout",
     "output_type": "stream",
     "text": [
      "Epoch [34/200], Train Loss: 15.5369, Test Loss: 19.9824\n"
     ]
    },
    {
     "name": "stderr",
     "output_type": "stream",
     "text": [
      "100%|██████████| 4397/4397 [00:11<00:00, 381.60it/s]\n",
      "100%|██████████| 359/359 [00:00<00:00, 1176.22it/s]\n"
     ]
    },
    {
     "name": "stdout",
     "output_type": "stream",
     "text": [
      "Epoch [35/200], Train Loss: 15.5265, Test Loss: 19.5014\n"
     ]
    },
    {
     "name": "stderr",
     "output_type": "stream",
     "text": [
      "100%|██████████| 4397/4397 [00:11<00:00, 370.07it/s]\n",
      "100%|██████████| 359/359 [00:00<00:00, 1171.51it/s]\n"
     ]
    },
    {
     "name": "stdout",
     "output_type": "stream",
     "text": [
      "Epoch [36/200], Train Loss: 15.4871, Test Loss: 19.3511\n"
     ]
    },
    {
     "name": "stderr",
     "output_type": "stream",
     "text": [
      "100%|██████████| 4397/4397 [00:11<00:00, 367.68it/s]\n",
      "100%|██████████| 359/359 [00:00<00:00, 1103.59it/s]\n"
     ]
    },
    {
     "name": "stdout",
     "output_type": "stream",
     "text": [
      "Epoch [37/200], Train Loss: 15.4721, Test Loss: 19.5490\n"
     ]
    },
    {
     "name": "stderr",
     "output_type": "stream",
     "text": [
      "100%|██████████| 4397/4397 [00:12<00:00, 347.51it/s]\n",
      "100%|██████████| 359/359 [00:00<00:00, 1078.27it/s]\n"
     ]
    },
    {
     "name": "stdout",
     "output_type": "stream",
     "text": [
      "Epoch [38/200], Train Loss: 15.5033, Test Loss: 18.6546\n"
     ]
    },
    {
     "name": "stderr",
     "output_type": "stream",
     "text": [
      "100%|██████████| 4397/4397 [00:12<00:00, 364.19it/s]\n",
      "100%|██████████| 359/359 [00:00<00:00, 989.42it/s] \n"
     ]
    },
    {
     "name": "stdout",
     "output_type": "stream",
     "text": [
      "Epoch [39/200], Train Loss: 15.4651, Test Loss: 19.1068\n"
     ]
    },
    {
     "name": "stderr",
     "output_type": "stream",
     "text": [
      "100%|██████████| 4397/4397 [00:13<00:00, 317.51it/s]\n",
      "100%|██████████| 359/359 [00:00<00:00, 878.51it/s]\n"
     ]
    },
    {
     "name": "stdout",
     "output_type": "stream",
     "text": [
      "Epoch [40/200], Train Loss: 15.4440, Test Loss: 18.4734\n"
     ]
    },
    {
     "name": "stderr",
     "output_type": "stream",
     "text": [
      "100%|██████████| 4397/4397 [00:13<00:00, 327.71it/s]\n",
      "100%|██████████| 359/359 [00:00<00:00, 920.86it/s]\n"
     ]
    },
    {
     "name": "stdout",
     "output_type": "stream",
     "text": [
      "Best Loss! >>  17.830372066550932\n",
      "Epoch [41/200], Train Loss: 15.4301, Test Loss: 17.8304\n"
     ]
    },
    {
     "name": "stderr",
     "output_type": "stream",
     "text": [
      "100%|██████████| 4397/4397 [00:13<00:00, 325.88it/s]\n",
      "100%|██████████| 359/359 [00:00<00:00, 872.98it/s]\n"
     ]
    },
    {
     "name": "stdout",
     "output_type": "stream",
     "text": [
      "Epoch [42/200], Train Loss: 15.4343, Test Loss: 18.3440\n"
     ]
    },
    {
     "name": "stderr",
     "output_type": "stream",
     "text": [
      "100%|██████████| 4397/4397 [00:13<00:00, 329.64it/s]\n",
      "100%|██████████| 359/359 [00:00<00:00, 916.44it/s]\n"
     ]
    },
    {
     "name": "stdout",
     "output_type": "stream",
     "text": [
      "Epoch [43/200], Train Loss: 15.4171, Test Loss: 20.9335\n"
     ]
    },
    {
     "name": "stderr",
     "output_type": "stream",
     "text": [
      "100%|██████████| 4397/4397 [00:13<00:00, 328.47it/s]\n",
      "100%|██████████| 359/359 [00:00<00:00, 955.31it/s]\n"
     ]
    },
    {
     "name": "stdout",
     "output_type": "stream",
     "text": [
      "Best Loss! >>  17.639318617605564\n",
      "Epoch [44/200], Train Loss: 15.3979, Test Loss: 17.6393\n"
     ]
    },
    {
     "name": "stderr",
     "output_type": "stream",
     "text": [
      "100%|██████████| 4397/4397 [00:13<00:00, 329.52it/s]\n",
      "100%|██████████| 359/359 [00:00<00:00, 832.47it/s]\n"
     ]
    },
    {
     "name": "stdout",
     "output_type": "stream",
     "text": [
      "Epoch [45/200], Train Loss: 15.4222, Test Loss: 19.7574\n"
     ]
    },
    {
     "name": "stderr",
     "output_type": "stream",
     "text": [
      "100%|██████████| 4397/4397 [00:13<00:00, 331.62it/s]\n",
      "100%|██████████| 359/359 [00:00<00:00, 858.49it/s]\n"
     ]
    },
    {
     "name": "stdout",
     "output_type": "stream",
     "text": [
      "Epoch [46/200], Train Loss: 15.4007, Test Loss: 18.2993\n"
     ]
    },
    {
     "name": "stderr",
     "output_type": "stream",
     "text": [
      "100%|██████████| 4397/4397 [00:13<00:00, 330.01it/s]\n",
      "100%|██████████| 359/359 [00:00<00:00, 932.84it/s]\n"
     ]
    },
    {
     "name": "stdout",
     "output_type": "stream",
     "text": [
      "Epoch [47/200], Train Loss: 15.3582, Test Loss: 17.9279\n"
     ]
    },
    {
     "name": "stderr",
     "output_type": "stream",
     "text": [
      "100%|██████████| 4397/4397 [00:13<00:00, 326.23it/s]\n",
      "100%|██████████| 359/359 [00:00<00:00, 919.98it/s]\n"
     ]
    },
    {
     "name": "stdout",
     "output_type": "stream",
     "text": [
      "Epoch [48/200], Train Loss: 15.3831, Test Loss: 20.2655\n"
     ]
    },
    {
     "name": "stderr",
     "output_type": "stream",
     "text": [
      "100%|██████████| 4397/4397 [00:13<00:00, 331.88it/s]\n",
      "100%|██████████| 359/359 [00:00<00:00, 920.76it/s]\n"
     ]
    },
    {
     "name": "stdout",
     "output_type": "stream",
     "text": [
      "Epoch [49/200], Train Loss: 15.4454, Test Loss: 18.0738\n"
     ]
    },
    {
     "name": "stderr",
     "output_type": "stream",
     "text": [
      "100%|██████████| 4397/4397 [00:13<00:00, 332.28it/s]\n",
      "100%|██████████| 359/359 [00:00<00:00, 959.30it/s]\n"
     ]
    },
    {
     "name": "stdout",
     "output_type": "stream",
     "text": [
      "Epoch [50/200], Train Loss: 15.4119, Test Loss: 18.8753\n"
     ]
    },
    {
     "name": "stderr",
     "output_type": "stream",
     "text": [
      "100%|██████████| 4397/4397 [00:13<00:00, 326.07it/s]\n",
      "100%|██████████| 359/359 [00:00<00:00, 934.05it/s]\n"
     ]
    },
    {
     "name": "stdout",
     "output_type": "stream",
     "text": [
      "Epoch [51/200], Train Loss: 15.3940, Test Loss: 18.3949\n"
     ]
    },
    {
     "name": "stderr",
     "output_type": "stream",
     "text": [
      "100%|██████████| 4397/4397 [00:13<00:00, 322.86it/s]\n",
      "100%|██████████| 359/359 [00:00<00:00, 936.34it/s]\n"
     ]
    },
    {
     "name": "stdout",
     "output_type": "stream",
     "text": [
      "Epoch 00052: reducing learning rate of group 0 to 4.0960e-03.\n",
      "Epoch [52/200], Train Loss: 15.4073, Test Loss: 18.4428\n"
     ]
    },
    {
     "name": "stderr",
     "output_type": "stream",
     "text": [
      "100%|██████████| 4397/4397 [00:13<00:00, 326.16it/s]\n",
      "100%|██████████| 359/359 [00:00<00:00, 941.59it/s]\n"
     ]
    },
    {
     "name": "stdout",
     "output_type": "stream",
     "text": [
      "Epoch [53/200], Train Loss: 15.2307, Test Loss: 18.2042\n"
     ]
    },
    {
     "name": "stderr",
     "output_type": "stream",
     "text": [
      "100%|██████████| 4397/4397 [00:13<00:00, 332.74it/s]\n",
      "100%|██████████| 359/359 [00:00<00:00, 942.53it/s]\n"
     ]
    },
    {
     "name": "stdout",
     "output_type": "stream",
     "text": [
      "Epoch [54/200], Train Loss: 15.2042, Test Loss: 18.0069\n"
     ]
    },
    {
     "name": "stderr",
     "output_type": "stream",
     "text": [
      "100%|██████████| 4397/4397 [00:13<00:00, 323.75it/s]\n",
      "100%|██████████| 359/359 [00:00<00:00, 845.46it/s]\n"
     ]
    },
    {
     "name": "stdout",
     "output_type": "stream",
     "text": [
      "Epoch [55/200], Train Loss: 15.1815, Test Loss: 18.7566\n"
     ]
    },
    {
     "name": "stderr",
     "output_type": "stream",
     "text": [
      "100%|██████████| 4397/4397 [00:13<00:00, 326.36it/s]\n",
      "100%|██████████| 359/359 [00:00<00:00, 940.30it/s]\n"
     ]
    },
    {
     "name": "stdout",
     "output_type": "stream",
     "text": [
      "Epoch [56/200], Train Loss: 15.2176, Test Loss: 19.5188\n"
     ]
    },
    {
     "name": "stderr",
     "output_type": "stream",
     "text": [
      "100%|██████████| 4397/4397 [00:13<00:00, 327.55it/s]\n",
      "100%|██████████| 359/359 [00:00<00:00, 933.64it/s]\n"
     ]
    },
    {
     "name": "stdout",
     "output_type": "stream",
     "text": [
      "Epoch [57/200], Train Loss: 15.2097, Test Loss: 18.4532\n"
     ]
    },
    {
     "name": "stderr",
     "output_type": "stream",
     "text": [
      "100%|██████████| 4397/4397 [00:13<00:00, 335.08it/s]\n",
      "100%|██████████| 359/359 [00:00<00:00, 938.40it/s]\n"
     ]
    },
    {
     "name": "stdout",
     "output_type": "stream",
     "text": [
      "Epoch [58/200], Train Loss: 15.1866, Test Loss: 19.6233\n"
     ]
    },
    {
     "name": "stderr",
     "output_type": "stream",
     "text": [
      "100%|██████████| 4397/4397 [00:13<00:00, 328.57it/s]\n",
      "100%|██████████| 359/359 [00:00<00:00, 809.71it/s]\n"
     ]
    },
    {
     "name": "stdout",
     "output_type": "stream",
     "text": [
      "Epoch [59/200], Train Loss: 15.1988, Test Loss: 18.4658\n"
     ]
    },
    {
     "name": "stderr",
     "output_type": "stream",
     "text": [
      "100%|██████████| 4397/4397 [00:13<00:00, 332.75it/s]\n",
      "100%|██████████| 359/359 [00:00<00:00, 938.03it/s]\n"
     ]
    },
    {
     "name": "stdout",
     "output_type": "stream",
     "text": [
      "Epoch 00060: reducing learning rate of group 0 to 3.2768e-03.\n",
      "Epoch [60/200], Train Loss: 15.1612, Test Loss: 19.2824\n"
     ]
    },
    {
     "name": "stderr",
     "output_type": "stream",
     "text": [
      "100%|██████████| 4397/4397 [00:13<00:00, 329.27it/s]\n",
      "100%|██████████| 359/359 [00:00<00:00, 822.32it/s]\n"
     ]
    },
    {
     "name": "stdout",
     "output_type": "stream",
     "text": [
      "Epoch [61/200], Train Loss: 15.0094, Test Loss: 18.3659\n"
     ]
    },
    {
     "name": "stderr",
     "output_type": "stream",
     "text": [
      "100%|██████████| 4397/4397 [00:13<00:00, 316.41it/s]\n",
      "100%|██████████| 359/359 [00:00<00:00, 892.29it/s]\n"
     ]
    },
    {
     "name": "stdout",
     "output_type": "stream",
     "text": [
      "Epoch [62/200], Train Loss: 14.9851, Test Loss: 19.0048\n"
     ]
    },
    {
     "name": "stderr",
     "output_type": "stream",
     "text": [
      "100%|██████████| 4397/4397 [00:13<00:00, 322.46it/s]\n",
      "100%|██████████| 359/359 [00:00<00:00, 905.04it/s]\n"
     ]
    },
    {
     "name": "stdout",
     "output_type": "stream",
     "text": [
      "Epoch [63/200], Train Loss: 15.0065, Test Loss: 17.7324\n"
     ]
    },
    {
     "name": "stderr",
     "output_type": "stream",
     "text": [
      "100%|██████████| 4397/4397 [00:13<00:00, 323.31it/s]\n",
      "100%|██████████| 359/359 [00:00<00:00, 918.51it/s]\n"
     ]
    },
    {
     "name": "stdout",
     "output_type": "stream",
     "text": [
      "Epoch [64/200], Train Loss: 14.9841, Test Loss: 17.8841\n"
     ]
    },
    {
     "name": "stderr",
     "output_type": "stream",
     "text": [
      "100%|██████████| 4397/4397 [00:13<00:00, 323.78it/s]\n",
      "100%|██████████| 359/359 [00:00<00:00, 918.49it/s]\n"
     ]
    },
    {
     "name": "stdout",
     "output_type": "stream",
     "text": [
      "Epoch [65/200], Train Loss: 14.9776, Test Loss: 18.4645\n"
     ]
    },
    {
     "name": "stderr",
     "output_type": "stream",
     "text": [
      "100%|██████████| 4397/4397 [00:13<00:00, 325.12it/s]\n",
      "100%|██████████| 359/359 [00:00<00:00, 929.84it/s]\n"
     ]
    },
    {
     "name": "stdout",
     "output_type": "stream",
     "text": [
      "Epoch [66/200], Train Loss: 14.9910, Test Loss: 18.3611\n"
     ]
    },
    {
     "name": "stderr",
     "output_type": "stream",
     "text": [
      "100%|██████████| 4397/4397 [00:13<00:00, 325.29it/s]\n",
      "100%|██████████| 359/359 [00:00<00:00, 653.42it/s]\n"
     ]
    },
    {
     "name": "stdout",
     "output_type": "stream",
     "text": [
      "Epoch [67/200], Train Loss: 14.9761, Test Loss: 18.6694\n"
     ]
    },
    {
     "name": "stderr",
     "output_type": "stream",
     "text": [
      "100%|██████████| 4397/4397 [00:13<00:00, 320.85it/s]\n",
      "100%|██████████| 359/359 [00:00<00:00, 919.58it/s]\n"
     ]
    },
    {
     "name": "stdout",
     "output_type": "stream",
     "text": [
      "Epoch 00068: reducing learning rate of group 0 to 2.6214e-03.\n",
      "Epoch [68/200], Train Loss: 14.9675, Test Loss: 18.0234\n"
     ]
    },
    {
     "name": "stderr",
     "output_type": "stream",
     "text": [
      "100%|██████████| 4397/4397 [00:13<00:00, 331.64it/s]\n",
      "100%|██████████| 359/359 [00:00<00:00, 908.24it/s]\n"
     ]
    },
    {
     "name": "stdout",
     "output_type": "stream",
     "text": [
      "Best Loss! >>  17.599822246264615\n",
      "Epoch [69/200], Train Loss: 14.8532, Test Loss: 17.5998\n"
     ]
    },
    {
     "name": "stderr",
     "output_type": "stream",
     "text": [
      "100%|██████████| 4397/4397 [00:23<00:00, 188.32it/s]\n",
      "100%|██████████| 359/359 [00:01<00:00, 249.65it/s]\n"
     ]
    },
    {
     "name": "stdout",
     "output_type": "stream",
     "text": [
      "Epoch [70/200], Train Loss: 14.8405, Test Loss: 18.0567\n"
     ]
    },
    {
     "name": "stderr",
     "output_type": "stream",
     "text": [
      "100%|██████████| 4397/4397 [00:17<00:00, 256.55it/s]\n",
      "100%|██████████| 359/359 [00:00<00:00, 837.54it/s]\n"
     ]
    },
    {
     "name": "stdout",
     "output_type": "stream",
     "text": [
      "Epoch [71/200], Train Loss: 14.8316, Test Loss: 18.3298\n"
     ]
    },
    {
     "name": "stderr",
     "output_type": "stream",
     "text": [
      "100%|██████████| 4397/4397 [00:14<00:00, 313.86it/s]\n",
      "100%|██████████| 359/359 [00:00<00:00, 911.84it/s]\n"
     ]
    },
    {
     "name": "stdout",
     "output_type": "stream",
     "text": [
      "Epoch [72/200], Train Loss: 14.8405, Test Loss: 18.6231\n"
     ]
    },
    {
     "name": "stderr",
     "output_type": "stream",
     "text": [
      "100%|██████████| 4397/4397 [00:13<00:00, 319.80it/s]\n",
      "100%|██████████| 359/359 [00:00<00:00, 943.83it/s]\n"
     ]
    },
    {
     "name": "stdout",
     "output_type": "stream",
     "text": [
      "Epoch [73/200], Train Loss: 14.8262, Test Loss: 18.3919\n"
     ]
    },
    {
     "name": "stderr",
     "output_type": "stream",
     "text": [
      "100%|██████████| 4397/4397 [00:13<00:00, 333.74it/s]\n",
      "100%|██████████| 359/359 [00:00<00:00, 908.50it/s]\n"
     ]
    },
    {
     "name": "stdout",
     "output_type": "stream",
     "text": [
      "Epoch [74/200], Train Loss: 14.8444, Test Loss: 18.4215\n"
     ]
    },
    {
     "name": "stderr",
     "output_type": "stream",
     "text": [
      "100%|██████████| 4397/4397 [00:13<00:00, 329.56it/s]\n",
      "100%|██████████| 359/359 [00:00<00:00, 885.60it/s]\n"
     ]
    },
    {
     "name": "stdout",
     "output_type": "stream",
     "text": [
      "Best Loss! >>  17.425849340752308\n",
      "Epoch [75/200], Train Loss: 14.8211, Test Loss: 17.4258\n"
     ]
    },
    {
     "name": "stderr",
     "output_type": "stream",
     "text": [
      "100%|██████████| 4397/4397 [00:13<00:00, 328.74it/s]\n",
      "100%|██████████| 359/359 [00:00<00:00, 909.41it/s]\n"
     ]
    },
    {
     "name": "stdout",
     "output_type": "stream",
     "text": [
      "Epoch [76/200], Train Loss: 14.8138, Test Loss: 17.4287\n"
     ]
    },
    {
     "name": "stderr",
     "output_type": "stream",
     "text": [
      "100%|██████████| 4397/4397 [00:14<00:00, 312.88it/s]\n",
      "100%|██████████| 359/359 [00:00<00:00, 853.52it/s]\n"
     ]
    },
    {
     "name": "stdout",
     "output_type": "stream",
     "text": [
      "Epoch [77/200], Train Loss: 14.8026, Test Loss: 17.8700\n"
     ]
    },
    {
     "name": "stderr",
     "output_type": "stream",
     "text": [
      "100%|██████████| 4397/4397 [00:13<00:00, 318.97it/s]\n",
      "100%|██████████| 359/359 [00:00<00:00, 897.82it/s]\n"
     ]
    },
    {
     "name": "stdout",
     "output_type": "stream",
     "text": [
      "Epoch [78/200], Train Loss: 14.8184, Test Loss: 17.5769\n"
     ]
    },
    {
     "name": "stderr",
     "output_type": "stream",
     "text": [
      "100%|██████████| 4397/4397 [00:13<00:00, 326.24it/s]\n",
      "100%|██████████| 359/359 [00:00<00:00, 895.24it/s]\n"
     ]
    },
    {
     "name": "stdout",
     "output_type": "stream",
     "text": [
      "Epoch [79/200], Train Loss: 14.7969, Test Loss: 17.4662\n"
     ]
    },
    {
     "name": "stderr",
     "output_type": "stream",
     "text": [
      "100%|██████████| 4397/4397 [00:13<00:00, 322.23it/s]\n",
      "100%|██████████| 359/359 [00:00<00:00, 896.02it/s]\n"
     ]
    },
    {
     "name": "stdout",
     "output_type": "stream",
     "text": [
      "Best Loss! >>  17.380331846996935\n",
      "Epoch [80/200], Train Loss: 14.8030, Test Loss: 17.3803\n"
     ]
    },
    {
     "name": "stderr",
     "output_type": "stream",
     "text": [
      "100%|██████████| 4397/4397 [00:13<00:00, 320.81it/s]\n",
      "100%|██████████| 359/359 [00:00<00:00, 865.14it/s]\n"
     ]
    },
    {
     "name": "stdout",
     "output_type": "stream",
     "text": [
      "Epoch [81/200], Train Loss: 14.7886, Test Loss: 18.7577\n"
     ]
    },
    {
     "name": "stderr",
     "output_type": "stream",
     "text": [
      "100%|██████████| 4397/4397 [00:13<00:00, 320.18it/s]\n",
      "100%|██████████| 359/359 [00:00<00:00, 911.38it/s]\n"
     ]
    },
    {
     "name": "stdout",
     "output_type": "stream",
     "text": [
      "Epoch [82/200], Train Loss: 14.8033, Test Loss: 18.5322\n"
     ]
    },
    {
     "name": "stderr",
     "output_type": "stream",
     "text": [
      "100%|██████████| 4397/4397 [00:13<00:00, 326.02it/s]\n",
      "100%|██████████| 359/359 [00:00<00:00, 864.48it/s]\n"
     ]
    },
    {
     "name": "stdout",
     "output_type": "stream",
     "text": [
      "Epoch [83/200], Train Loss: 14.7996, Test Loss: 17.3892\n"
     ]
    },
    {
     "name": "stderr",
     "output_type": "stream",
     "text": [
      "100%|██████████| 4397/4397 [00:13<00:00, 323.41it/s]\n",
      "100%|██████████| 359/359 [00:00<00:00, 804.97it/s]\n"
     ]
    },
    {
     "name": "stdout",
     "output_type": "stream",
     "text": [
      "Epoch [84/200], Train Loss: 14.8078, Test Loss: 18.7665\n"
     ]
    },
    {
     "name": "stderr",
     "output_type": "stream",
     "text": [
      "100%|██████████| 4397/4397 [00:13<00:00, 326.57it/s]\n",
      "100%|██████████| 359/359 [00:00<00:00, 761.65it/s]\n"
     ]
    },
    {
     "name": "stdout",
     "output_type": "stream",
     "text": [
      "Epoch [85/200], Train Loss: 14.8151, Test Loss: 18.1006\n"
     ]
    },
    {
     "name": "stderr",
     "output_type": "stream",
     "text": [
      "100%|██████████| 4397/4397 [00:13<00:00, 322.24it/s]\n",
      "100%|██████████| 359/359 [00:00<00:00, 907.60it/s]\n"
     ]
    },
    {
     "name": "stdout",
     "output_type": "stream",
     "text": [
      "Epoch [86/200], Train Loss: 14.8352, Test Loss: 17.9755\n"
     ]
    },
    {
     "name": "stderr",
     "output_type": "stream",
     "text": [
      "100%|██████████| 4397/4397 [00:13<00:00, 325.63it/s]\n",
      "100%|██████████| 359/359 [00:00<00:00, 928.96it/s]\n"
     ]
    },
    {
     "name": "stdout",
     "output_type": "stream",
     "text": [
      "Epoch [87/200], Train Loss: 14.8159, Test Loss: 18.1037\n"
     ]
    },
    {
     "name": "stderr",
     "output_type": "stream",
     "text": [
      "100%|██████████| 4397/4397 [00:13<00:00, 323.63it/s]\n",
      "100%|██████████| 359/359 [00:00<00:00, 930.33it/s]\n"
     ]
    },
    {
     "name": "stdout",
     "output_type": "stream",
     "text": [
      "Epoch 00088: reducing learning rate of group 0 to 2.0972e-03.\n",
      "Epoch [88/200], Train Loss: 14.7805, Test Loss: 18.3926\n"
     ]
    },
    {
     "name": "stderr",
     "output_type": "stream",
     "text": [
      "100%|██████████| 4397/4397 [00:13<00:00, 323.39it/s]\n",
      "100%|██████████| 359/359 [00:00<00:00, 902.66it/s]\n"
     ]
    },
    {
     "name": "stdout",
     "output_type": "stream",
     "text": [
      "Epoch [89/200], Train Loss: 14.6806, Test Loss: 17.5530\n"
     ]
    },
    {
     "name": "stderr",
     "output_type": "stream",
     "text": [
      "100%|██████████| 4397/4397 [00:13<00:00, 325.68it/s]\n",
      "100%|██████████| 359/359 [00:00<00:00, 897.41it/s]\n"
     ]
    },
    {
     "name": "stdout",
     "output_type": "stream",
     "text": [
      "Epoch [90/200], Train Loss: 14.6878, Test Loss: 17.7708\n"
     ]
    },
    {
     "name": "stderr",
     "output_type": "stream",
     "text": [
      "100%|██████████| 4397/4397 [00:13<00:00, 325.37it/s]\n",
      "100%|██████████| 359/359 [00:00<00:00, 715.97it/s]\n"
     ]
    },
    {
     "name": "stdout",
     "output_type": "stream",
     "text": [
      "Epoch [91/200], Train Loss: 14.6777, Test Loss: 17.5262\n"
     ]
    },
    {
     "name": "stderr",
     "output_type": "stream",
     "text": [
      "100%|██████████| 4397/4397 [00:13<00:00, 325.68it/s]\n",
      "100%|██████████| 359/359 [00:00<00:00, 882.13it/s]\n"
     ]
    },
    {
     "name": "stdout",
     "output_type": "stream",
     "text": [
      "Best Loss! >>  17.28427705525688\n",
      "Epoch [92/200], Train Loss: 14.6944, Test Loss: 17.2843\n"
     ]
    },
    {
     "name": "stderr",
     "output_type": "stream",
     "text": [
      "100%|██████████| 4397/4397 [00:13<00:00, 322.94it/s]\n",
      "100%|██████████| 359/359 [00:00<00:00, 902.12it/s]\n"
     ]
    },
    {
     "name": "stdout",
     "output_type": "stream",
     "text": [
      "Epoch [93/200], Train Loss: 14.6946, Test Loss: 17.7716\n"
     ]
    },
    {
     "name": "stderr",
     "output_type": "stream",
     "text": [
      "100%|██████████| 4397/4397 [00:13<00:00, 323.14it/s]\n",
      "100%|██████████| 359/359 [00:00<00:00, 907.70it/s]\n"
     ]
    },
    {
     "name": "stdout",
     "output_type": "stream",
     "text": [
      "Epoch [94/200], Train Loss: 14.6925, Test Loss: 18.0520\n"
     ]
    },
    {
     "name": "stderr",
     "output_type": "stream",
     "text": [
      "100%|██████████| 4397/4397 [00:13<00:00, 318.70it/s]\n",
      "100%|██████████| 359/359 [00:00<00:00, 911.10it/s]\n"
     ]
    },
    {
     "name": "stdout",
     "output_type": "stream",
     "text": [
      "Epoch [95/200], Train Loss: 14.6962, Test Loss: 17.6631\n"
     ]
    },
    {
     "name": "stderr",
     "output_type": "stream",
     "text": [
      "100%|██████████| 4397/4397 [00:13<00:00, 322.38it/s]\n",
      "100%|██████████| 359/359 [00:00<00:00, 889.88it/s]\n"
     ]
    },
    {
     "name": "stdout",
     "output_type": "stream",
     "text": [
      "Epoch [96/200], Train Loss: 14.6861, Test Loss: 18.5627\n"
     ]
    },
    {
     "name": "stderr",
     "output_type": "stream",
     "text": [
      "100%|██████████| 4397/4397 [00:13<00:00, 323.04it/s]\n",
      "100%|██████████| 359/359 [00:00<00:00, 909.56it/s]\n"
     ]
    },
    {
     "name": "stdout",
     "output_type": "stream",
     "text": [
      "Epoch [97/200], Train Loss: 14.6863, Test Loss: 17.5204\n"
     ]
    },
    {
     "name": "stderr",
     "output_type": "stream",
     "text": [
      "100%|██████████| 4397/4397 [00:13<00:00, 325.34it/s]\n",
      "100%|██████████| 359/359 [00:00<00:00, 901.00it/s]\n"
     ]
    },
    {
     "name": "stdout",
     "output_type": "stream",
     "text": [
      "Epoch [98/200], Train Loss: 14.7007, Test Loss: 17.4818\n"
     ]
    },
    {
     "name": "stderr",
     "output_type": "stream",
     "text": [
      "100%|██████████| 4397/4397 [00:13<00:00, 322.64it/s]\n",
      "100%|██████████| 359/359 [00:00<00:00, 911.47it/s]\n"
     ]
    },
    {
     "name": "stdout",
     "output_type": "stream",
     "text": [
      "Epoch [99/200], Train Loss: 14.7028, Test Loss: 17.5491\n"
     ]
    },
    {
     "name": "stderr",
     "output_type": "stream",
     "text": [
      "100%|██████████| 4397/4397 [00:13<00:00, 325.05it/s]\n",
      "100%|██████████| 359/359 [00:00<00:00, 896.35it/s]\n"
     ]
    },
    {
     "name": "stdout",
     "output_type": "stream",
     "text": [
      "Epoch 00100: reducing learning rate of group 0 to 1.6777e-03.\n",
      "Epoch [100/200], Train Loss: 14.6932, Test Loss: 18.0633\n"
     ]
    },
    {
     "name": "stderr",
     "output_type": "stream",
     "text": [
      "100%|██████████| 4397/4397 [00:13<00:00, 321.37it/s]\n",
      "100%|██████████| 359/359 [00:00<00:00, 903.39it/s]\n"
     ]
    },
    {
     "name": "stdout",
     "output_type": "stream",
     "text": [
      "Epoch [101/200], Train Loss: 14.6088, Test Loss: 17.3530\n"
     ]
    },
    {
     "name": "stderr",
     "output_type": "stream",
     "text": [
      "100%|██████████| 4397/4397 [00:13<00:00, 322.83it/s]\n",
      "100%|██████████| 359/359 [00:00<00:00, 911.92it/s]\n"
     ]
    },
    {
     "name": "stdout",
     "output_type": "stream",
     "text": [
      "Epoch [102/200], Train Loss: 14.6008, Test Loss: 17.9168\n"
     ]
    },
    {
     "name": "stderr",
     "output_type": "stream",
     "text": [
      "100%|██████████| 4397/4397 [00:13<00:00, 318.70it/s]\n",
      "100%|██████████| 359/359 [00:00<00:00, 898.74it/s]\n"
     ]
    },
    {
     "name": "stdout",
     "output_type": "stream",
     "text": [
      "Epoch [103/200], Train Loss: 14.6079, Test Loss: 17.6340\n"
     ]
    },
    {
     "name": "stderr",
     "output_type": "stream",
     "text": [
      "100%|██████████| 4397/4397 [00:13<00:00, 326.91it/s]\n",
      "100%|██████████| 359/359 [00:00<00:00, 899.88it/s]\n"
     ]
    },
    {
     "name": "stdout",
     "output_type": "stream",
     "text": [
      "Epoch [104/200], Train Loss: 14.6049, Test Loss: 17.4946\n"
     ]
    },
    {
     "name": "stderr",
     "output_type": "stream",
     "text": [
      "100%|██████████| 4397/4397 [00:13<00:00, 323.43it/s]\n",
      "100%|██████████| 359/359 [00:00<00:00, 895.11it/s]\n"
     ]
    },
    {
     "name": "stdout",
     "output_type": "stream",
     "text": [
      "Epoch [105/200], Train Loss: 14.5875, Test Loss: 17.6126\n"
     ]
    },
    {
     "name": "stderr",
     "output_type": "stream",
     "text": [
      "100%|██████████| 4397/4397 [00:13<00:00, 324.66it/s]\n",
      "100%|██████████| 359/359 [00:00<00:00, 860.40it/s]\n"
     ]
    },
    {
     "name": "stdout",
     "output_type": "stream",
     "text": [
      "Epoch [106/200], Train Loss: 14.6128, Test Loss: 17.4695\n"
     ]
    },
    {
     "name": "stderr",
     "output_type": "stream",
     "text": [
      "100%|██████████| 4397/4397 [00:13<00:00, 325.32it/s]\n",
      "100%|██████████| 359/359 [00:00<00:00, 861.66it/s]\n"
     ]
    },
    {
     "name": "stdout",
     "output_type": "stream",
     "text": [
      "Epoch [107/200], Train Loss: 14.6201, Test Loss: 17.4993\n"
     ]
    },
    {
     "name": "stderr",
     "output_type": "stream",
     "text": [
      "100%|██████████| 4397/4397 [00:13<00:00, 326.20it/s]\n",
      "100%|██████████| 359/359 [00:00<00:00, 886.67it/s]\n"
     ]
    },
    {
     "name": "stdout",
     "output_type": "stream",
     "text": [
      "Epoch 00108: reducing learning rate of group 0 to 1.3422e-03.\n",
      "Epoch [108/200], Train Loss: 14.6137, Test Loss: 17.5756\n"
     ]
    },
    {
     "name": "stderr",
     "output_type": "stream",
     "text": [
      "100%|██████████| 4397/4397 [00:13<00:00, 325.63it/s]\n",
      "100%|██████████| 359/359 [00:00<00:00, 903.64it/s]\n"
     ]
    },
    {
     "name": "stdout",
     "output_type": "stream",
     "text": [
      "Epoch [109/200], Train Loss: 14.5336, Test Loss: 17.9429\n"
     ]
    },
    {
     "name": "stderr",
     "output_type": "stream",
     "text": [
      "100%|██████████| 4397/4397 [00:13<00:00, 323.97it/s]\n",
      "100%|██████████| 359/359 [00:00<00:00, 902.17it/s]\n"
     ]
    },
    {
     "name": "stdout",
     "output_type": "stream",
     "text": [
      "Best Loss! >>  17.200525637124574\n",
      "Epoch [110/200], Train Loss: 14.5365, Test Loss: 17.2005\n"
     ]
    },
    {
     "name": "stderr",
     "output_type": "stream",
     "text": [
      "100%|██████████| 4397/4397 [00:13<00:00, 325.05it/s]\n",
      "100%|██████████| 359/359 [00:00<00:00, 916.48it/s]\n"
     ]
    },
    {
     "name": "stdout",
     "output_type": "stream",
     "text": [
      "Epoch [111/200], Train Loss: 14.5426, Test Loss: 17.3789\n"
     ]
    },
    {
     "name": "stderr",
     "output_type": "stream",
     "text": [
      "100%|██████████| 4397/4397 [00:13<00:00, 322.85it/s]\n",
      "100%|██████████| 359/359 [00:00<00:00, 885.10it/s]\n"
     ]
    },
    {
     "name": "stdout",
     "output_type": "stream",
     "text": [
      "Epoch [112/200], Train Loss: 14.5362, Test Loss: 17.2517\n"
     ]
    },
    {
     "name": "stderr",
     "output_type": "stream",
     "text": [
      "100%|██████████| 4397/4397 [00:13<00:00, 325.44it/s]\n",
      "100%|██████████| 359/359 [00:00<00:00, 865.93it/s]\n"
     ]
    },
    {
     "name": "stdout",
     "output_type": "stream",
     "text": [
      "Epoch [113/200], Train Loss: 14.5464, Test Loss: 17.5603\n"
     ]
    },
    {
     "name": "stderr",
     "output_type": "stream",
     "text": [
      "100%|██████████| 4397/4397 [00:13<00:00, 323.49it/s]\n",
      "100%|██████████| 359/359 [00:00<00:00, 657.19it/s]\n"
     ]
    },
    {
     "name": "stdout",
     "output_type": "stream",
     "text": [
      "Epoch [114/200], Train Loss: 14.5268, Test Loss: 17.7084\n"
     ]
    },
    {
     "name": "stderr",
     "output_type": "stream",
     "text": [
      "100%|██████████| 4397/4397 [00:13<00:00, 323.36it/s]\n",
      "100%|██████████| 359/359 [00:00<00:00, 866.96it/s]\n"
     ]
    },
    {
     "name": "stdout",
     "output_type": "stream",
     "text": [
      "Epoch [115/200], Train Loss: 14.5318, Test Loss: 17.9607\n"
     ]
    },
    {
     "name": "stderr",
     "output_type": "stream",
     "text": [
      "100%|██████████| 4397/4397 [00:13<00:00, 322.30it/s]\n",
      "100%|██████████| 359/359 [00:00<00:00, 899.57it/s]\n"
     ]
    },
    {
     "name": "stdout",
     "output_type": "stream",
     "text": [
      "Epoch [116/200], Train Loss: 14.5204, Test Loss: 17.6603\n"
     ]
    },
    {
     "name": "stderr",
     "output_type": "stream",
     "text": [
      "100%|██████████| 4397/4397 [00:13<00:00, 327.02it/s]\n",
      "100%|██████████| 359/359 [00:00<00:00, 897.05it/s]\n"
     ]
    },
    {
     "name": "stdout",
     "output_type": "stream",
     "text": [
      "Best Loss! >>  17.170527864631506\n",
      "Epoch [117/200], Train Loss: 14.5257, Test Loss: 17.1705\n"
     ]
    },
    {
     "name": "stderr",
     "output_type": "stream",
     "text": [
      "100%|██████████| 4397/4397 [00:13<00:00, 327.25it/s]\n",
      "100%|██████████| 359/359 [00:00<00:00, 921.10it/s]\n"
     ]
    },
    {
     "name": "stdout",
     "output_type": "stream",
     "text": [
      "Epoch [118/200], Train Loss: 14.5264, Test Loss: 17.4353\n"
     ]
    },
    {
     "name": "stderr",
     "output_type": "stream",
     "text": [
      "100%|██████████| 4397/4397 [00:13<00:00, 328.67it/s]\n",
      "100%|██████████| 359/359 [00:00<00:00, 853.64it/s]\n"
     ]
    },
    {
     "name": "stdout",
     "output_type": "stream",
     "text": [
      "Epoch [119/200], Train Loss: 14.5259, Test Loss: 17.7543\n"
     ]
    },
    {
     "name": "stderr",
     "output_type": "stream",
     "text": [
      "100%|██████████| 4397/4397 [00:13<00:00, 328.63it/s]\n",
      "100%|██████████| 359/359 [00:00<00:00, 904.35it/s]\n"
     ]
    },
    {
     "name": "stdout",
     "output_type": "stream",
     "text": [
      "Epoch [120/200], Train Loss: 14.5316, Test Loss: 17.9467\n"
     ]
    },
    {
     "name": "stderr",
     "output_type": "stream",
     "text": [
      "100%|██████████| 4397/4397 [00:13<00:00, 328.12it/s]\n",
      "100%|██████████| 359/359 [00:00<00:00, 939.19it/s]\n"
     ]
    },
    {
     "name": "stdout",
     "output_type": "stream",
     "text": [
      "Epoch [121/200], Train Loss: 14.5282, Test Loss: 18.0116\n"
     ]
    },
    {
     "name": "stderr",
     "output_type": "stream",
     "text": [
      "100%|██████████| 4397/4397 [00:13<00:00, 330.91it/s]\n",
      "100%|██████████| 359/359 [00:00<00:00, 917.25it/s]\n"
     ]
    },
    {
     "name": "stdout",
     "output_type": "stream",
     "text": [
      "Epoch [122/200], Train Loss: 14.5225, Test Loss: 17.5272\n"
     ]
    },
    {
     "name": "stderr",
     "output_type": "stream",
     "text": [
      "100%|██████████| 4397/4397 [00:13<00:00, 327.35it/s]\n",
      "100%|██████████| 359/359 [00:00<00:00, 924.58it/s]\n"
     ]
    },
    {
     "name": "stdout",
     "output_type": "stream",
     "text": [
      "Epoch [123/200], Train Loss: 14.5099, Test Loss: 17.2818\n"
     ]
    },
    {
     "name": "stderr",
     "output_type": "stream",
     "text": [
      "100%|██████████| 4397/4397 [00:13<00:00, 327.01it/s]\n",
      "100%|██████████| 359/359 [00:00<00:00, 916.77it/s]\n"
     ]
    },
    {
     "name": "stdout",
     "output_type": "stream",
     "text": [
      "Epoch [124/200], Train Loss: 14.5117, Test Loss: 17.3720\n"
     ]
    },
    {
     "name": "stderr",
     "output_type": "stream",
     "text": [
      "100%|██████████| 4397/4397 [00:14<00:00, 312.24it/s]\n",
      "100%|██████████| 359/359 [00:00<00:00, 1023.78it/s]\n"
     ]
    },
    {
     "name": "stdout",
     "output_type": "stream",
     "text": [
      "Epoch 00125: reducing learning rate of group 0 to 1.0737e-03.\n",
      "Epoch [125/200], Train Loss: 14.5220, Test Loss: 17.2254\n"
     ]
    },
    {
     "name": "stderr",
     "output_type": "stream",
     "text": [
      "100%|██████████| 4397/4397 [00:13<00:00, 314.24it/s]\n",
      "100%|██████████| 359/359 [00:00<00:00, 1139.14it/s]\n"
     ]
    },
    {
     "name": "stdout",
     "output_type": "stream",
     "text": [
      "Epoch [126/200], Train Loss: 14.4791, Test Loss: 17.2696\n"
     ]
    },
    {
     "name": "stderr",
     "output_type": "stream",
     "text": [
      "100%|██████████| 4397/4397 [00:13<00:00, 327.52it/s]\n",
      "100%|██████████| 359/359 [00:00<00:00, 1007.22it/s]\n"
     ]
    },
    {
     "name": "stdout",
     "output_type": "stream",
     "text": [
      "Epoch [127/200], Train Loss: 14.4712, Test Loss: 17.4702\n"
     ]
    },
    {
     "name": "stderr",
     "output_type": "stream",
     "text": [
      "100%|██████████| 4397/4397 [00:12<00:00, 340.13it/s]\n",
      "100%|██████████| 359/359 [00:00<00:00, 986.86it/s] \n"
     ]
    },
    {
     "name": "stdout",
     "output_type": "stream",
     "text": [
      "Epoch [128/200], Train Loss: 14.4672, Test Loss: 17.1842\n"
     ]
    },
    {
     "name": "stderr",
     "output_type": "stream",
     "text": [
      "100%|██████████| 4397/4397 [00:13<00:00, 333.58it/s]\n",
      "100%|██████████| 359/359 [00:00<00:00, 989.84it/s] \n"
     ]
    },
    {
     "name": "stdout",
     "output_type": "stream",
     "text": [
      "Epoch [129/200], Train Loss: 14.4782, Test Loss: 17.3583\n"
     ]
    },
    {
     "name": "stderr",
     "output_type": "stream",
     "text": [
      "100%|██████████| 4397/4397 [00:13<00:00, 330.90it/s]\n",
      "100%|██████████| 359/359 [00:00<00:00, 990.74it/s]\n"
     ]
    },
    {
     "name": "stdout",
     "output_type": "stream",
     "text": [
      "Epoch [130/200], Train Loss: 14.4608, Test Loss: 17.3443\n"
     ]
    },
    {
     "name": "stderr",
     "output_type": "stream",
     "text": [
      "100%|██████████| 4397/4397 [00:13<00:00, 321.14it/s]\n",
      "100%|██████████| 359/359 [00:00<00:00, 929.34it/s]\n"
     ]
    },
    {
     "name": "stdout",
     "output_type": "stream",
     "text": [
      "Best Loss! >>  17.16750326926994\n",
      "Epoch [131/200], Train Loss: 14.4624, Test Loss: 17.1675\n"
     ]
    },
    {
     "name": "stderr",
     "output_type": "stream",
     "text": [
      "100%|██████████| 4397/4397 [00:13<00:00, 326.45it/s]\n",
      "100%|██████████| 359/359 [00:00<00:00, 986.01it/s] \n"
     ]
    },
    {
     "name": "stdout",
     "output_type": "stream",
     "text": [
      "Epoch [132/200], Train Loss: 14.4614, Test Loss: 17.5109\n"
     ]
    },
    {
     "name": "stderr",
     "output_type": "stream",
     "text": [
      "100%|██████████| 4397/4397 [00:13<00:00, 327.72it/s]\n",
      "100%|██████████| 359/359 [00:00<00:00, 973.08it/s]\n"
     ]
    },
    {
     "name": "stdout",
     "output_type": "stream",
     "text": [
      "Epoch [133/200], Train Loss: 14.4745, Test Loss: 17.8633\n"
     ]
    },
    {
     "name": "stderr",
     "output_type": "stream",
     "text": [
      "100%|██████████| 4397/4397 [00:13<00:00, 332.09it/s]\n",
      "100%|██████████| 359/359 [00:00<00:00, 835.14it/s]\n"
     ]
    },
    {
     "name": "stdout",
     "output_type": "stream",
     "text": [
      "Epoch [134/200], Train Loss: 14.4696, Test Loss: 17.2480\n"
     ]
    },
    {
     "name": "stderr",
     "output_type": "stream",
     "text": [
      "100%|██████████| 4397/4397 [00:13<00:00, 330.45it/s]\n",
      "100%|██████████| 359/359 [00:00<00:00, 941.17it/s]\n"
     ]
    },
    {
     "name": "stdout",
     "output_type": "stream",
     "text": [
      "Epoch [135/200], Train Loss: 14.4618, Test Loss: 17.2007\n"
     ]
    },
    {
     "name": "stderr",
     "output_type": "stream",
     "text": [
      "100%|██████████| 4397/4397 [00:13<00:00, 330.20it/s]\n",
      "100%|██████████| 359/359 [00:00<00:00, 853.69it/s]\n"
     ]
    },
    {
     "name": "stdout",
     "output_type": "stream",
     "text": [
      "Best Loss! >>  17.118671321603248\n",
      "Epoch [136/200], Train Loss: 14.4750, Test Loss: 17.1187\n"
     ]
    },
    {
     "name": "stderr",
     "output_type": "stream",
     "text": [
      "100%|██████████| 4397/4397 [00:13<00:00, 329.35it/s]\n",
      "100%|██████████| 359/359 [00:00<00:00, 931.95it/s]\n"
     ]
    },
    {
     "name": "stdout",
     "output_type": "stream",
     "text": [
      "Epoch [137/200], Train Loss: 14.4502, Test Loss: 17.3558\n"
     ]
    },
    {
     "name": "stderr",
     "output_type": "stream",
     "text": [
      "100%|██████████| 4397/4397 [00:13<00:00, 327.20it/s]\n",
      "100%|██████████| 359/359 [00:00<00:00, 960.69it/s]\n"
     ]
    },
    {
     "name": "stdout",
     "output_type": "stream",
     "text": [
      "Epoch [138/200], Train Loss: 14.4610, Test Loss: 17.4776\n"
     ]
    },
    {
     "name": "stderr",
     "output_type": "stream",
     "text": [
      "100%|██████████| 4397/4397 [00:13<00:00, 328.09it/s]\n",
      "100%|██████████| 359/359 [00:00<00:00, 866.58it/s]\n"
     ]
    },
    {
     "name": "stdout",
     "output_type": "stream",
     "text": [
      "Epoch [139/200], Train Loss: 14.4607, Test Loss: 17.7724\n"
     ]
    },
    {
     "name": "stderr",
     "output_type": "stream",
     "text": [
      "100%|██████████| 4397/4397 [00:12<00:00, 339.13it/s]\n",
      "100%|██████████| 359/359 [00:00<00:00, 987.71it/s]\n"
     ]
    },
    {
     "name": "stdout",
     "output_type": "stream",
     "text": [
      "Epoch [140/200], Train Loss: 14.4565, Test Loss: 17.2478\n"
     ]
    },
    {
     "name": "stderr",
     "output_type": "stream",
     "text": [
      "100%|██████████| 4397/4397 [00:13<00:00, 336.80it/s]\n",
      "100%|██████████| 359/359 [00:00<00:00, 980.81it/s]\n"
     ]
    },
    {
     "name": "stdout",
     "output_type": "stream",
     "text": [
      "Epoch [141/200], Train Loss: 14.4628, Test Loss: 17.6382\n"
     ]
    },
    {
     "name": "stderr",
     "output_type": "stream",
     "text": [
      "100%|██████████| 4397/4397 [00:13<00:00, 336.53it/s]\n",
      "100%|██████████| 359/359 [00:00<00:00, 993.06it/s] \n"
     ]
    },
    {
     "name": "stdout",
     "output_type": "stream",
     "text": [
      "Epoch [142/200], Train Loss: 14.4582, Test Loss: 17.3276\n"
     ]
    },
    {
     "name": "stderr",
     "output_type": "stream",
     "text": [
      "100%|██████████| 4397/4397 [00:12<00:00, 340.71it/s]\n",
      "100%|██████████| 359/359 [00:00<00:00, 1023.58it/s]\n"
     ]
    },
    {
     "name": "stdout",
     "output_type": "stream",
     "text": [
      "Epoch [143/200], Train Loss: 14.4662, Test Loss: 17.5951\n"
     ]
    },
    {
     "name": "stderr",
     "output_type": "stream",
     "text": [
      "100%|██████████| 4397/4397 [00:13<00:00, 334.28it/s]\n",
      "100%|██████████| 359/359 [00:00<00:00, 867.60it/s]\n"
     ]
    },
    {
     "name": "stdout",
     "output_type": "stream",
     "text": [
      "Epoch 00144: reducing learning rate of group 0 to 8.5899e-04.\n",
      "Epoch [144/200], Train Loss: 14.4691, Test Loss: 17.6652\n"
     ]
    },
    {
     "name": "stderr",
     "output_type": "stream",
     "text": [
      "100%|██████████| 4397/4397 [00:12<00:00, 342.77it/s]\n",
      "100%|██████████| 359/359 [00:00<00:00, 1031.44it/s]\n"
     ]
    },
    {
     "name": "stdout",
     "output_type": "stream",
     "text": [
      "Epoch [145/200], Train Loss: 14.4094, Test Loss: 17.1248\n"
     ]
    },
    {
     "name": "stderr",
     "output_type": "stream",
     "text": [
      "100%|██████████| 4397/4397 [00:13<00:00, 331.90it/s]\n",
      "100%|██████████| 359/359 [00:00<00:00, 839.07it/s]\n"
     ]
    },
    {
     "name": "stdout",
     "output_type": "stream",
     "text": [
      "Epoch [146/200], Train Loss: 14.4041, Test Loss: 17.1676\n"
     ]
    },
    {
     "name": "stderr",
     "output_type": "stream",
     "text": [
      "100%|██████████| 4397/4397 [00:13<00:00, 337.35it/s]\n",
      "100%|██████████| 359/359 [00:00<00:00, 1019.73it/s]\n"
     ]
    },
    {
     "name": "stdout",
     "output_type": "stream",
     "text": [
      "Epoch [147/200], Train Loss: 14.4229, Test Loss: 17.2854\n"
     ]
    },
    {
     "name": "stderr",
     "output_type": "stream",
     "text": [
      "100%|██████████| 4397/4397 [00:12<00:00, 338.45it/s]\n",
      "100%|██████████| 359/359 [00:00<00:00, 955.07it/s]\n"
     ]
    },
    {
     "name": "stdout",
     "output_type": "stream",
     "text": [
      "Epoch [148/200], Train Loss: 14.4292, Test Loss: 17.2025\n"
     ]
    },
    {
     "name": "stderr",
     "output_type": "stream",
     "text": [
      "100%|██████████| 4397/4397 [00:13<00:00, 324.62it/s]\n",
      "100%|██████████| 359/359 [00:00<00:00, 932.82it/s]\n"
     ]
    },
    {
     "name": "stdout",
     "output_type": "stream",
     "text": [
      "Best Loss! >>  17.11851910296257\n",
      "Epoch [149/200], Train Loss: 14.4234, Test Loss: 17.1185\n"
     ]
    },
    {
     "name": "stderr",
     "output_type": "stream",
     "text": [
      "100%|██████████| 4397/4397 [00:13<00:00, 320.02it/s]\n",
      "100%|██████████| 359/359 [00:00<00:00, 977.37it/s]\n"
     ]
    },
    {
     "name": "stdout",
     "output_type": "stream",
     "text": [
      "Best Loss! >>  17.116303853005753\n",
      "Epoch [150/200], Train Loss: 14.4250, Test Loss: 17.1163\n"
     ]
    },
    {
     "name": "stderr",
     "output_type": "stream",
     "text": [
      "100%|██████████| 4397/4397 [00:13<00:00, 330.45it/s]\n",
      "100%|██████████| 359/359 [00:00<00:00, 955.70it/s]\n"
     ]
    },
    {
     "name": "stdout",
     "output_type": "stream",
     "text": [
      "Epoch [151/200], Train Loss: 14.4144, Test Loss: 17.3990\n"
     ]
    },
    {
     "name": "stderr",
     "output_type": "stream",
     "text": [
      "100%|██████████| 4397/4397 [00:13<00:00, 318.33it/s]\n",
      "100%|██████████| 359/359 [00:00<00:00, 891.89it/s]\n"
     ]
    },
    {
     "name": "stdout",
     "output_type": "stream",
     "text": [
      "Epoch [152/200], Train Loss: 14.4057, Test Loss: 17.3868\n"
     ]
    },
    {
     "name": "stderr",
     "output_type": "stream",
     "text": [
      "100%|██████████| 4397/4397 [00:13<00:00, 320.09it/s]\n",
      "100%|██████████| 359/359 [00:00<00:00, 960.73it/s]\n"
     ]
    },
    {
     "name": "stdout",
     "output_type": "stream",
     "text": [
      "Epoch [153/200], Train Loss: 14.4155, Test Loss: 17.4093\n"
     ]
    },
    {
     "name": "stderr",
     "output_type": "stream",
     "text": [
      "100%|██████████| 4397/4397 [00:13<00:00, 331.02it/s]\n",
      "100%|██████████| 359/359 [00:00<00:00, 964.85it/s]\n"
     ]
    },
    {
     "name": "stdout",
     "output_type": "stream",
     "text": [
      "Epoch [154/200], Train Loss: 14.4152, Test Loss: 17.3496\n"
     ]
    },
    {
     "name": "stderr",
     "output_type": "stream",
     "text": [
      "100%|██████████| 4397/4397 [00:13<00:00, 321.57it/s]\n",
      "100%|██████████| 359/359 [00:00<00:00, 929.68it/s]\n"
     ]
    },
    {
     "name": "stdout",
     "output_type": "stream",
     "text": [
      "Epoch [155/200], Train Loss: 14.4178, Test Loss: 17.3226\n"
     ]
    },
    {
     "name": "stderr",
     "output_type": "stream",
     "text": [
      "100%|██████████| 4397/4397 [00:13<00:00, 332.66it/s]\n",
      "100%|██████████| 359/359 [00:00<00:00, 989.87it/s]\n"
     ]
    },
    {
     "name": "stdout",
     "output_type": "stream",
     "text": [
      "Epoch [156/200], Train Loss: 14.4179, Test Loss: 17.3302\n"
     ]
    },
    {
     "name": "stderr",
     "output_type": "stream",
     "text": [
      "100%|██████████| 4397/4397 [00:13<00:00, 328.91it/s]\n",
      "100%|██████████| 359/359 [00:00<00:00, 935.10it/s]\n"
     ]
    },
    {
     "name": "stdout",
     "output_type": "stream",
     "text": [
      "Epoch [157/200], Train Loss: 14.4203, Test Loss: 17.1479\n"
     ]
    },
    {
     "name": "stderr",
     "output_type": "stream",
     "text": [
      "100%|██████████| 4397/4397 [00:13<00:00, 333.28it/s]\n",
      "100%|██████████| 359/359 [00:00<00:00, 857.18it/s]\n"
     ]
    },
    {
     "name": "stdout",
     "output_type": "stream",
     "text": [
      "Epoch 00158: reducing learning rate of group 0 to 6.8719e-04.\n",
      "Epoch [158/200], Train Loss: 14.4193, Test Loss: 17.5272\n"
     ]
    },
    {
     "name": "stderr",
     "output_type": "stream",
     "text": [
      "100%|██████████| 4397/4397 [00:13<00:00, 331.69it/s]\n",
      "100%|██████████| 359/359 [00:00<00:00, 884.36it/s]\n"
     ]
    },
    {
     "name": "stdout",
     "output_type": "stream",
     "text": [
      "Epoch [159/200], Train Loss: 14.3867, Test Loss: 17.2457\n"
     ]
    },
    {
     "name": "stderr",
     "output_type": "stream",
     "text": [
      "100%|██████████| 4397/4397 [00:13<00:00, 331.85it/s]\n",
      "100%|██████████| 359/359 [00:00<00:00, 974.85it/s]\n"
     ]
    },
    {
     "name": "stdout",
     "output_type": "stream",
     "text": [
      "Epoch [160/200], Train Loss: 14.3765, Test Loss: 17.4689\n"
     ]
    },
    {
     "name": "stderr",
     "output_type": "stream",
     "text": [
      "100%|██████████| 4397/4397 [00:13<00:00, 329.99it/s]\n",
      "100%|██████████| 359/359 [00:00<00:00, 722.25it/s]\n"
     ]
    },
    {
     "name": "stdout",
     "output_type": "stream",
     "text": [
      "Epoch [161/200], Train Loss: 14.3798, Test Loss: 17.2248\n"
     ]
    },
    {
     "name": "stderr",
     "output_type": "stream",
     "text": [
      "100%|██████████| 4397/4397 [00:13<00:00, 334.70it/s]\n",
      "100%|██████████| 359/359 [00:00<00:00, 974.97it/s] \n"
     ]
    },
    {
     "name": "stdout",
     "output_type": "stream",
     "text": [
      "Best Loss! >>  17.112463358717044\n",
      "Epoch [162/200], Train Loss: 14.3782, Test Loss: 17.1125\n"
     ]
    },
    {
     "name": "stderr",
     "output_type": "stream",
     "text": [
      "100%|██████████| 4397/4397 [00:13<00:00, 335.80it/s]\n",
      "100%|██████████| 359/359 [00:00<00:00, 947.65it/s]\n"
     ]
    },
    {
     "name": "stdout",
     "output_type": "stream",
     "text": [
      "Best Loss! >>  17.07958677286557\n",
      "Epoch [163/200], Train Loss: 14.3784, Test Loss: 17.0796\n"
     ]
    },
    {
     "name": "stderr",
     "output_type": "stream",
     "text": [
      "100%|██████████| 4397/4397 [00:13<00:00, 333.64it/s]\n",
      "100%|██████████| 359/359 [00:00<00:00, 969.04it/s]\n"
     ]
    },
    {
     "name": "stdout",
     "output_type": "stream",
     "text": [
      "Epoch [164/200], Train Loss: 14.3817, Test Loss: 17.5223\n"
     ]
    },
    {
     "name": "stderr",
     "output_type": "stream",
     "text": [
      "100%|██████████| 4397/4397 [00:12<00:00, 341.24it/s]\n",
      "100%|██████████| 359/359 [00:00<00:00, 992.14it/s] \n"
     ]
    },
    {
     "name": "stdout",
     "output_type": "stream",
     "text": [
      "Best Loss! >>  17.075176058373412\n",
      "Epoch [165/200], Train Loss: 14.3796, Test Loss: 17.0752\n"
     ]
    },
    {
     "name": "stderr",
     "output_type": "stream",
     "text": [
      "100%|██████████| 4397/4397 [00:13<00:00, 332.84it/s]\n",
      "100%|██████████| 359/359 [00:00<00:00, 988.10it/s]\n"
     ]
    },
    {
     "name": "stdout",
     "output_type": "stream",
     "text": [
      "Epoch [166/200], Train Loss: 14.3766, Test Loss: 17.3813\n"
     ]
    },
    {
     "name": "stderr",
     "output_type": "stream",
     "text": [
      "100%|██████████| 4397/4397 [00:13<00:00, 334.28it/s]\n",
      "100%|██████████| 359/359 [00:00<00:00, 1002.18it/s]\n"
     ]
    },
    {
     "name": "stdout",
     "output_type": "stream",
     "text": [
      "Epoch [167/200], Train Loss: 14.3769, Test Loss: 17.1345\n"
     ]
    },
    {
     "name": "stderr",
     "output_type": "stream",
     "text": [
      "100%|██████████| 4397/4397 [00:12<00:00, 338.47it/s]\n",
      "100%|██████████| 359/359 [00:00<00:00, 888.22it/s]\n"
     ]
    },
    {
     "name": "stdout",
     "output_type": "stream",
     "text": [
      "Epoch [168/200], Train Loss: 14.3738, Test Loss: 17.0983\n"
     ]
    },
    {
     "name": "stderr",
     "output_type": "stream",
     "text": [
      "100%|██████████| 4397/4397 [00:12<00:00, 338.52it/s]\n",
      "100%|██████████| 359/359 [00:00<00:00, 914.59it/s] \n"
     ]
    },
    {
     "name": "stdout",
     "output_type": "stream",
     "text": [
      "Epoch [169/200], Train Loss: 14.3768, Test Loss: 17.2431\n"
     ]
    },
    {
     "name": "stderr",
     "output_type": "stream",
     "text": [
      "100%|██████████| 4397/4397 [00:13<00:00, 337.17it/s]\n",
      "100%|██████████| 359/359 [00:00<00:00, 995.06it/s] \n"
     ]
    },
    {
     "name": "stdout",
     "output_type": "stream",
     "text": [
      "Epoch [170/200], Train Loss: 14.3758, Test Loss: 17.2536\n"
     ]
    },
    {
     "name": "stderr",
     "output_type": "stream",
     "text": [
      "100%|██████████| 4397/4397 [00:12<00:00, 340.00it/s]\n",
      "100%|██████████| 359/359 [00:00<00:00, 959.89it/s]\n"
     ]
    },
    {
     "name": "stdout",
     "output_type": "stream",
     "text": [
      "Epoch [171/200], Train Loss: 14.3722, Test Loss: 17.1785\n"
     ]
    },
    {
     "name": "stderr",
     "output_type": "stream",
     "text": [
      "100%|██████████| 4397/4397 [00:12<00:00, 338.53it/s]\n",
      "100%|██████████| 359/359 [00:00<00:00, 984.93it/s]\n"
     ]
    },
    {
     "name": "stdout",
     "output_type": "stream",
     "text": [
      "Epoch [172/200], Train Loss: 14.3737, Test Loss: 17.3130\n"
     ]
    },
    {
     "name": "stderr",
     "output_type": "stream",
     "text": [
      "100%|██████████| 4397/4397 [00:14<00:00, 306.77it/s]\n",
      "100%|██████████| 359/359 [00:00<00:00, 871.94it/s]\n"
     ]
    },
    {
     "name": "stdout",
     "output_type": "stream",
     "text": [
      "Epoch 00173: reducing learning rate of group 0 to 5.4976e-04.\n",
      "Epoch [173/200], Train Loss: 14.3820, Test Loss: 17.1722\n"
     ]
    },
    {
     "name": "stderr",
     "output_type": "stream",
     "text": [
      "100%|██████████| 4397/4397 [00:13<00:00, 331.50it/s]\n",
      "100%|██████████| 359/359 [00:00<00:00, 730.86it/s]\n"
     ]
    },
    {
     "name": "stdout",
     "output_type": "stream",
     "text": [
      "Epoch [174/200], Train Loss: 14.3441, Test Loss: 17.1061\n"
     ]
    },
    {
     "name": "stderr",
     "output_type": "stream",
     "text": [
      "100%|██████████| 4397/4397 [00:13<00:00, 328.26it/s]\n",
      "100%|██████████| 359/359 [00:00<00:00, 820.95it/s]\n"
     ]
    },
    {
     "name": "stdout",
     "output_type": "stream",
     "text": [
      "Epoch [175/200], Train Loss: 14.3505, Test Loss: 17.2950\n"
     ]
    },
    {
     "name": "stderr",
     "output_type": "stream",
     "text": [
      "100%|██████████| 4397/4397 [00:13<00:00, 326.73it/s]\n",
      "100%|██████████| 359/359 [00:00<00:00, 888.09it/s]\n"
     ]
    },
    {
     "name": "stdout",
     "output_type": "stream",
     "text": [
      "Epoch [176/200], Train Loss: 14.3536, Test Loss: 17.2447\n"
     ]
    },
    {
     "name": "stderr",
     "output_type": "stream",
     "text": [
      "100%|██████████| 4397/4397 [00:13<00:00, 324.91it/s]\n",
      "100%|██████████| 359/359 [00:00<00:00, 908.54it/s]\n"
     ]
    },
    {
     "name": "stdout",
     "output_type": "stream",
     "text": [
      "Epoch [177/200], Train Loss: 14.3458, Test Loss: 17.1116\n"
     ]
    },
    {
     "name": "stderr",
     "output_type": "stream",
     "text": [
      "100%|██████████| 4397/4397 [00:13<00:00, 329.21it/s]\n",
      "100%|██████████| 359/359 [00:00<00:00, 929.85it/s]\n"
     ]
    },
    {
     "name": "stdout",
     "output_type": "stream",
     "text": [
      "Epoch [178/200], Train Loss: 14.3508, Test Loss: 17.4247\n"
     ]
    },
    {
     "name": "stderr",
     "output_type": "stream",
     "text": [
      "100%|██████████| 4397/4397 [00:13<00:00, 326.35it/s]\n",
      "100%|██████████| 359/359 [00:00<00:00, 898.77it/s]\n"
     ]
    },
    {
     "name": "stdout",
     "output_type": "stream",
     "text": [
      "Epoch [179/200], Train Loss: 14.3427, Test Loss: 17.2570\n"
     ]
    },
    {
     "name": "stderr",
     "output_type": "stream",
     "text": [
      "100%|██████████| 4397/4397 [00:13<00:00, 325.60it/s]\n",
      "100%|██████████| 359/359 [00:00<00:00, 884.71it/s]\n"
     ]
    },
    {
     "name": "stdout",
     "output_type": "stream",
     "text": [
      "Epoch [180/200], Train Loss: 14.3524, Test Loss: 17.0847\n"
     ]
    },
    {
     "name": "stderr",
     "output_type": "stream",
     "text": [
      "100%|██████████| 4397/4397 [00:13<00:00, 322.25it/s]\n",
      "100%|██████████| 359/359 [00:00<00:00, 836.58it/s]\n"
     ]
    },
    {
     "name": "stdout",
     "output_type": "stream",
     "text": [
      "Epoch 00181: reducing learning rate of group 0 to 4.3980e-04.\n",
      "Epoch [181/200], Train Loss: 14.3391, Test Loss: 17.1870\n"
     ]
    },
    {
     "name": "stderr",
     "output_type": "stream",
     "text": [
      "100%|██████████| 4397/4397 [00:13<00:00, 327.08it/s]\n",
      "100%|██████████| 359/359 [00:00<00:00, 923.11it/s]\n"
     ]
    },
    {
     "name": "stdout",
     "output_type": "stream",
     "text": [
      "Epoch [182/200], Train Loss: 14.3234, Test Loss: 17.1188\n"
     ]
    },
    {
     "name": "stderr",
     "output_type": "stream",
     "text": [
      "100%|██████████| 4397/4397 [00:13<00:00, 324.97it/s]\n",
      "100%|██████████| 359/359 [00:00<00:00, 853.76it/s]\n"
     ]
    },
    {
     "name": "stdout",
     "output_type": "stream",
     "text": [
      "Best Loss! >>  17.035768793153895\n",
      "Epoch [183/200], Train Loss: 14.3201, Test Loss: 17.0358\n"
     ]
    },
    {
     "name": "stderr",
     "output_type": "stream",
     "text": [
      "100%|██████████| 4397/4397 [00:13<00:00, 323.27it/s]\n",
      "100%|██████████| 359/359 [00:00<00:00, 899.93it/s]\n"
     ]
    },
    {
     "name": "stdout",
     "output_type": "stream",
     "text": [
      "Epoch [184/200], Train Loss: 14.3180, Test Loss: 17.1031\n"
     ]
    },
    {
     "name": "stderr",
     "output_type": "stream",
     "text": [
      "100%|██████████| 4397/4397 [00:13<00:00, 325.01it/s]\n",
      "100%|██████████| 359/359 [00:00<00:00, 842.87it/s]\n"
     ]
    },
    {
     "name": "stdout",
     "output_type": "stream",
     "text": [
      "Epoch [185/200], Train Loss: 14.3149, Test Loss: 17.1117\n"
     ]
    },
    {
     "name": "stderr",
     "output_type": "stream",
     "text": [
      "100%|██████████| 4397/4397 [00:13<00:00, 325.70it/s]\n",
      "100%|██████████| 359/359 [00:00<00:00, 938.39it/s]\n"
     ]
    },
    {
     "name": "stdout",
     "output_type": "stream",
     "text": [
      "Epoch [186/200], Train Loss: 14.3215, Test Loss: 17.0729\n"
     ]
    },
    {
     "name": "stderr",
     "output_type": "stream",
     "text": [
      "100%|██████████| 4397/4397 [00:13<00:00, 328.46it/s]\n",
      "100%|██████████| 359/359 [00:00<00:00, 913.70it/s]\n"
     ]
    },
    {
     "name": "stdout",
     "output_type": "stream",
     "text": [
      "Epoch [187/200], Train Loss: 14.3195, Test Loss: 17.1779\n"
     ]
    },
    {
     "name": "stderr",
     "output_type": "stream",
     "text": [
      "100%|██████████| 4397/4397 [00:13<00:00, 326.59it/s]\n",
      "100%|██████████| 359/359 [00:00<00:00, 890.61it/s]\n"
     ]
    },
    {
     "name": "stdout",
     "output_type": "stream",
     "text": [
      "Epoch [188/200], Train Loss: 14.3187, Test Loss: 17.0972\n"
     ]
    },
    {
     "name": "stderr",
     "output_type": "stream",
     "text": [
      "100%|██████████| 4397/4397 [00:13<00:00, 326.53it/s]\n",
      "100%|██████████| 359/359 [00:00<00:00, 897.67it/s]\n"
     ]
    },
    {
     "name": "stdout",
     "output_type": "stream",
     "text": [
      "Best Loss! >>  17.006164888153503\n",
      "Epoch [189/200], Train Loss: 14.3225, Test Loss: 17.0062\n"
     ]
    },
    {
     "name": "stderr",
     "output_type": "stream",
     "text": [
      "100%|██████████| 4397/4397 [00:13<00:00, 325.06it/s]\n",
      "100%|██████████| 359/359 [00:00<00:00, 885.72it/s]\n"
     ]
    },
    {
     "name": "stdout",
     "output_type": "stream",
     "text": [
      "Epoch [190/200], Train Loss: 14.3184, Test Loss: 17.0189\n"
     ]
    },
    {
     "name": "stderr",
     "output_type": "stream",
     "text": [
      "100%|██████████| 4397/4397 [00:13<00:00, 329.23it/s]\n",
      "100%|██████████| 359/359 [00:00<00:00, 932.24it/s]\n"
     ]
    },
    {
     "name": "stdout",
     "output_type": "stream",
     "text": [
      "Epoch [191/200], Train Loss: 14.3130, Test Loss: 17.0421\n"
     ]
    },
    {
     "name": "stderr",
     "output_type": "stream",
     "text": [
      "100%|██████████| 4397/4397 [00:13<00:00, 326.07it/s]\n",
      "100%|██████████| 359/359 [00:00<00:00, 869.16it/s]\n"
     ]
    },
    {
     "name": "stdout",
     "output_type": "stream",
     "text": [
      "Epoch [192/200], Train Loss: 14.3239, Test Loss: 17.1119\n"
     ]
    },
    {
     "name": "stderr",
     "output_type": "stream",
     "text": [
      "100%|██████████| 4397/4397 [00:13<00:00, 326.36it/s]\n",
      "100%|██████████| 359/359 [00:00<00:00, 911.84it/s]\n"
     ]
    },
    {
     "name": "stdout",
     "output_type": "stream",
     "text": [
      "Epoch [193/200], Train Loss: 14.3191, Test Loss: 17.0255\n"
     ]
    },
    {
     "name": "stderr",
     "output_type": "stream",
     "text": [
      "100%|██████████| 4397/4397 [00:13<00:00, 326.07it/s]\n",
      "100%|██████████| 359/359 [00:00<00:00, 907.11it/s]\n"
     ]
    },
    {
     "name": "stdout",
     "output_type": "stream",
     "text": [
      "Epoch [194/200], Train Loss: 14.3149, Test Loss: 17.0276\n"
     ]
    },
    {
     "name": "stderr",
     "output_type": "stream",
     "text": [
      "100%|██████████| 4397/4397 [00:13<00:00, 321.95it/s]\n",
      "100%|██████████| 359/359 [00:00<00:00, 891.49it/s]\n"
     ]
    },
    {
     "name": "stdout",
     "output_type": "stream",
     "text": [
      "Best Loss! >>  17.00386058786121\n",
      "Epoch [195/200], Train Loss: 14.3203, Test Loss: 17.0039\n"
     ]
    },
    {
     "name": "stderr",
     "output_type": "stream",
     "text": [
      "100%|██████████| 4397/4397 [00:13<00:00, 322.16it/s]\n",
      "100%|██████████| 359/359 [00:00<00:00, 911.70it/s]\n"
     ]
    },
    {
     "name": "stdout",
     "output_type": "stream",
     "text": [
      "Epoch [196/200], Train Loss: 14.3197, Test Loss: 17.0593\n"
     ]
    },
    {
     "name": "stderr",
     "output_type": "stream",
     "text": [
      "100%|██████████| 4397/4397 [00:13<00:00, 323.33it/s]\n",
      "100%|██████████| 359/359 [00:00<00:00, 910.71it/s]\n"
     ]
    },
    {
     "name": "stdout",
     "output_type": "stream",
     "text": [
      "Epoch [197/200], Train Loss: 14.3157, Test Loss: 17.3121\n"
     ]
    },
    {
     "name": "stderr",
     "output_type": "stream",
     "text": [
      "100%|██████████| 4397/4397 [00:13<00:00, 321.98it/s]\n",
      "100%|██████████| 359/359 [00:00<00:00, 835.50it/s]\n"
     ]
    },
    {
     "name": "stdout",
     "output_type": "stream",
     "text": [
      "Epoch [198/200], Train Loss: 14.3186, Test Loss: 17.5198\n"
     ]
    },
    {
     "name": "stderr",
     "output_type": "stream",
     "text": [
      "100%|██████████| 4397/4397 [00:13<00:00, 319.14it/s]\n",
      "100%|██████████| 359/359 [00:00<00:00, 865.61it/s]\n"
     ]
    },
    {
     "name": "stdout",
     "output_type": "stream",
     "text": [
      "Epoch [199/200], Train Loss: 14.3169, Test Loss: 17.2778\n"
     ]
    },
    {
     "name": "stderr",
     "output_type": "stream",
     "text": [
      "100%|██████████| 4397/4397 [00:13<00:00, 318.75it/s]\n",
      "100%|██████████| 359/359 [00:00<00:00, 890.97it/s]\n"
     ]
    },
    {
     "name": "stdout",
     "output_type": "stream",
     "text": [
      "Epoch [200/200], Train Loss: 14.3154, Test Loss: 17.0261\n",
      "TESTING CONFIG >>  {'pe_t': 10, 'history': 1, 'min_points_history': 1, 'horizon_forecast': 1, 'test_days': 360, 'start': 100, 'step_every': 1}\n"
     ]
    },
    {
     "name": "stderr",
     "output_type": "stream",
     "text": [
      "100%|██████████| 5856/5856 [01:42<00:00, 57.07it/s] \n",
      "100%|██████████| 4397/4397 [00:14<00:00, 313.60it/s]\n",
      "100%|██████████| 359/359 [00:00<00:00, 874.93it/s]\n"
     ]
    },
    {
     "name": "stdout",
     "output_type": "stream",
     "text": [
      "Best Loss! >>  13.522050392660923\n",
      "Epoch [1/200], Train Loss: 14.8618, Test Loss: 13.5221\n"
     ]
    },
    {
     "name": "stderr",
     "output_type": "stream",
     "text": [
      "100%|██████████| 4397/4397 [00:14<00:00, 313.30it/s]\n",
      "100%|██████████| 359/359 [00:00<00:00, 896.53it/s]\n"
     ]
    },
    {
     "name": "stdout",
     "output_type": "stream",
     "text": [
      "Best Loss! >>  9.486650720612252\n",
      "Epoch [2/200], Train Loss: 7.2621, Test Loss: 9.4867\n"
     ]
    },
    {
     "name": "stderr",
     "output_type": "stream",
     "text": [
      "100%|██████████| 4397/4397 [00:14<00:00, 306.17it/s]\n",
      "100%|██████████| 359/359 [00:00<00:00, 825.82it/s]\n"
     ]
    },
    {
     "name": "stdout",
     "output_type": "stream",
     "text": [
      "Epoch [3/200], Train Loss: 6.4910, Test Loss: 13.6626\n"
     ]
    },
    {
     "name": "stderr",
     "output_type": "stream",
     "text": [
      "100%|██████████| 4397/4397 [00:14<00:00, 301.34it/s]\n",
      "100%|██████████| 359/359 [00:00<00:00, 848.87it/s]\n"
     ]
    },
    {
     "name": "stdout",
     "output_type": "stream",
     "text": [
      "Epoch [4/200], Train Loss: 6.2251, Test Loss: 10.1441\n"
     ]
    },
    {
     "name": "stderr",
     "output_type": "stream",
     "text": [
      "100%|██████████| 4397/4397 [00:15<00:00, 275.87it/s]\n",
      "100%|██████████| 359/359 [00:00<00:00, 765.38it/s]\n"
     ]
    },
    {
     "name": "stdout",
     "output_type": "stream",
     "text": [
      "Epoch [5/200], Train Loss: 6.0628, Test Loss: 10.1375\n"
     ]
    },
    {
     "name": "stderr",
     "output_type": "stream",
     "text": [
      "100%|██████████| 4397/4397 [00:16<00:00, 273.82it/s]\n",
      "100%|██████████| 359/359 [00:00<00:00, 864.04it/s]\n"
     ]
    },
    {
     "name": "stdout",
     "output_type": "stream",
     "text": [
      "Epoch [6/200], Train Loss: 6.0760, Test Loss: 9.9851\n"
     ]
    },
    {
     "name": "stderr",
     "output_type": "stream",
     "text": [
      "100%|██████████| 4397/4397 [00:15<00:00, 286.05it/s]\n",
      "100%|██████████| 359/359 [00:00<00:00, 807.25it/s]\n"
     ]
    },
    {
     "name": "stdout",
     "output_type": "stream",
     "text": [
      "Best Loss! >>  7.8043274753273035\n",
      "Epoch [7/200], Train Loss: 5.9376, Test Loss: 7.8043\n"
     ]
    },
    {
     "name": "stderr",
     "output_type": "stream",
     "text": [
      "100%|██████████| 4397/4397 [00:14<00:00, 305.62it/s]\n",
      "100%|██████████| 359/359 [00:00<00:00, 1070.21it/s]\n"
     ]
    },
    {
     "name": "stdout",
     "output_type": "stream",
     "text": [
      "Epoch [8/200], Train Loss: 5.6597, Test Loss: 10.0954\n"
     ]
    },
    {
     "name": "stderr",
     "output_type": "stream",
     "text": [
      "100%|██████████| 4397/4397 [00:13<00:00, 333.65it/s]\n",
      "100%|██████████| 359/359 [00:00<00:00, 835.92it/s]\n"
     ]
    },
    {
     "name": "stdout",
     "output_type": "stream",
     "text": [
      "Epoch [9/200], Train Loss: 5.7723, Test Loss: 9.8513\n"
     ]
    },
    {
     "name": "stderr",
     "output_type": "stream",
     "text": [
      "100%|██████████| 4397/4397 [00:14<00:00, 306.81it/s]\n",
      "100%|██████████| 359/359 [00:00<00:00, 816.90it/s]\n"
     ]
    },
    {
     "name": "stdout",
     "output_type": "stream",
     "text": [
      "Epoch [10/200], Train Loss: 5.7341, Test Loss: 8.6850\n"
     ]
    },
    {
     "name": "stderr",
     "output_type": "stream",
     "text": [
      "100%|██████████| 4397/4397 [00:13<00:00, 320.73it/s]\n",
      "100%|██████████| 359/359 [00:00<00:00, 900.97it/s]\n"
     ]
    },
    {
     "name": "stdout",
     "output_type": "stream",
     "text": [
      "Epoch [11/200], Train Loss: 5.6558, Test Loss: 8.4385\n"
     ]
    },
    {
     "name": "stderr",
     "output_type": "stream",
     "text": [
      "100%|██████████| 4397/4397 [00:14<00:00, 311.44it/s]\n",
      "100%|██████████| 359/359 [00:00<00:00, 875.47it/s]\n"
     ]
    },
    {
     "name": "stdout",
     "output_type": "stream",
     "text": [
      "Epoch [12/200], Train Loss: 5.6610, Test Loss: 8.3240\n"
     ]
    },
    {
     "name": "stderr",
     "output_type": "stream",
     "text": [
      "100%|██████████| 4397/4397 [00:13<00:00, 314.84it/s]\n",
      "100%|██████████| 359/359 [00:00<00:00, 902.25it/s]\n"
     ]
    },
    {
     "name": "stdout",
     "output_type": "stream",
     "text": [
      "Epoch [13/200], Train Loss: 5.6424, Test Loss: 9.5415\n"
     ]
    },
    {
     "name": "stderr",
     "output_type": "stream",
     "text": [
      "100%|██████████| 4397/4397 [00:14<00:00, 312.89it/s]\n",
      "100%|██████████| 359/359 [00:00<00:00, 902.29it/s]\n"
     ]
    },
    {
     "name": "stdout",
     "output_type": "stream",
     "text": [
      "Epoch [14/200], Train Loss: 5.5793, Test Loss: 8.3231\n"
     ]
    },
    {
     "name": "stderr",
     "output_type": "stream",
     "text": [
      "100%|██████████| 4397/4397 [00:13<00:00, 316.57it/s]\n",
      "100%|██████████| 359/359 [00:00<00:00, 859.93it/s]\n"
     ]
    },
    {
     "name": "stdout",
     "output_type": "stream",
     "text": [
      "Best Loss! >>  7.731971464449317\n",
      "Epoch [15/200], Train Loss: 5.4123, Test Loss: 7.7320\n"
     ]
    },
    {
     "name": "stderr",
     "output_type": "stream",
     "text": [
      "100%|██████████| 4397/4397 [00:13<00:00, 318.70it/s]\n",
      "100%|██████████| 359/359 [00:00<00:00, 882.54it/s]\n"
     ]
    },
    {
     "name": "stdout",
     "output_type": "stream",
     "text": [
      "Epoch [16/200], Train Loss: 5.3918, Test Loss: 11.8831\n"
     ]
    },
    {
     "name": "stderr",
     "output_type": "stream",
     "text": [
      "100%|██████████| 4397/4397 [00:13<00:00, 316.28it/s]\n",
      "100%|██████████| 359/359 [00:00<00:00, 902.05it/s]\n"
     ]
    },
    {
     "name": "stdout",
     "output_type": "stream",
     "text": [
      "Epoch [17/200], Train Loss: 5.4479, Test Loss: 9.9749\n"
     ]
    },
    {
     "name": "stderr",
     "output_type": "stream",
     "text": [
      "100%|██████████| 4397/4397 [00:14<00:00, 312.06it/s]\n",
      "100%|██████████| 359/359 [00:00<00:00, 884.43it/s]\n"
     ]
    },
    {
     "name": "stdout",
     "output_type": "stream",
     "text": [
      "Epoch [18/200], Train Loss: 5.4556, Test Loss: 12.1430\n"
     ]
    },
    {
     "name": "stderr",
     "output_type": "stream",
     "text": [
      "100%|██████████| 4397/4397 [00:13<00:00, 319.41it/s]\n",
      "100%|██████████| 359/359 [00:00<00:00, 887.64it/s]\n"
     ]
    },
    {
     "name": "stdout",
     "output_type": "stream",
     "text": [
      "Epoch [19/200], Train Loss: 5.3360, Test Loss: 9.0551\n"
     ]
    },
    {
     "name": "stderr",
     "output_type": "stream",
     "text": [
      "100%|██████████| 4397/4397 [00:14<00:00, 313.60it/s]\n",
      "100%|██████████| 359/359 [00:00<00:00, 899.75it/s]\n"
     ]
    },
    {
     "name": "stdout",
     "output_type": "stream",
     "text": [
      "Epoch [20/200], Train Loss: 5.4457, Test Loss: 8.7019\n"
     ]
    },
    {
     "name": "stderr",
     "output_type": "stream",
     "text": [
      "100%|██████████| 4397/4397 [00:13<00:00, 316.96it/s]\n",
      "100%|██████████| 359/359 [00:00<00:00, 893.72it/s]\n"
     ]
    },
    {
     "name": "stdout",
     "output_type": "stream",
     "text": [
      "Epoch [21/200], Train Loss: 5.4459, Test Loss: 8.3300\n"
     ]
    },
    {
     "name": "stderr",
     "output_type": "stream",
     "text": [
      "100%|██████████| 4397/4397 [00:14<00:00, 313.94it/s]\n",
      "100%|██████████| 359/359 [00:00<00:00, 890.22it/s]\n"
     ]
    },
    {
     "name": "stdout",
     "output_type": "stream",
     "text": [
      "Epoch [22/200], Train Loss: 5.2937, Test Loss: 12.0710\n"
     ]
    },
    {
     "name": "stderr",
     "output_type": "stream",
     "text": [
      "100%|██████████| 4397/4397 [00:13<00:00, 317.84it/s]\n",
      "100%|██████████| 359/359 [00:00<00:00, 902.68it/s]\n"
     ]
    },
    {
     "name": "stdout",
     "output_type": "stream",
     "text": [
      "Epoch 00023: reducing learning rate of group 0 to 6.4000e-03.\n",
      "Epoch [23/200], Train Loss: 5.2557, Test Loss: 8.7323\n"
     ]
    },
    {
     "name": "stderr",
     "output_type": "stream",
     "text": [
      "100%|██████████| 4397/4397 [00:13<00:00, 315.26it/s]\n",
      "100%|██████████| 359/359 [00:00<00:00, 868.20it/s]\n"
     ]
    },
    {
     "name": "stdout",
     "output_type": "stream",
     "text": [
      "Epoch [24/200], Train Loss: 4.7389, Test Loss: 9.8263\n"
     ]
    },
    {
     "name": "stderr",
     "output_type": "stream",
     "text": [
      "100%|██████████| 4397/4397 [00:13<00:00, 318.63it/s]\n",
      "100%|██████████| 359/359 [00:00<00:00, 903.87it/s]\n"
     ]
    },
    {
     "name": "stdout",
     "output_type": "stream",
     "text": [
      "Best Loss! >>  7.508001586520904\n",
      "Epoch [25/200], Train Loss: 4.7231, Test Loss: 7.5080\n"
     ]
    },
    {
     "name": "stderr",
     "output_type": "stream",
     "text": [
      "100%|██████████| 4397/4397 [00:14<00:00, 312.08it/s]\n",
      "100%|██████████| 359/359 [00:00<00:00, 888.73it/s]\n"
     ]
    },
    {
     "name": "stdout",
     "output_type": "stream",
     "text": [
      "Best Loss! >>  6.156008312297066\n",
      "Epoch [26/200], Train Loss: 4.6714, Test Loss: 6.1560\n"
     ]
    },
    {
     "name": "stderr",
     "output_type": "stream",
     "text": [
      "100%|██████████| 4397/4397 [00:13<00:00, 315.38it/s]\n",
      "100%|██████████| 359/359 [00:00<00:00, 888.92it/s]\n"
     ]
    },
    {
     "name": "stdout",
     "output_type": "stream",
     "text": [
      "Epoch [27/200], Train Loss: 4.6720, Test Loss: 7.1034\n"
     ]
    },
    {
     "name": "stderr",
     "output_type": "stream",
     "text": [
      "100%|██████████| 4397/4397 [00:13<00:00, 314.87it/s]\n",
      "100%|██████████| 359/359 [00:00<00:00, 895.29it/s]\n"
     ]
    },
    {
     "name": "stdout",
     "output_type": "stream",
     "text": [
      "Epoch [28/200], Train Loss: 4.6165, Test Loss: 8.7601\n"
     ]
    },
    {
     "name": "stderr",
     "output_type": "stream",
     "text": [
      "100%|██████████| 4397/4397 [00:13<00:00, 314.83it/s]\n",
      "100%|██████████| 359/359 [00:00<00:00, 902.13it/s]\n"
     ]
    },
    {
     "name": "stdout",
     "output_type": "stream",
     "text": [
      "Epoch [29/200], Train Loss: 4.5540, Test Loss: 6.2174\n"
     ]
    },
    {
     "name": "stderr",
     "output_type": "stream",
     "text": [
      "100%|██████████| 4397/4397 [00:13<00:00, 318.27it/s]\n",
      "100%|██████████| 359/359 [00:00<00:00, 873.86it/s]\n"
     ]
    },
    {
     "name": "stdout",
     "output_type": "stream",
     "text": [
      "Epoch [30/200], Train Loss: 4.4876, Test Loss: 7.8376\n"
     ]
    },
    {
     "name": "stderr",
     "output_type": "stream",
     "text": [
      "100%|██████████| 4397/4397 [00:14<00:00, 312.35it/s]\n",
      "100%|██████████| 359/359 [00:00<00:00, 873.64it/s]\n"
     ]
    },
    {
     "name": "stdout",
     "output_type": "stream",
     "text": [
      "Epoch [31/200], Train Loss: 4.5048, Test Loss: 6.1888\n"
     ]
    },
    {
     "name": "stderr",
     "output_type": "stream",
     "text": [
      "100%|██████████| 4397/4397 [00:14<00:00, 313.08it/s]\n",
      "100%|██████████| 359/359 [00:00<00:00, 861.82it/s]\n"
     ]
    },
    {
     "name": "stdout",
     "output_type": "stream",
     "text": [
      "Epoch [32/200], Train Loss: 4.4516, Test Loss: 6.4650\n"
     ]
    },
    {
     "name": "stderr",
     "output_type": "stream",
     "text": [
      "100%|██████████| 4397/4397 [00:14<00:00, 309.75it/s]\n",
      "100%|██████████| 359/359 [00:00<00:00, 890.45it/s]\n"
     ]
    },
    {
     "name": "stdout",
     "output_type": "stream",
     "text": [
      "Epoch [33/200], Train Loss: 4.4654, Test Loss: 8.7479\n"
     ]
    },
    {
     "name": "stderr",
     "output_type": "stream",
     "text": [
      "100%|██████████| 4397/4397 [00:14<00:00, 308.89it/s]\n",
      "100%|██████████| 359/359 [00:00<00:00, 837.85it/s]\n"
     ]
    },
    {
     "name": "stdout",
     "output_type": "stream",
     "text": [
      "Epoch 00034: reducing learning rate of group 0 to 5.1200e-03.\n",
      "Epoch [34/200], Train Loss: 4.4422, Test Loss: 8.3530\n"
     ]
    },
    {
     "name": "stderr",
     "output_type": "stream",
     "text": [
      "100%|██████████| 4397/4397 [00:14<00:00, 305.41it/s]\n",
      "100%|██████████| 359/359 [00:00<00:00, 855.54it/s]\n"
     ]
    },
    {
     "name": "stdout",
     "output_type": "stream",
     "text": [
      "Best Loss! >>  5.477846243255318\n",
      "Epoch [35/200], Train Loss: 4.0369, Test Loss: 5.4778\n"
     ]
    },
    {
     "name": "stderr",
     "output_type": "stream",
     "text": [
      "100%|██████████| 4397/4397 [00:14<00:00, 310.71it/s]\n",
      "100%|██████████| 359/359 [00:00<00:00, 892.34it/s]\n"
     ]
    },
    {
     "name": "stdout",
     "output_type": "stream",
     "text": [
      "Epoch [36/200], Train Loss: 3.9884, Test Loss: 5.9725\n"
     ]
    },
    {
     "name": "stderr",
     "output_type": "stream",
     "text": [
      "100%|██████████| 4397/4397 [00:14<00:00, 306.82it/s]\n",
      "100%|██████████| 359/359 [00:00<00:00, 876.37it/s]\n"
     ]
    },
    {
     "name": "stdout",
     "output_type": "stream",
     "text": [
      "Best Loss! >>  5.161550603039085\n",
      "Epoch [37/200], Train Loss: 3.9732, Test Loss: 5.1616\n"
     ]
    },
    {
     "name": "stderr",
     "output_type": "stream",
     "text": [
      "100%|██████████| 4397/4397 [00:14<00:00, 305.49it/s]\n",
      "100%|██████████| 359/359 [00:00<00:00, 877.02it/s]\n"
     ]
    },
    {
     "name": "stdout",
     "output_type": "stream",
     "text": [
      "Best Loss! >>  5.105165798684016\n",
      "Epoch [38/200], Train Loss: 3.9313, Test Loss: 5.1052\n"
     ]
    },
    {
     "name": "stderr",
     "output_type": "stream",
     "text": [
      "100%|██████████| 4397/4397 [00:14<00:00, 305.11it/s]\n",
      "100%|██████████| 359/359 [00:00<00:00, 866.70it/s]\n"
     ]
    },
    {
     "name": "stdout",
     "output_type": "stream",
     "text": [
      "Epoch [39/200], Train Loss: 3.9364, Test Loss: 7.4699\n"
     ]
    },
    {
     "name": "stderr",
     "output_type": "stream",
     "text": [
      "100%|██████████| 4397/4397 [00:14<00:00, 310.95it/s]\n",
      "100%|██████████| 359/359 [00:00<00:00, 865.46it/s]\n"
     ]
    },
    {
     "name": "stdout",
     "output_type": "stream",
     "text": [
      "Best Loss! >>  5.0843283439413085\n",
      "Epoch [40/200], Train Loss: 3.9340, Test Loss: 5.0843\n"
     ]
    },
    {
     "name": "stderr",
     "output_type": "stream",
     "text": [
      "100%|██████████| 4397/4397 [00:14<00:00, 313.04it/s]\n",
      "100%|██████████| 359/359 [00:00<00:00, 893.73it/s]\n"
     ]
    },
    {
     "name": "stdout",
     "output_type": "stream",
     "text": [
      "Epoch [41/200], Train Loss: 3.8880, Test Loss: 7.3011\n"
     ]
    },
    {
     "name": "stderr",
     "output_type": "stream",
     "text": [
      "100%|██████████| 4397/4397 [00:14<00:00, 307.44it/s]\n",
      "100%|██████████| 359/359 [00:00<00:00, 863.53it/s]\n"
     ]
    },
    {
     "name": "stdout",
     "output_type": "stream",
     "text": [
      "Epoch [42/200], Train Loss: 3.8299, Test Loss: 5.5616\n"
     ]
    },
    {
     "name": "stderr",
     "output_type": "stream",
     "text": [
      "100%|██████████| 4397/4397 [00:14<00:00, 304.67it/s]\n",
      "100%|██████████| 359/359 [00:00<00:00, 867.97it/s]\n"
     ]
    },
    {
     "name": "stdout",
     "output_type": "stream",
     "text": [
      "Epoch [43/200], Train Loss: 3.8570, Test Loss: 5.6953\n"
     ]
    },
    {
     "name": "stderr",
     "output_type": "stream",
     "text": [
      "100%|██████████| 4397/4397 [00:14<00:00, 307.55it/s]\n",
      "100%|██████████| 359/359 [00:00<00:00, 837.80it/s]\n"
     ]
    },
    {
     "name": "stdout",
     "output_type": "stream",
     "text": [
      "Best Loss! >>  4.736476632711947\n",
      "Epoch [44/200], Train Loss: 3.8760, Test Loss: 4.7365\n"
     ]
    },
    {
     "name": "stderr",
     "output_type": "stream",
     "text": [
      "100%|██████████| 4397/4397 [00:14<00:00, 312.93it/s]\n",
      "100%|██████████| 359/359 [00:00<00:00, 893.22it/s]\n"
     ]
    },
    {
     "name": "stdout",
     "output_type": "stream",
     "text": [
      "Epoch [45/200], Train Loss: 3.8590, Test Loss: 5.7146\n"
     ]
    },
    {
     "name": "stderr",
     "output_type": "stream",
     "text": [
      "100%|██████████| 4397/4397 [00:13<00:00, 314.27it/s]\n",
      "100%|██████████| 359/359 [00:00<00:00, 800.82it/s]\n"
     ]
    },
    {
     "name": "stdout",
     "output_type": "stream",
     "text": [
      "Epoch [46/200], Train Loss: 3.8236, Test Loss: 5.3240\n"
     ]
    },
    {
     "name": "stderr",
     "output_type": "stream",
     "text": [
      "100%|██████████| 4397/4397 [00:14<00:00, 304.70it/s]\n",
      "100%|██████████| 359/359 [00:00<00:00, 811.13it/s]\n"
     ]
    },
    {
     "name": "stdout",
     "output_type": "stream",
     "text": [
      "Epoch [47/200], Train Loss: 3.8423, Test Loss: 6.5349\n"
     ]
    },
    {
     "name": "stderr",
     "output_type": "stream",
     "text": [
      "100%|██████████| 4397/4397 [00:14<00:00, 302.55it/s]\n",
      "100%|██████████| 359/359 [00:00<00:00, 870.04it/s]\n"
     ]
    },
    {
     "name": "stdout",
     "output_type": "stream",
     "text": [
      "Epoch [48/200], Train Loss: 3.8173, Test Loss: 4.7681\n"
     ]
    },
    {
     "name": "stderr",
     "output_type": "stream",
     "text": [
      "100%|██████████| 4397/4397 [00:14<00:00, 304.60it/s]\n",
      "100%|██████████| 359/359 [00:00<00:00, 874.39it/s]\n"
     ]
    },
    {
     "name": "stdout",
     "output_type": "stream",
     "text": [
      "Epoch [49/200], Train Loss: 3.8437, Test Loss: 6.4121\n"
     ]
    },
    {
     "name": "stderr",
     "output_type": "stream",
     "text": [
      "100%|██████████| 4397/4397 [00:13<00:00, 320.83it/s]\n",
      "100%|██████████| 359/359 [00:00<00:00, 771.85it/s]\n"
     ]
    },
    {
     "name": "stdout",
     "output_type": "stream",
     "text": [
      "Epoch [50/200], Train Loss: 3.7906, Test Loss: 4.8482\n"
     ]
    },
    {
     "name": "stderr",
     "output_type": "stream",
     "text": [
      "100%|██████████| 4397/4397 [00:13<00:00, 319.19it/s]\n",
      "100%|██████████| 359/359 [00:00<00:00, 864.31it/s]\n"
     ]
    },
    {
     "name": "stdout",
     "output_type": "stream",
     "text": [
      "Epoch [51/200], Train Loss: 3.8580, Test Loss: 5.9332\n"
     ]
    },
    {
     "name": "stderr",
     "output_type": "stream",
     "text": [
      "100%|██████████| 4397/4397 [00:13<00:00, 320.94it/s]\n",
      "100%|██████████| 359/359 [00:00<00:00, 950.50it/s]\n"
     ]
    },
    {
     "name": "stdout",
     "output_type": "stream",
     "text": [
      "Epoch 00052: reducing learning rate of group 0 to 4.0960e-03.\n",
      "Epoch [52/200], Train Loss: 3.8976, Test Loss: 7.0660\n"
     ]
    },
    {
     "name": "stderr",
     "output_type": "stream",
     "text": [
      "100%|██████████| 4397/4397 [00:13<00:00, 321.24it/s]\n",
      "100%|██████████| 359/359 [00:00<00:00, 957.29it/s]\n"
     ]
    },
    {
     "name": "stdout",
     "output_type": "stream",
     "text": [
      "Epoch [53/200], Train Loss: 3.5858, Test Loss: 5.2782\n"
     ]
    },
    {
     "name": "stderr",
     "output_type": "stream",
     "text": [
      "100%|██████████| 4397/4397 [00:13<00:00, 321.18it/s]\n",
      "100%|██████████| 359/359 [00:00<00:00, 992.53it/s]\n"
     ]
    },
    {
     "name": "stdout",
     "output_type": "stream",
     "text": [
      "Epoch [54/200], Train Loss: 3.4898, Test Loss: 5.2793\n"
     ]
    },
    {
     "name": "stderr",
     "output_type": "stream",
     "text": [
      "100%|██████████| 4397/4397 [00:13<00:00, 328.24it/s]\n",
      "100%|██████████| 359/359 [00:00<00:00, 969.33it/s]\n"
     ]
    },
    {
     "name": "stdout",
     "output_type": "stream",
     "text": [
      "Best Loss! >>  4.657937580579502\n",
      "Epoch [55/200], Train Loss: 3.4625, Test Loss: 4.6579\n"
     ]
    },
    {
     "name": "stderr",
     "output_type": "stream",
     "text": [
      "100%|██████████| 4397/4397 [00:13<00:00, 324.79it/s]\n",
      "100%|██████████| 359/359 [00:00<00:00, 823.98it/s]\n"
     ]
    },
    {
     "name": "stdout",
     "output_type": "stream",
     "text": [
      "Epoch [56/200], Train Loss: 3.4668, Test Loss: 5.3894\n"
     ]
    },
    {
     "name": "stderr",
     "output_type": "stream",
     "text": [
      "100%|██████████| 4397/4397 [00:13<00:00, 319.27it/s]\n",
      "100%|██████████| 359/359 [00:00<00:00, 954.68it/s]\n"
     ]
    },
    {
     "name": "stdout",
     "output_type": "stream",
     "text": [
      "Best Loss! >>  4.367367875111136\n",
      "Epoch [57/200], Train Loss: 3.4738, Test Loss: 4.3674\n"
     ]
    },
    {
     "name": "stderr",
     "output_type": "stream",
     "text": [
      "100%|██████████| 4397/4397 [00:13<00:00, 323.09it/s]\n",
      "100%|██████████| 359/359 [00:00<00:00, 977.16it/s]\n"
     ]
    },
    {
     "name": "stdout",
     "output_type": "stream",
     "text": [
      "Epoch [58/200], Train Loss: 3.4589, Test Loss: 5.7270\n"
     ]
    },
    {
     "name": "stderr",
     "output_type": "stream",
     "text": [
      "100%|██████████| 4397/4397 [00:13<00:00, 321.20it/s]\n",
      "100%|██████████| 359/359 [00:00<00:00, 1002.49it/s]\n"
     ]
    },
    {
     "name": "stdout",
     "output_type": "stream",
     "text": [
      "Epoch [59/200], Train Loss: 3.5110, Test Loss: 4.7917\n"
     ]
    },
    {
     "name": "stderr",
     "output_type": "stream",
     "text": [
      "100%|██████████| 4397/4397 [00:13<00:00, 328.13it/s]\n",
      "100%|██████████| 359/359 [00:00<00:00, 987.01it/s]\n"
     ]
    },
    {
     "name": "stdout",
     "output_type": "stream",
     "text": [
      "Epoch [60/200], Train Loss: 3.4652, Test Loss: 4.5574\n"
     ]
    },
    {
     "name": "stderr",
     "output_type": "stream",
     "text": [
      "100%|██████████| 4397/4397 [00:13<00:00, 320.54it/s]\n",
      "100%|██████████| 359/359 [00:00<00:00, 928.75it/s]\n"
     ]
    },
    {
     "name": "stdout",
     "output_type": "stream",
     "text": [
      "Epoch [61/200], Train Loss: 3.4502, Test Loss: 5.1601\n"
     ]
    },
    {
     "name": "stderr",
     "output_type": "stream",
     "text": [
      "100%|██████████| 4397/4397 [00:13<00:00, 319.51it/s]\n",
      "100%|██████████| 359/359 [00:00<00:00, 959.94it/s]\n"
     ]
    },
    {
     "name": "stdout",
     "output_type": "stream",
     "text": [
      "Epoch [62/200], Train Loss: 3.4644, Test Loss: 4.5214\n"
     ]
    },
    {
     "name": "stderr",
     "output_type": "stream",
     "text": [
      "100%|██████████| 4397/4397 [00:13<00:00, 323.01it/s]\n",
      "100%|██████████| 359/359 [00:00<00:00, 952.31it/s]\n"
     ]
    },
    {
     "name": "stdout",
     "output_type": "stream",
     "text": [
      "Epoch [63/200], Train Loss: 3.4715, Test Loss: 5.2218\n"
     ]
    },
    {
     "name": "stderr",
     "output_type": "stream",
     "text": [
      "100%|██████████| 4397/4397 [00:13<00:00, 326.06it/s]\n",
      "100%|██████████| 359/359 [00:00<00:00, 997.01it/s]\n"
     ]
    },
    {
     "name": "stdout",
     "output_type": "stream",
     "text": [
      "Epoch [64/200], Train Loss: 3.4851, Test Loss: 6.7135\n"
     ]
    },
    {
     "name": "stderr",
     "output_type": "stream",
     "text": [
      "100%|██████████| 4397/4397 [00:13<00:00, 327.06it/s]\n",
      "100%|██████████| 359/359 [00:00<00:00, 897.23it/s]\n"
     ]
    },
    {
     "name": "stdout",
     "output_type": "stream",
     "text": [
      "Epoch 00065: reducing learning rate of group 0 to 3.2768e-03.\n",
      "Epoch [65/200], Train Loss: 3.4423, Test Loss: 4.6998\n"
     ]
    },
    {
     "name": "stderr",
     "output_type": "stream",
     "text": [
      "100%|██████████| 4397/4397 [00:14<00:00, 306.54it/s]\n",
      "100%|██████████| 359/359 [00:00<00:00, 960.90it/s]\n"
     ]
    },
    {
     "name": "stdout",
     "output_type": "stream",
     "text": [
      "Epoch [66/200], Train Loss: 3.1916, Test Loss: 4.7452\n"
     ]
    },
    {
     "name": "stderr",
     "output_type": "stream",
     "text": [
      "100%|██████████| 4397/4397 [00:13<00:00, 319.53it/s]\n",
      "100%|██████████| 359/359 [00:00<00:00, 874.28it/s]\n"
     ]
    },
    {
     "name": "stdout",
     "output_type": "stream",
     "text": [
      "Epoch [67/200], Train Loss: 3.1812, Test Loss: 4.9984\n"
     ]
    },
    {
     "name": "stderr",
     "output_type": "stream",
     "text": [
      "100%|██████████| 4397/4397 [00:13<00:00, 318.55it/s]\n",
      "100%|██████████| 359/359 [00:00<00:00, 948.80it/s]\n"
     ]
    },
    {
     "name": "stdout",
     "output_type": "stream",
     "text": [
      "Epoch [68/200], Train Loss: 3.1955, Test Loss: 4.6293\n"
     ]
    },
    {
     "name": "stderr",
     "output_type": "stream",
     "text": [
      "100%|██████████| 4397/4397 [00:13<00:00, 329.78it/s]\n",
      "100%|██████████| 359/359 [00:00<00:00, 1015.11it/s]\n"
     ]
    },
    {
     "name": "stdout",
     "output_type": "stream",
     "text": [
      "Epoch [69/200], Train Loss: 3.1877, Test Loss: 5.2224\n"
     ]
    },
    {
     "name": "stderr",
     "output_type": "stream",
     "text": [
      "100%|██████████| 4397/4397 [00:13<00:00, 323.04it/s]\n",
      "100%|██████████| 359/359 [00:00<00:00, 929.08it/s]\n"
     ]
    },
    {
     "name": "stdout",
     "output_type": "stream",
     "text": [
      "Epoch [70/200], Train Loss: 3.1643, Test Loss: 4.6928\n"
     ]
    },
    {
     "name": "stderr",
     "output_type": "stream",
     "text": [
      "100%|██████████| 4397/4397 [00:13<00:00, 321.75it/s]\n",
      "100%|██████████| 359/359 [00:00<00:00, 922.60it/s]\n"
     ]
    },
    {
     "name": "stdout",
     "output_type": "stream",
     "text": [
      "Epoch [71/200], Train Loss: 3.1403, Test Loss: 4.4298\n"
     ]
    },
    {
     "name": "stderr",
     "output_type": "stream",
     "text": [
      "100%|██████████| 4397/4397 [00:13<00:00, 318.08it/s]\n",
      "100%|██████████| 359/359 [00:00<00:00, 920.77it/s]\n"
     ]
    },
    {
     "name": "stdout",
     "output_type": "stream",
     "text": [
      "Best Loss! >>  4.33537361880863\n",
      "Epoch [72/200], Train Loss: 3.1596, Test Loss: 4.3354\n"
     ]
    },
    {
     "name": "stderr",
     "output_type": "stream",
     "text": [
      "100%|██████████| 4397/4397 [00:13<00:00, 323.03it/s]\n",
      "100%|██████████| 359/359 [00:00<00:00, 995.10it/s] \n"
     ]
    },
    {
     "name": "stdout",
     "output_type": "stream",
     "text": [
      "Epoch [73/200], Train Loss: 3.1800, Test Loss: 5.2924\n"
     ]
    },
    {
     "name": "stderr",
     "output_type": "stream",
     "text": [
      "100%|██████████| 4397/4397 [00:13<00:00, 324.05it/s]\n",
      "100%|██████████| 359/359 [00:00<00:00, 975.69it/s]\n"
     ]
    },
    {
     "name": "stdout",
     "output_type": "stream",
     "text": [
      "Best Loss! >>  4.291182558018517\n",
      "Epoch [74/200], Train Loss: 3.1700, Test Loss: 4.2912\n"
     ]
    },
    {
     "name": "stderr",
     "output_type": "stream",
     "text": [
      "100%|██████████| 4397/4397 [00:13<00:00, 322.82it/s]\n",
      "100%|██████████| 359/359 [00:00<00:00, 929.96it/s]\n"
     ]
    },
    {
     "name": "stdout",
     "output_type": "stream",
     "text": [
      "Epoch [75/200], Train Loss: 3.1691, Test Loss: 4.4725\n"
     ]
    },
    {
     "name": "stderr",
     "output_type": "stream",
     "text": [
      "100%|██████████| 4397/4397 [00:13<00:00, 316.34it/s]\n",
      "100%|██████████| 359/359 [00:00<00:00, 953.99it/s]\n"
     ]
    },
    {
     "name": "stdout",
     "output_type": "stream",
     "text": [
      "Epoch [76/200], Train Loss: 3.1868, Test Loss: 6.0745\n"
     ]
    },
    {
     "name": "stderr",
     "output_type": "stream",
     "text": [
      "100%|██████████| 4397/4397 [00:13<00:00, 320.15it/s]\n",
      "100%|██████████| 359/359 [00:00<00:00, 944.31it/s]\n"
     ]
    },
    {
     "name": "stdout",
     "output_type": "stream",
     "text": [
      "Epoch [77/200], Train Loss: 3.1578, Test Loss: 4.4545\n"
     ]
    },
    {
     "name": "stderr",
     "output_type": "stream",
     "text": [
      "100%|██████████| 4397/4397 [00:13<00:00, 323.74it/s]\n",
      "100%|██████████| 359/359 [00:00<00:00, 974.89it/s] \n"
     ]
    },
    {
     "name": "stdout",
     "output_type": "stream",
     "text": [
      "Epoch [78/200], Train Loss: 3.1619, Test Loss: 4.8012\n"
     ]
    },
    {
     "name": "stderr",
     "output_type": "stream",
     "text": [
      "100%|██████████| 4397/4397 [00:13<00:00, 327.95it/s]\n",
      "100%|██████████| 359/359 [00:00<00:00, 994.20it/s] \n"
     ]
    },
    {
     "name": "stdout",
     "output_type": "stream",
     "text": [
      "Best Loss! >>  4.288718258770063\n",
      "Epoch [79/200], Train Loss: 3.1464, Test Loss: 4.2887\n"
     ]
    },
    {
     "name": "stderr",
     "output_type": "stream",
     "text": [
      "100%|██████████| 4397/4397 [00:13<00:00, 317.99it/s]\n",
      "100%|██████████| 359/359 [00:00<00:00, 966.17it/s]\n"
     ]
    },
    {
     "name": "stdout",
     "output_type": "stream",
     "text": [
      "Epoch [80/200], Train Loss: 3.1413, Test Loss: 4.6555\n"
     ]
    },
    {
     "name": "stderr",
     "output_type": "stream",
     "text": [
      "100%|██████████| 4397/4397 [00:13<00:00, 317.04it/s]\n",
      "100%|██████████| 359/359 [00:00<00:00, 983.36it/s]\n"
     ]
    },
    {
     "name": "stdout",
     "output_type": "stream",
     "text": [
      "Epoch [81/200], Train Loss: 3.1451, Test Loss: 4.9634\n"
     ]
    },
    {
     "name": "stderr",
     "output_type": "stream",
     "text": [
      "100%|██████████| 4397/4397 [00:13<00:00, 320.94it/s]\n",
      "100%|██████████| 359/359 [00:00<00:00, 969.42it/s]\n"
     ]
    },
    {
     "name": "stdout",
     "output_type": "stream",
     "text": [
      "Epoch [82/200], Train Loss: 3.1502, Test Loss: 5.3638\n"
     ]
    },
    {
     "name": "stderr",
     "output_type": "stream",
     "text": [
      "100%|██████████| 4397/4397 [00:13<00:00, 321.35it/s]\n",
      "100%|██████████| 359/359 [00:00<00:00, 991.47it/s] \n"
     ]
    },
    {
     "name": "stdout",
     "output_type": "stream",
     "text": [
      "Epoch [83/200], Train Loss: 3.1321, Test Loss: 5.4559\n"
     ]
    },
    {
     "name": "stderr",
     "output_type": "stream",
     "text": [
      "100%|██████████| 4397/4397 [00:13<00:00, 324.38it/s]\n",
      "100%|██████████| 359/359 [00:00<00:00, 1003.38it/s]\n"
     ]
    },
    {
     "name": "stdout",
     "output_type": "stream",
     "text": [
      "Epoch [84/200], Train Loss: 3.1345, Test Loss: 4.3118\n"
     ]
    },
    {
     "name": "stderr",
     "output_type": "stream",
     "text": [
      "100%|██████████| 4397/4397 [00:14<00:00, 307.89it/s]\n",
      "100%|██████████| 359/359 [00:00<00:00, 959.16it/s]\n"
     ]
    },
    {
     "name": "stdout",
     "output_type": "stream",
     "text": [
      "Epoch [85/200], Train Loss: 3.1337, Test Loss: 4.9646\n"
     ]
    },
    {
     "name": "stderr",
     "output_type": "stream",
     "text": [
      "100%|██████████| 4397/4397 [00:13<00:00, 318.81it/s]\n",
      "100%|██████████| 359/359 [00:00<00:00, 956.85it/s]\n"
     ]
    },
    {
     "name": "stdout",
     "output_type": "stream",
     "text": [
      "Epoch [86/200], Train Loss: 3.1441, Test Loss: 4.7241\n"
     ]
    },
    {
     "name": "stderr",
     "output_type": "stream",
     "text": [
      "100%|██████████| 4397/4397 [00:13<00:00, 317.84it/s]\n",
      "100%|██████████| 359/359 [00:00<00:00, 951.39it/s]\n"
     ]
    },
    {
     "name": "stdout",
     "output_type": "stream",
     "text": [
      "Epoch 00087: reducing learning rate of group 0 to 2.6214e-03.\n",
      "Epoch [87/200], Train Loss: 3.1254, Test Loss: 4.9505\n"
     ]
    },
    {
     "name": "stderr",
     "output_type": "stream",
     "text": [
      "100%|██████████| 4397/4397 [00:13<00:00, 319.89it/s]\n",
      "100%|██████████| 359/359 [00:00<00:00, 967.94it/s]\n"
     ]
    },
    {
     "name": "stdout",
     "output_type": "stream",
     "text": [
      "Epoch [88/200], Train Loss: 2.9457, Test Loss: 4.4716\n"
     ]
    },
    {
     "name": "stderr",
     "output_type": "stream",
     "text": [
      "100%|██████████| 4397/4397 [00:13<00:00, 317.39it/s]\n",
      "100%|██████████| 359/359 [00:00<00:00, 966.49it/s]\n"
     ]
    },
    {
     "name": "stdout",
     "output_type": "stream",
     "text": [
      "Best Loss! >>  3.6348349245311824\n",
      "Epoch [89/200], Train Loss: 2.8977, Test Loss: 3.6348\n"
     ]
    },
    {
     "name": "stderr",
     "output_type": "stream",
     "text": [
      "100%|██████████| 4397/4397 [00:13<00:00, 321.32it/s]\n",
      "100%|██████████| 359/359 [00:00<00:00, 994.82it/s] \n"
     ]
    },
    {
     "name": "stdout",
     "output_type": "stream",
     "text": [
      "Epoch [90/200], Train Loss: 2.8978, Test Loss: 4.4867\n"
     ]
    },
    {
     "name": "stderr",
     "output_type": "stream",
     "text": [
      "100%|██████████| 4397/4397 [00:13<00:00, 318.73it/s]\n",
      "100%|██████████| 359/359 [00:00<00:00, 964.74it/s]\n"
     ]
    },
    {
     "name": "stdout",
     "output_type": "stream",
     "text": [
      "Best Loss! >>  3.6021409051331967\n",
      "Epoch [91/200], Train Loss: 2.8856, Test Loss: 3.6021\n"
     ]
    },
    {
     "name": "stderr",
     "output_type": "stream",
     "text": [
      "100%|██████████| 4397/4397 [00:14<00:00, 298.56it/s]\n",
      "100%|██████████| 359/359 [00:00<00:00, 946.76it/s]\n"
     ]
    },
    {
     "name": "stdout",
     "output_type": "stream",
     "text": [
      "Epoch [92/200], Train Loss: 2.8597, Test Loss: 3.6624\n"
     ]
    },
    {
     "name": "stderr",
     "output_type": "stream",
     "text": [
      "100%|██████████| 4397/4397 [00:13<00:00, 319.64it/s]\n",
      "100%|██████████| 359/359 [00:00<00:00, 583.49it/s] \n"
     ]
    },
    {
     "name": "stdout",
     "output_type": "stream",
     "text": [
      "Epoch [93/200], Train Loss: 2.8872, Test Loss: 5.0688\n"
     ]
    },
    {
     "name": "stderr",
     "output_type": "stream",
     "text": [
      "100%|██████████| 4397/4397 [00:14<00:00, 308.04it/s]\n",
      "100%|██████████| 359/359 [00:00<00:00, 912.00it/s]\n"
     ]
    },
    {
     "name": "stdout",
     "output_type": "stream",
     "text": [
      "Epoch [94/200], Train Loss: 2.8779, Test Loss: 4.5824\n"
     ]
    },
    {
     "name": "stderr",
     "output_type": "stream",
     "text": [
      "100%|██████████| 4397/4397 [00:13<00:00, 315.48it/s]\n",
      "100%|██████████| 359/359 [00:00<00:00, 954.57it/s]\n"
     ]
    },
    {
     "name": "stdout",
     "output_type": "stream",
     "text": [
      "Epoch [95/200], Train Loss: 2.8774, Test Loss: 3.8222\n"
     ]
    },
    {
     "name": "stderr",
     "output_type": "stream",
     "text": [
      "100%|██████████| 4397/4397 [00:13<00:00, 321.00it/s]\n",
      "100%|██████████| 359/359 [00:00<00:00, 945.39it/s]\n"
     ]
    },
    {
     "name": "stdout",
     "output_type": "stream",
     "text": [
      "Epoch [96/200], Train Loss: 2.8728, Test Loss: 5.3163\n"
     ]
    },
    {
     "name": "stderr",
     "output_type": "stream",
     "text": [
      "100%|██████████| 4397/4397 [00:14<00:00, 307.94it/s]\n",
      "100%|██████████| 359/359 [00:00<00:00, 926.32it/s]\n"
     ]
    },
    {
     "name": "stdout",
     "output_type": "stream",
     "text": [
      "Best Loss! >>  3.3759717172566894\n",
      "Epoch [97/200], Train Loss: 2.8571, Test Loss: 3.3760\n"
     ]
    },
    {
     "name": "stderr",
     "output_type": "stream",
     "text": [
      "100%|██████████| 4397/4397 [00:13<00:00, 317.33it/s]\n",
      "100%|██████████| 359/359 [00:00<00:00, 962.10it/s]\n"
     ]
    },
    {
     "name": "stdout",
     "output_type": "stream",
     "text": [
      "Epoch [98/200], Train Loss: 2.8602, Test Loss: 3.9255\n"
     ]
    },
    {
     "name": "stderr",
     "output_type": "stream",
     "text": [
      "100%|██████████| 4397/4397 [00:14<00:00, 312.12it/s]\n",
      "100%|██████████| 359/359 [00:00<00:00, 921.92it/s]\n"
     ]
    },
    {
     "name": "stdout",
     "output_type": "stream",
     "text": [
      "Epoch [99/200], Train Loss: 2.8514, Test Loss: 4.8800\n"
     ]
    },
    {
     "name": "stderr",
     "output_type": "stream",
     "text": [
      "100%|██████████| 4397/4397 [00:13<00:00, 316.81it/s]\n",
      "100%|██████████| 359/359 [00:00<00:00, 942.34it/s]\n"
     ]
    },
    {
     "name": "stdout",
     "output_type": "stream",
     "text": [
      "Epoch [100/200], Train Loss: 2.8633, Test Loss: 5.3435\n"
     ]
    },
    {
     "name": "stderr",
     "output_type": "stream",
     "text": [
      "100%|██████████| 4397/4397 [00:13<00:00, 317.43it/s]\n",
      "100%|██████████| 359/359 [00:00<00:00, 981.52it/s] \n"
     ]
    },
    {
     "name": "stdout",
     "output_type": "stream",
     "text": [
      "Epoch [101/200], Train Loss: 2.8633, Test Loss: 4.1231\n"
     ]
    },
    {
     "name": "stderr",
     "output_type": "stream",
     "text": [
      "100%|██████████| 4397/4397 [00:13<00:00, 315.98it/s]\n",
      "100%|██████████| 359/359 [00:00<00:00, 952.31it/s]\n"
     ]
    },
    {
     "name": "stdout",
     "output_type": "stream",
     "text": [
      "Epoch [102/200], Train Loss: 2.8761, Test Loss: 4.2301\n"
     ]
    },
    {
     "name": "stderr",
     "output_type": "stream",
     "text": [
      "100%|██████████| 4397/4397 [00:13<00:00, 315.43it/s]\n",
      "100%|██████████| 359/359 [00:00<00:00, 927.62it/s]\n"
     ]
    },
    {
     "name": "stdout",
     "output_type": "stream",
     "text": [
      "Epoch [103/200], Train Loss: 2.8553, Test Loss: 4.3774\n"
     ]
    },
    {
     "name": "stderr",
     "output_type": "stream",
     "text": [
      "100%|██████████| 4397/4397 [00:13<00:00, 316.31it/s]\n",
      "100%|██████████| 359/359 [00:00<00:00, 972.60it/s]\n"
     ]
    },
    {
     "name": "stdout",
     "output_type": "stream",
     "text": [
      "Epoch [104/200], Train Loss: 2.8583, Test Loss: 4.0942\n"
     ]
    },
    {
     "name": "stderr",
     "output_type": "stream",
     "text": [
      "100%|██████████| 4397/4397 [00:13<00:00, 323.84it/s]\n",
      "100%|██████████| 359/359 [00:00<00:00, 922.94it/s]\n"
     ]
    },
    {
     "name": "stdout",
     "output_type": "stream",
     "text": [
      "Epoch 00105: reducing learning rate of group 0 to 2.0972e-03.\n",
      "Epoch [105/200], Train Loss: 2.8686, Test Loss: 5.8956\n"
     ]
    },
    {
     "name": "stderr",
     "output_type": "stream",
     "text": [
      "100%|██████████| 4397/4397 [00:14<00:00, 313.71it/s]\n",
      "100%|██████████| 359/359 [00:00<00:00, 940.12it/s]\n"
     ]
    },
    {
     "name": "stdout",
     "output_type": "stream",
     "text": [
      "Epoch [106/200], Train Loss: 2.6760, Test Loss: 3.8215\n"
     ]
    },
    {
     "name": "stderr",
     "output_type": "stream",
     "text": [
      "100%|██████████| 4397/4397 [00:13<00:00, 319.64it/s]\n",
      "100%|██████████| 359/359 [00:00<00:00, 920.17it/s]\n"
     ]
    },
    {
     "name": "stdout",
     "output_type": "stream",
     "text": [
      "Epoch [107/200], Train Loss: 2.7126, Test Loss: 3.7920\n"
     ]
    },
    {
     "name": "stderr",
     "output_type": "stream",
     "text": [
      "100%|██████████| 4397/4397 [00:13<00:00, 317.07it/s]\n",
      "100%|██████████| 359/359 [00:00<00:00, 815.99it/s]\n"
     ]
    },
    {
     "name": "stdout",
     "output_type": "stream",
     "text": [
      "Epoch [108/200], Train Loss: 2.6718, Test Loss: 4.7118\n"
     ]
    },
    {
     "name": "stderr",
     "output_type": "stream",
     "text": [
      "100%|██████████| 4397/4397 [00:13<00:00, 318.56it/s]\n",
      "100%|██████████| 359/359 [00:00<00:00, 912.62it/s]\n"
     ]
    },
    {
     "name": "stdout",
     "output_type": "stream",
     "text": [
      "Epoch [109/200], Train Loss: 2.6726, Test Loss: 3.5172\n"
     ]
    },
    {
     "name": "stderr",
     "output_type": "stream",
     "text": [
      "100%|██████████| 4397/4397 [00:13<00:00, 318.52it/s]\n",
      "100%|██████████| 359/359 [00:00<00:00, 942.59it/s]\n"
     ]
    },
    {
     "name": "stdout",
     "output_type": "stream",
     "text": [
      "Epoch [110/200], Train Loss: 2.6647, Test Loss: 4.1485\n"
     ]
    },
    {
     "name": "stderr",
     "output_type": "stream",
     "text": [
      "100%|██████████| 4397/4397 [00:13<00:00, 320.62it/s]\n",
      "100%|██████████| 359/359 [00:00<00:00, 963.64it/s]\n"
     ]
    },
    {
     "name": "stdout",
     "output_type": "stream",
     "text": [
      "Epoch [111/200], Train Loss: 2.6947, Test Loss: 3.5537\n"
     ]
    },
    {
     "name": "stderr",
     "output_type": "stream",
     "text": [
      "100%|██████████| 4397/4397 [00:13<00:00, 317.21it/s]\n",
      "100%|██████████| 359/359 [00:00<00:00, 969.33it/s]\n"
     ]
    },
    {
     "name": "stdout",
     "output_type": "stream",
     "text": [
      "Epoch [112/200], Train Loss: 2.6751, Test Loss: 3.4345\n"
     ]
    },
    {
     "name": "stderr",
     "output_type": "stream",
     "text": [
      "100%|██████████| 4397/4397 [00:13<00:00, 319.83it/s]\n",
      "100%|██████████| 359/359 [00:00<00:00, 964.50it/s]\n"
     ]
    },
    {
     "name": "stdout",
     "output_type": "stream",
     "text": [
      "Epoch 00113: reducing learning rate of group 0 to 1.6777e-03.\n",
      "Epoch [113/200], Train Loss: 2.6764, Test Loss: 4.5123\n"
     ]
    },
    {
     "name": "stderr",
     "output_type": "stream",
     "text": [
      "100%|██████████| 4397/4397 [00:13<00:00, 316.79it/s]\n",
      "100%|██████████| 359/359 [00:00<00:00, 950.40it/s]\n"
     ]
    },
    {
     "name": "stdout",
     "output_type": "stream",
     "text": [
      "Epoch [114/200], Train Loss: 2.5435, Test Loss: 3.5827\n"
     ]
    },
    {
     "name": "stderr",
     "output_type": "stream",
     "text": [
      "100%|██████████| 4397/4397 [00:13<00:00, 319.21it/s]\n",
      "100%|██████████| 359/359 [00:00<00:00, 974.96it/s]\n"
     ]
    },
    {
     "name": "stdout",
     "output_type": "stream",
     "text": [
      "Best Loss! >>  3.3260346612890452\n",
      "Epoch [115/200], Train Loss: 2.5202, Test Loss: 3.3260\n"
     ]
    },
    {
     "name": "stderr",
     "output_type": "stream",
     "text": [
      "100%|██████████| 4397/4397 [00:13<00:00, 317.54it/s]\n",
      "100%|██████████| 359/359 [00:00<00:00, 962.47it/s]\n"
     ]
    },
    {
     "name": "stdout",
     "output_type": "stream",
     "text": [
      "Epoch [116/200], Train Loss: 2.5385, Test Loss: 3.8124\n"
     ]
    },
    {
     "name": "stderr",
     "output_type": "stream",
     "text": [
      "100%|██████████| 4397/4397 [00:13<00:00, 321.96it/s]\n",
      "100%|██████████| 359/359 [00:00<00:00, 968.03it/s]\n"
     ]
    },
    {
     "name": "stdout",
     "output_type": "stream",
     "text": [
      "Epoch [117/200], Train Loss: 2.5054, Test Loss: 3.6817\n"
     ]
    },
    {
     "name": "stderr",
     "output_type": "stream",
     "text": [
      "100%|██████████| 4397/4397 [00:13<00:00, 318.19it/s]\n",
      "100%|██████████| 359/359 [00:00<00:00, 970.86it/s]\n"
     ]
    },
    {
     "name": "stdout",
     "output_type": "stream",
     "text": [
      "Epoch [118/200], Train Loss: 2.5214, Test Loss: 4.5204\n"
     ]
    },
    {
     "name": "stderr",
     "output_type": "stream",
     "text": [
      "100%|██████████| 4397/4397 [00:13<00:00, 319.29it/s]\n",
      "100%|██████████| 359/359 [00:00<00:00, 973.61it/s]\n"
     ]
    },
    {
     "name": "stdout",
     "output_type": "stream",
     "text": [
      "Epoch [119/200], Train Loss: 2.5432, Test Loss: 3.4309\n"
     ]
    },
    {
     "name": "stderr",
     "output_type": "stream",
     "text": [
      "100%|██████████| 4397/4397 [00:13<00:00, 317.43it/s]\n",
      "100%|██████████| 359/359 [00:00<00:00, 859.40it/s]\n"
     ]
    },
    {
     "name": "stdout",
     "output_type": "stream",
     "text": [
      "Epoch [120/200], Train Loss: 2.5150, Test Loss: 4.1490\n"
     ]
    },
    {
     "name": "stderr",
     "output_type": "stream",
     "text": [
      "100%|██████████| 4397/4397 [00:25<00:00, 172.71it/s]\n",
      "100%|██████████| 359/359 [00:00<00:00, 492.79it/s]\n"
     ]
    },
    {
     "name": "stdout",
     "output_type": "stream",
     "text": [
      "Epoch [121/200], Train Loss: 2.5075, Test Loss: 3.4375\n"
     ]
    },
    {
     "name": "stderr",
     "output_type": "stream",
     "text": [
      "100%|██████████| 4397/4397 [00:16<00:00, 265.04it/s]\n",
      "100%|██████████| 359/359 [00:00<00:00, 800.73it/s]\n"
     ]
    },
    {
     "name": "stdout",
     "output_type": "stream",
     "text": [
      "Epoch [122/200], Train Loss: 2.5129, Test Loss: 3.9387\n"
     ]
    },
    {
     "name": "stderr",
     "output_type": "stream",
     "text": [
      "100%|██████████| 4397/4397 [00:14<00:00, 298.34it/s]\n",
      "100%|██████████| 359/359 [00:00<00:00, 930.56it/s]\n"
     ]
    },
    {
     "name": "stdout",
     "output_type": "stream",
     "text": [
      "Epoch 00123: reducing learning rate of group 0 to 1.3422e-03.\n",
      "Epoch [123/200], Train Loss: 2.5018, Test Loss: 3.4271\n"
     ]
    },
    {
     "name": "stderr",
     "output_type": "stream",
     "text": [
      "100%|██████████| 4397/4397 [00:14<00:00, 313.45it/s]\n",
      "100%|██████████| 359/359 [00:00<00:00, 949.03it/s]\n"
     ]
    },
    {
     "name": "stdout",
     "output_type": "stream",
     "text": [
      "Epoch [124/200], Train Loss: 2.3851, Test Loss: 4.0813\n"
     ]
    },
    {
     "name": "stderr",
     "output_type": "stream",
     "text": [
      "100%|██████████| 4397/4397 [00:13<00:00, 317.64it/s]\n",
      "100%|██████████| 359/359 [00:00<00:00, 927.46it/s]\n"
     ]
    },
    {
     "name": "stdout",
     "output_type": "stream",
     "text": [
      "Epoch [125/200], Train Loss: 2.4036, Test Loss: 3.3621\n"
     ]
    },
    {
     "name": "stderr",
     "output_type": "stream",
     "text": [
      "100%|██████████| 4397/4397 [00:13<00:00, 315.52it/s]\n",
      "100%|██████████| 359/359 [00:00<00:00, 955.82it/s]\n"
     ]
    },
    {
     "name": "stdout",
     "output_type": "stream",
     "text": [
      "Epoch [126/200], Train Loss: 2.4143, Test Loss: 3.4663\n"
     ]
    },
    {
     "name": "stderr",
     "output_type": "stream",
     "text": [
      "100%|██████████| 4397/4397 [00:13<00:00, 317.29it/s]\n",
      "100%|██████████| 359/359 [00:00<00:00, 935.93it/s]\n"
     ]
    },
    {
     "name": "stdout",
     "output_type": "stream",
     "text": [
      "Epoch [127/200], Train Loss: 2.3958, Test Loss: 4.1942\n"
     ]
    },
    {
     "name": "stderr",
     "output_type": "stream",
     "text": [
      "100%|██████████| 4397/4397 [00:13<00:00, 315.34it/s]\n",
      "100%|██████████| 359/359 [00:00<00:00, 912.31it/s]\n"
     ]
    },
    {
     "name": "stdout",
     "output_type": "stream",
     "text": [
      "Epoch [128/200], Train Loss: 2.4111, Test Loss: 3.7296\n"
     ]
    },
    {
     "name": "stderr",
     "output_type": "stream",
     "text": [
      "100%|██████████| 4397/4397 [00:13<00:00, 319.60it/s]\n",
      "100%|██████████| 359/359 [00:00<00:00, 818.47it/s]\n"
     ]
    },
    {
     "name": "stdout",
     "output_type": "stream",
     "text": [
      "Epoch [129/200], Train Loss: 2.3880, Test Loss: 4.3335\n"
     ]
    },
    {
     "name": "stderr",
     "output_type": "stream",
     "text": [
      "100%|██████████| 4397/4397 [00:13<00:00, 317.35it/s]\n",
      "100%|██████████| 359/359 [00:00<00:00, 883.03it/s]\n"
     ]
    },
    {
     "name": "stdout",
     "output_type": "stream",
     "text": [
      "Epoch [130/200], Train Loss: 2.3859, Test Loss: 3.6667\n"
     ]
    },
    {
     "name": "stderr",
     "output_type": "stream",
     "text": [
      "100%|██████████| 4397/4397 [00:13<00:00, 317.55it/s]\n",
      "100%|██████████| 359/359 [00:00<00:00, 943.14it/s]\n"
     ]
    },
    {
     "name": "stdout",
     "output_type": "stream",
     "text": [
      "Best Loss! >>  3.2265198252327263\n",
      "Epoch [131/200], Train Loss: 2.4036, Test Loss: 3.2265\n"
     ]
    },
    {
     "name": "stderr",
     "output_type": "stream",
     "text": [
      "100%|██████████| 4397/4397 [00:13<00:00, 318.72it/s]\n",
      "100%|██████████| 359/359 [00:00<00:00, 895.99it/s]\n"
     ]
    },
    {
     "name": "stdout",
     "output_type": "stream",
     "text": [
      "Epoch [132/200], Train Loss: 2.3856, Test Loss: 3.6629\n"
     ]
    },
    {
     "name": "stderr",
     "output_type": "stream",
     "text": [
      "100%|██████████| 4397/4397 [00:13<00:00, 318.20it/s]\n",
      "100%|██████████| 359/359 [00:00<00:00, 939.73it/s]\n"
     ]
    },
    {
     "name": "stdout",
     "output_type": "stream",
     "text": [
      "Epoch [133/200], Train Loss: 2.3840, Test Loss: 3.4404\n"
     ]
    },
    {
     "name": "stderr",
     "output_type": "stream",
     "text": [
      "100%|██████████| 4397/4397 [00:13<00:00, 317.51it/s]\n",
      "100%|██████████| 359/359 [00:00<00:00, 980.05it/s]\n"
     ]
    },
    {
     "name": "stdout",
     "output_type": "stream",
     "text": [
      "Epoch [134/200], Train Loss: 2.3940, Test Loss: 3.6836\n"
     ]
    },
    {
     "name": "stderr",
     "output_type": "stream",
     "text": [
      "100%|██████████| 4397/4397 [00:13<00:00, 319.47it/s]\n",
      "100%|██████████| 359/359 [00:00<00:00, 947.62it/s]\n"
     ]
    },
    {
     "name": "stdout",
     "output_type": "stream",
     "text": [
      "Epoch [135/200], Train Loss: 2.3918, Test Loss: 3.2572\n"
     ]
    },
    {
     "name": "stderr",
     "output_type": "stream",
     "text": [
      "100%|██████████| 4397/4397 [00:13<00:00, 316.06it/s]\n",
      "100%|██████████| 359/359 [00:00<00:00, 940.61it/s]\n"
     ]
    },
    {
     "name": "stdout",
     "output_type": "stream",
     "text": [
      "Best Loss! >>  3.0991742716360227\n",
      "Epoch [136/200], Train Loss: 2.4084, Test Loss: 3.0992\n"
     ]
    },
    {
     "name": "stderr",
     "output_type": "stream",
     "text": [
      "100%|██████████| 4397/4397 [00:13<00:00, 320.22it/s]\n",
      "100%|██████████| 359/359 [00:00<00:00, 967.77it/s] \n"
     ]
    },
    {
     "name": "stdout",
     "output_type": "stream",
     "text": [
      "Epoch [137/200], Train Loss: 2.3734, Test Loss: 3.5038\n"
     ]
    },
    {
     "name": "stderr",
     "output_type": "stream",
     "text": [
      "100%|██████████| 4397/4397 [00:14<00:00, 313.72it/s]\n",
      "100%|██████████| 359/359 [00:00<00:00, 922.28it/s]\n"
     ]
    },
    {
     "name": "stdout",
     "output_type": "stream",
     "text": [
      "Epoch [138/200], Train Loss: 2.3951, Test Loss: 3.2486\n"
     ]
    },
    {
     "name": "stderr",
     "output_type": "stream",
     "text": [
      "100%|██████████| 4397/4397 [00:13<00:00, 320.09it/s]\n",
      "100%|██████████| 359/359 [00:00<00:00, 955.70it/s]\n"
     ]
    },
    {
     "name": "stdout",
     "output_type": "stream",
     "text": [
      "Epoch [139/200], Train Loss: 2.3952, Test Loss: 3.3711\n"
     ]
    },
    {
     "name": "stderr",
     "output_type": "stream",
     "text": [
      "100%|██████████| 4397/4397 [00:13<00:00, 319.49it/s]\n",
      "100%|██████████| 359/359 [00:00<00:00, 953.72it/s]\n"
     ]
    },
    {
     "name": "stdout",
     "output_type": "stream",
     "text": [
      "Epoch [140/200], Train Loss: 2.4121, Test Loss: 3.5952\n"
     ]
    },
    {
     "name": "stderr",
     "output_type": "stream",
     "text": [
      "100%|██████████| 4397/4397 [00:13<00:00, 314.88it/s]\n",
      "100%|██████████| 359/359 [00:00<00:00, 991.44it/s] \n"
     ]
    },
    {
     "name": "stdout",
     "output_type": "stream",
     "text": [
      "Epoch [141/200], Train Loss: 2.3874, Test Loss: 3.4740\n"
     ]
    },
    {
     "name": "stderr",
     "output_type": "stream",
     "text": [
      "100%|██████████| 4397/4397 [00:13<00:00, 317.29it/s]\n",
      "100%|██████████| 359/359 [00:00<00:00, 939.09it/s]\n"
     ]
    },
    {
     "name": "stdout",
     "output_type": "stream",
     "text": [
      "Epoch [142/200], Train Loss: 2.3942, Test Loss: 3.3880\n"
     ]
    },
    {
     "name": "stderr",
     "output_type": "stream",
     "text": [
      "100%|██████████| 4397/4397 [00:13<00:00, 318.37it/s]\n",
      "100%|██████████| 359/359 [00:00<00:00, 929.03it/s]\n"
     ]
    },
    {
     "name": "stdout",
     "output_type": "stream",
     "text": [
      "Epoch [143/200], Train Loss: 2.3621, Test Loss: 3.8014\n"
     ]
    },
    {
     "name": "stderr",
     "output_type": "stream",
     "text": [
      "100%|██████████| 4397/4397 [00:13<00:00, 316.00it/s]\n",
      "100%|██████████| 359/359 [00:00<00:00, 956.56it/s]\n"
     ]
    },
    {
     "name": "stdout",
     "output_type": "stream",
     "text": [
      "Epoch 00144: reducing learning rate of group 0 to 1.0737e-03.\n",
      "Epoch [144/200], Train Loss: 2.3526, Test Loss: 3.5977\n"
     ]
    },
    {
     "name": "stderr",
     "output_type": "stream",
     "text": [
      "100%|██████████| 4397/4397 [00:13<00:00, 315.40it/s]\n",
      "100%|██████████| 359/359 [00:00<00:00, 875.64it/s]\n"
     ]
    },
    {
     "name": "stdout",
     "output_type": "stream",
     "text": [
      "Epoch [145/200], Train Loss: 2.3002, Test Loss: 3.7782\n"
     ]
    },
    {
     "name": "stderr",
     "output_type": "stream",
     "text": [
      "100%|██████████| 4397/4397 [00:13<00:00, 320.23it/s]\n",
      "100%|██████████| 359/359 [00:00<00:00, 947.91it/s]\n"
     ]
    },
    {
     "name": "stdout",
     "output_type": "stream",
     "text": [
      "Epoch [146/200], Train Loss: 2.2979, Test Loss: 3.2297\n"
     ]
    },
    {
     "name": "stderr",
     "output_type": "stream",
     "text": [
      "100%|██████████| 4397/4397 [00:13<00:00, 317.20it/s]\n",
      "100%|██████████| 359/359 [00:00<00:00, 955.75it/s]\n"
     ]
    },
    {
     "name": "stdout",
     "output_type": "stream",
     "text": [
      "Epoch [147/200], Train Loss: 2.2940, Test Loss: 3.9087\n"
     ]
    },
    {
     "name": "stderr",
     "output_type": "stream",
     "text": [
      "100%|██████████| 4397/4397 [00:14<00:00, 311.71it/s]\n",
      "100%|██████████| 359/359 [00:00<00:00, 937.33it/s]\n"
     ]
    },
    {
     "name": "stdout",
     "output_type": "stream",
     "text": [
      "Epoch [148/200], Train Loss: 2.2846, Test Loss: 3.7497\n"
     ]
    },
    {
     "name": "stderr",
     "output_type": "stream",
     "text": [
      "100%|██████████| 4397/4397 [00:14<00:00, 310.96it/s]\n",
      "100%|██████████| 359/359 [00:00<00:00, 944.58it/s]\n"
     ]
    },
    {
     "name": "stdout",
     "output_type": "stream",
     "text": [
      "Epoch [149/200], Train Loss: 2.2835, Test Loss: 3.4027\n"
     ]
    },
    {
     "name": "stderr",
     "output_type": "stream",
     "text": [
      "100%|██████████| 4397/4397 [00:13<00:00, 320.68it/s]\n",
      "100%|██████████| 359/359 [00:00<00:00, 809.59it/s]\n"
     ]
    },
    {
     "name": "stdout",
     "output_type": "stream",
     "text": [
      "Epoch [150/200], Train Loss: 2.2978, Test Loss: 3.5497\n"
     ]
    },
    {
     "name": "stderr",
     "output_type": "stream",
     "text": [
      "100%|██████████| 4397/4397 [00:13<00:00, 319.20it/s]\n",
      "100%|██████████| 359/359 [00:00<00:00, 920.99it/s]\n"
     ]
    },
    {
     "name": "stdout",
     "output_type": "stream",
     "text": [
      "Epoch [151/200], Train Loss: 2.2795, Test Loss: 3.3569\n"
     ]
    },
    {
     "name": "stderr",
     "output_type": "stream",
     "text": [
      "100%|██████████| 4397/4397 [00:13<00:00, 315.80it/s]\n",
      "100%|██████████| 359/359 [00:00<00:00, 944.14it/s]\n"
     ]
    },
    {
     "name": "stdout",
     "output_type": "stream",
     "text": [
      "Best Loss! >>  3.046698966730272\n",
      "Epoch [152/200], Train Loss: 2.2626, Test Loss: 3.0467\n"
     ]
    },
    {
     "name": "stderr",
     "output_type": "stream",
     "text": [
      "100%|██████████| 4397/4397 [00:13<00:00, 318.26it/s]\n",
      "100%|██████████| 359/359 [00:00<00:00, 905.53it/s]\n"
     ]
    },
    {
     "name": "stdout",
     "output_type": "stream",
     "text": [
      "Best Loss! >>  2.933485207036345\n",
      "Epoch [153/200], Train Loss: 2.2877, Test Loss: 2.9335\n"
     ]
    },
    {
     "name": "stderr",
     "output_type": "stream",
     "text": [
      "100%|██████████| 4397/4397 [00:13<00:00, 317.48it/s]\n",
      "100%|██████████| 359/359 [00:00<00:00, 943.97it/s]\n"
     ]
    },
    {
     "name": "stdout",
     "output_type": "stream",
     "text": [
      "Epoch [154/200], Train Loss: 2.2821, Test Loss: 3.2475\n"
     ]
    },
    {
     "name": "stderr",
     "output_type": "stream",
     "text": [
      "100%|██████████| 4397/4397 [00:13<00:00, 316.99it/s]\n",
      "100%|██████████| 359/359 [00:00<00:00, 964.60it/s]\n"
     ]
    },
    {
     "name": "stdout",
     "output_type": "stream",
     "text": [
      "Epoch [155/200], Train Loss: 2.2882, Test Loss: 2.9851\n"
     ]
    },
    {
     "name": "stderr",
     "output_type": "stream",
     "text": [
      "100%|██████████| 4397/4397 [00:13<00:00, 317.36it/s]\n",
      "100%|██████████| 359/359 [00:00<00:00, 935.73it/s]\n"
     ]
    },
    {
     "name": "stdout",
     "output_type": "stream",
     "text": [
      "Epoch [156/200], Train Loss: 2.2970, Test Loss: 3.1209\n"
     ]
    },
    {
     "name": "stderr",
     "output_type": "stream",
     "text": [
      "100%|██████████| 4397/4397 [00:13<00:00, 318.17it/s]\n",
      "100%|██████████| 359/359 [00:00<00:00, 866.01it/s]\n"
     ]
    },
    {
     "name": "stdout",
     "output_type": "stream",
     "text": [
      "Epoch [157/200], Train Loss: 2.2841, Test Loss: 3.7196\n"
     ]
    },
    {
     "name": "stderr",
     "output_type": "stream",
     "text": [
      "100%|██████████| 4397/4397 [00:13<00:00, 317.40it/s]\n",
      "100%|██████████| 359/359 [00:00<00:00, 929.58it/s]\n"
     ]
    },
    {
     "name": "stdout",
     "output_type": "stream",
     "text": [
      "Epoch [158/200], Train Loss: 2.2908, Test Loss: 3.3489\n"
     ]
    },
    {
     "name": "stderr",
     "output_type": "stream",
     "text": [
      "100%|██████████| 4397/4397 [00:13<00:00, 319.08it/s]\n",
      "100%|██████████| 359/359 [00:00<00:00, 928.29it/s]\n"
     ]
    },
    {
     "name": "stdout",
     "output_type": "stream",
     "text": [
      "Epoch [159/200], Train Loss: 2.2858, Test Loss: 3.2744\n"
     ]
    },
    {
     "name": "stderr",
     "output_type": "stream",
     "text": [
      "100%|██████████| 4397/4397 [00:13<00:00, 318.46it/s]\n",
      "100%|██████████| 359/359 [00:00<00:00, 946.07it/s]\n"
     ]
    },
    {
     "name": "stdout",
     "output_type": "stream",
     "text": [
      "Epoch [160/200], Train Loss: 2.2727, Test Loss: 3.1656\n"
     ]
    },
    {
     "name": "stderr",
     "output_type": "stream",
     "text": [
      "100%|██████████| 4397/4397 [00:13<00:00, 316.09it/s]\n",
      "100%|██████████| 359/359 [00:00<00:00, 967.01it/s]\n"
     ]
    },
    {
     "name": "stdout",
     "output_type": "stream",
     "text": [
      "Epoch 00161: reducing learning rate of group 0 to 8.5899e-04.\n",
      "Epoch [161/200], Train Loss: 2.2835, Test Loss: 3.7152\n"
     ]
    },
    {
     "name": "stderr",
     "output_type": "stream",
     "text": [
      "100%|██████████| 4397/4397 [00:13<00:00, 317.63it/s]\n",
      "100%|██████████| 359/359 [00:00<00:00, 904.98it/s]\n"
     ]
    },
    {
     "name": "stdout",
     "output_type": "stream",
     "text": [
      "Epoch [162/200], Train Loss: 2.2221, Test Loss: 3.5475\n"
     ]
    },
    {
     "name": "stderr",
     "output_type": "stream",
     "text": [
      "100%|██████████| 4397/4397 [00:13<00:00, 314.95it/s]\n",
      "100%|██████████| 359/359 [00:00<00:00, 950.17it/s]\n"
     ]
    },
    {
     "name": "stdout",
     "output_type": "stream",
     "text": [
      "Best Loss! >>  2.8874149992439406\n",
      "Epoch [163/200], Train Loss: 2.2308, Test Loss: 2.8874\n"
     ]
    },
    {
     "name": "stderr",
     "output_type": "stream",
     "text": [
      "100%|██████████| 4397/4397 [00:13<00:00, 317.14it/s]\n",
      "100%|██████████| 359/359 [00:00<00:00, 902.22it/s]\n"
     ]
    },
    {
     "name": "stdout",
     "output_type": "stream",
     "text": [
      "Epoch [164/200], Train Loss: 2.2029, Test Loss: 3.0488\n"
     ]
    },
    {
     "name": "stderr",
     "output_type": "stream",
     "text": [
      "100%|██████████| 4397/4397 [00:14<00:00, 313.22it/s]\n",
      "100%|██████████| 359/359 [00:00<00:00, 973.19it/s]\n"
     ]
    },
    {
     "name": "stdout",
     "output_type": "stream",
     "text": [
      "Epoch [165/200], Train Loss: 2.2230, Test Loss: 3.1639\n"
     ]
    },
    {
     "name": "stderr",
     "output_type": "stream",
     "text": [
      "100%|██████████| 4397/4397 [00:13<00:00, 321.05it/s]\n",
      "100%|██████████| 359/359 [00:00<00:00, 968.87it/s] \n"
     ]
    },
    {
     "name": "stdout",
     "output_type": "stream",
     "text": [
      "Epoch [166/200], Train Loss: 2.2090, Test Loss: 3.2454\n"
     ]
    },
    {
     "name": "stderr",
     "output_type": "stream",
     "text": [
      "100%|██████████| 4397/4397 [00:14<00:00, 312.30it/s]\n",
      "100%|██████████| 359/359 [00:00<00:00, 992.86it/s]\n"
     ]
    },
    {
     "name": "stdout",
     "output_type": "stream",
     "text": [
      "Best Loss! >>  2.8486425344907476\n",
      "Epoch [167/200], Train Loss: 2.2058, Test Loss: 2.8486\n"
     ]
    },
    {
     "name": "stderr",
     "output_type": "stream",
     "text": [
      "100%|██████████| 4397/4397 [00:13<00:00, 323.23it/s]\n",
      "100%|██████████| 359/359 [00:00<00:00, 942.36it/s]\n"
     ]
    },
    {
     "name": "stdout",
     "output_type": "stream",
     "text": [
      "Best Loss! >>  2.8104411543743857\n",
      "Epoch [168/200], Train Loss: 2.1921, Test Loss: 2.8104\n"
     ]
    },
    {
     "name": "stderr",
     "output_type": "stream",
     "text": [
      "100%|██████████| 4397/4397 [00:13<00:00, 315.20it/s]\n",
      "100%|██████████| 359/359 [00:00<00:00, 825.37it/s]\n"
     ]
    },
    {
     "name": "stdout",
     "output_type": "stream",
     "text": [
      "Epoch [169/200], Train Loss: 2.2025, Test Loss: 3.0708\n"
     ]
    },
    {
     "name": "stderr",
     "output_type": "stream",
     "text": [
      "100%|██████████| 4397/4397 [00:13<00:00, 319.30it/s]\n",
      "100%|██████████| 359/359 [00:00<00:00, 974.76it/s]\n"
     ]
    },
    {
     "name": "stdout",
     "output_type": "stream",
     "text": [
      "Epoch [170/200], Train Loss: 2.2162, Test Loss: 2.9638\n"
     ]
    },
    {
     "name": "stderr",
     "output_type": "stream",
     "text": [
      "100%|██████████| 4397/4397 [00:13<00:00, 316.48it/s]\n",
      "100%|██████████| 359/359 [00:00<00:00, 952.76it/s]\n"
     ]
    },
    {
     "name": "stdout",
     "output_type": "stream",
     "text": [
      "Epoch [171/200], Train Loss: 2.2089, Test Loss: 3.0145\n"
     ]
    },
    {
     "name": "stderr",
     "output_type": "stream",
     "text": [
      "100%|██████████| 4397/4397 [00:13<00:00, 320.27it/s]\n",
      "100%|██████████| 359/359 [00:00<00:00, 946.44it/s]\n"
     ]
    },
    {
     "name": "stdout",
     "output_type": "stream",
     "text": [
      "Epoch [172/200], Train Loss: 2.2106, Test Loss: 3.0999\n"
     ]
    },
    {
     "name": "stderr",
     "output_type": "stream",
     "text": [
      "100%|██████████| 4397/4397 [00:13<00:00, 316.00it/s]\n",
      "100%|██████████| 359/359 [00:00<00:00, 952.53it/s]\n"
     ]
    },
    {
     "name": "stdout",
     "output_type": "stream",
     "text": [
      "Epoch [173/200], Train Loss: 2.2023, Test Loss: 3.1218\n"
     ]
    },
    {
     "name": "stderr",
     "output_type": "stream",
     "text": [
      "100%|██████████| 4397/4397 [00:13<00:00, 317.30it/s]\n",
      "100%|██████████| 359/359 [00:00<00:00, 947.84it/s]\n"
     ]
    },
    {
     "name": "stdout",
     "output_type": "stream",
     "text": [
      "Epoch [174/200], Train Loss: 2.2233, Test Loss: 3.0904\n"
     ]
    },
    {
     "name": "stderr",
     "output_type": "stream",
     "text": [
      "100%|██████████| 4397/4397 [00:13<00:00, 315.20it/s]\n",
      "100%|██████████| 359/359 [00:00<00:00, 928.91it/s]\n"
     ]
    },
    {
     "name": "stdout",
     "output_type": "stream",
     "text": [
      "Epoch [175/200], Train Loss: 2.1962, Test Loss: 3.2404\n"
     ]
    },
    {
     "name": "stderr",
     "output_type": "stream",
     "text": [
      "100%|██████████| 4397/4397 [00:13<00:00, 321.72it/s]\n",
      "100%|██████████| 359/359 [00:00<00:00, 990.21it/s]\n"
     ]
    },
    {
     "name": "stdout",
     "output_type": "stream",
     "text": [
      "Epoch 00176: reducing learning rate of group 0 to 6.8719e-04.\n",
      "Epoch [176/200], Train Loss: 2.1992, Test Loss: 3.1936\n"
     ]
    },
    {
     "name": "stderr",
     "output_type": "stream",
     "text": [
      "100%|██████████| 4397/4397 [00:13<00:00, 320.16it/s]\n",
      "100%|██████████| 359/359 [00:00<00:00, 964.59it/s]\n"
     ]
    },
    {
     "name": "stdout",
     "output_type": "stream",
     "text": [
      "Epoch [177/200], Train Loss: 2.1557, Test Loss: 2.8214\n"
     ]
    },
    {
     "name": "stderr",
     "output_type": "stream",
     "text": [
      "100%|██████████| 4397/4397 [00:13<00:00, 316.77it/s]\n",
      "100%|██████████| 359/359 [00:00<00:00, 976.06it/s]\n"
     ]
    },
    {
     "name": "stdout",
     "output_type": "stream",
     "text": [
      "Epoch [178/200], Train Loss: 2.1349, Test Loss: 2.8379\n"
     ]
    },
    {
     "name": "stderr",
     "output_type": "stream",
     "text": [
      "100%|██████████| 4397/4397 [00:13<00:00, 315.84it/s]\n",
      "100%|██████████| 359/359 [00:00<00:00, 926.33it/s]\n"
     ]
    },
    {
     "name": "stdout",
     "output_type": "stream",
     "text": [
      "Epoch [179/200], Train Loss: 2.1470, Test Loss: 2.9578\n"
     ]
    },
    {
     "name": "stderr",
     "output_type": "stream",
     "text": [
      "100%|██████████| 4397/4397 [00:13<00:00, 315.09it/s]\n",
      "100%|██████████| 359/359 [00:00<00:00, 959.85it/s]\n"
     ]
    },
    {
     "name": "stdout",
     "output_type": "stream",
     "text": [
      "Epoch [180/200], Train Loss: 2.1522, Test Loss: 3.5964\n"
     ]
    },
    {
     "name": "stderr",
     "output_type": "stream",
     "text": [
      "100%|██████████| 4397/4397 [00:13<00:00, 320.14it/s]\n",
      "100%|██████████| 359/359 [00:00<00:00, 931.50it/s]\n"
     ]
    },
    {
     "name": "stdout",
     "output_type": "stream",
     "text": [
      "Epoch [181/200], Train Loss: 2.1408, Test Loss: 2.8311\n"
     ]
    },
    {
     "name": "stderr",
     "output_type": "stream",
     "text": [
      "100%|██████████| 4397/4397 [00:13<00:00, 318.23it/s]\n",
      "100%|██████████| 359/359 [00:00<00:00, 969.29it/s]\n"
     ]
    },
    {
     "name": "stdout",
     "output_type": "stream",
     "text": [
      "Epoch [182/200], Train Loss: 2.1441, Test Loss: 2.8803\n"
     ]
    },
    {
     "name": "stderr",
     "output_type": "stream",
     "text": [
      "100%|██████████| 4397/4397 [00:13<00:00, 318.67it/s]\n",
      "100%|██████████| 359/359 [00:00<00:00, 895.79it/s]\n"
     ]
    },
    {
     "name": "stdout",
     "output_type": "stream",
     "text": [
      "Epoch [183/200], Train Loss: 2.1347, Test Loss: 3.1000\n"
     ]
    },
    {
     "name": "stderr",
     "output_type": "stream",
     "text": [
      "100%|██████████| 4397/4397 [00:14<00:00, 312.55it/s]\n",
      "100%|██████████| 359/359 [00:00<00:00, 959.37it/s]\n"
     ]
    },
    {
     "name": "stdout",
     "output_type": "stream",
     "text": [
      "Best Loss! >>  2.793102824173266\n",
      "Epoch [184/200], Train Loss: 2.1484, Test Loss: 2.7931\n"
     ]
    },
    {
     "name": "stderr",
     "output_type": "stream",
     "text": [
      "100%|██████████| 4397/4397 [00:13<00:00, 322.13it/s]\n",
      "100%|██████████| 359/359 [00:00<00:00, 921.72it/s]\n"
     ]
    },
    {
     "name": "stdout",
     "output_type": "stream",
     "text": [
      "Epoch [185/200], Train Loss: 2.1375, Test Loss: 2.8874\n"
     ]
    },
    {
     "name": "stderr",
     "output_type": "stream",
     "text": [
      "100%|██████████| 4397/4397 [00:14<00:00, 308.08it/s]\n",
      "100%|██████████| 359/359 [00:00<00:00, 924.11it/s]\n"
     ]
    },
    {
     "name": "stdout",
     "output_type": "stream",
     "text": [
      "Best Loss! >>  2.745356265880935\n",
      "Epoch [186/200], Train Loss: 2.1450, Test Loss: 2.7454\n"
     ]
    },
    {
     "name": "stderr",
     "output_type": "stream",
     "text": [
      "100%|██████████| 4397/4397 [00:13<00:00, 314.08it/s]\n",
      "100%|██████████| 359/359 [00:00<00:00, 945.14it/s]\n"
     ]
    },
    {
     "name": "stdout",
     "output_type": "stream",
     "text": [
      "Epoch [187/200], Train Loss: 2.1329, Test Loss: 2.8177\n"
     ]
    },
    {
     "name": "stderr",
     "output_type": "stream",
     "text": [
      "100%|██████████| 4397/4397 [00:14<00:00, 313.97it/s]\n",
      "100%|██████████| 359/359 [00:00<00:00, 936.56it/s]\n"
     ]
    },
    {
     "name": "stdout",
     "output_type": "stream",
     "text": [
      "Epoch [188/200], Train Loss: 2.1431, Test Loss: 3.1994\n"
     ]
    },
    {
     "name": "stderr",
     "output_type": "stream",
     "text": [
      "100%|██████████| 4397/4397 [00:15<00:00, 280.51it/s]\n",
      "100%|██████████| 359/359 [00:00<00:00, 823.77it/s]\n"
     ]
    },
    {
     "name": "stdout",
     "output_type": "stream",
     "text": [
      "Epoch [189/200], Train Loss: 2.1421, Test Loss: 2.9977\n"
     ]
    },
    {
     "name": "stderr",
     "output_type": "stream",
     "text": [
      "100%|██████████| 4397/4397 [00:17<00:00, 248.32it/s]\n",
      "100%|██████████| 359/359 [00:00<00:00, 766.80it/s]\n"
     ]
    },
    {
     "name": "stdout",
     "output_type": "stream",
     "text": [
      "Epoch [190/200], Train Loss: 2.1404, Test Loss: 2.8471\n"
     ]
    },
    {
     "name": "stderr",
     "output_type": "stream",
     "text": [
      "100%|██████████| 4397/4397 [00:14<00:00, 306.37it/s]\n",
      "100%|██████████| 359/359 [00:00<00:00, 797.84it/s]\n"
     ]
    },
    {
     "name": "stdout",
     "output_type": "stream",
     "text": [
      "Epoch [191/200], Train Loss: 2.1376, Test Loss: 2.8524\n"
     ]
    },
    {
     "name": "stderr",
     "output_type": "stream",
     "text": [
      "100%|██████████| 4397/4397 [00:17<00:00, 258.05it/s]\n",
      "100%|██████████| 359/359 [00:00<00:00, 958.56it/s]\n"
     ]
    },
    {
     "name": "stdout",
     "output_type": "stream",
     "text": [
      "Epoch [192/200], Train Loss: 2.1526, Test Loss: 2.9996\n"
     ]
    },
    {
     "name": "stderr",
     "output_type": "stream",
     "text": [
      "100%|██████████| 4397/4397 [00:17<00:00, 255.67it/s]\n",
      "100%|██████████| 359/359 [00:00<00:00, 403.38it/s]\n"
     ]
    },
    {
     "name": "stdout",
     "output_type": "stream",
     "text": [
      "Epoch [193/200], Train Loss: 2.1421, Test Loss: 3.2494\n"
     ]
    },
    {
     "name": "stderr",
     "output_type": "stream",
     "text": [
      "100%|██████████| 4397/4397 [00:16<00:00, 264.92it/s]\n",
      "100%|██████████| 359/359 [00:00<00:00, 918.85it/s]\n"
     ]
    },
    {
     "name": "stdout",
     "output_type": "stream",
     "text": [
      "Best Loss! >>  2.666254069230683\n",
      "Epoch [194/200], Train Loss: 2.1417, Test Loss: 2.6663\n"
     ]
    },
    {
     "name": "stderr",
     "output_type": "stream",
     "text": [
      "100%|██████████| 4397/4397 [00:14<00:00, 301.71it/s]\n",
      "100%|██████████| 359/359 [00:00<00:00, 999.58it/s] \n"
     ]
    },
    {
     "name": "stdout",
     "output_type": "stream",
     "text": [
      "Epoch [195/200], Train Loss: 2.1398, Test Loss: 2.6769\n"
     ]
    },
    {
     "name": "stderr",
     "output_type": "stream",
     "text": [
      "100%|██████████| 4397/4397 [00:16<00:00, 273.49it/s]\n",
      "100%|██████████| 359/359 [00:00<00:00, 979.01it/s]\n"
     ]
    },
    {
     "name": "stdout",
     "output_type": "stream",
     "text": [
      "Epoch [196/200], Train Loss: 2.1338, Test Loss: 2.8022\n"
     ]
    },
    {
     "name": "stderr",
     "output_type": "stream",
     "text": [
      "100%|██████████| 4397/4397 [00:14<00:00, 309.15it/s]\n",
      "100%|██████████| 359/359 [00:00<00:00, 877.81it/s]\n"
     ]
    },
    {
     "name": "stdout",
     "output_type": "stream",
     "text": [
      "Best Loss! >>  2.6647343929431564\n",
      "Epoch [197/200], Train Loss: 2.1505, Test Loss: 2.6647\n"
     ]
    },
    {
     "name": "stderr",
     "output_type": "stream",
     "text": [
      "100%|██████████| 4397/4397 [00:13<00:00, 330.01it/s]\n",
      "100%|██████████| 359/359 [00:00<00:00, 1187.77it/s]\n"
     ]
    },
    {
     "name": "stdout",
     "output_type": "stream",
     "text": [
      "Epoch [198/200], Train Loss: 2.1310, Test Loss: 3.0675\n"
     ]
    },
    {
     "name": "stderr",
     "output_type": "stream",
     "text": [
      "100%|██████████| 4397/4397 [00:14<00:00, 306.55it/s]\n",
      "100%|██████████| 359/359 [00:00<00:00, 648.28it/s]\n"
     ]
    },
    {
     "name": "stdout",
     "output_type": "stream",
     "text": [
      "Epoch [199/200], Train Loss: 2.1327, Test Loss: 3.0676\n"
     ]
    },
    {
     "name": "stderr",
     "output_type": "stream",
     "text": [
      "100%|██████████| 4397/4397 [00:15<00:00, 287.91it/s]\n",
      "100%|██████████| 359/359 [00:00<00:00, 808.52it/s]\n"
     ]
    },
    {
     "name": "stdout",
     "output_type": "stream",
     "text": [
      "Epoch [200/200], Train Loss: 2.1292, Test Loss: 2.7281\n",
      "TESTING CONFIG >>  {'pe_t': 20, 'history': 1, 'min_points_history': 1, 'horizon_forecast': 1, 'test_days': 360, 'start': 100, 'step_every': 1}\n"
     ]
    },
    {
     "name": "stderr",
     "output_type": "stream",
     "text": [
      "100%|██████████| 5856/5856 [06:07<00:00, 15.92it/s]  \n",
      "100%|██████████| 4397/4397 [00:12<00:00, 358.41it/s]\n",
      "100%|██████████| 359/359 [00:00<00:00, 736.85it/s] \n"
     ]
    },
    {
     "name": "stdout",
     "output_type": "stream",
     "text": [
      "Best Loss! >>  38.04739986090275\n",
      "Epoch [1/200], Train Loss: 30.7205, Test Loss: 38.0474\n"
     ]
    },
    {
     "name": "stderr",
     "output_type": "stream",
     "text": [
      "100%|██████████| 4397/4397 [00:12<00:00, 356.61it/s]\n",
      "100%|██████████| 359/359 [00:00<00:00, 1042.72it/s]\n"
     ]
    },
    {
     "name": "stdout",
     "output_type": "stream",
     "text": [
      "Best Loss! >>  35.811770808397895\n",
      "Epoch [2/200], Train Loss: 22.6075, Test Loss: 35.8118\n"
     ]
    },
    {
     "name": "stderr",
     "output_type": "stream",
     "text": [
      "100%|██████████| 4397/4397 [00:11<00:00, 389.36it/s]\n",
      "100%|██████████| 359/359 [00:00<00:00, 1170.35it/s]\n"
     ]
    },
    {
     "name": "stdout",
     "output_type": "stream",
     "text": [
      "Epoch [3/200], Train Loss: 22.1169, Test Loss: 36.2714\n"
     ]
    },
    {
     "name": "stderr",
     "output_type": "stream",
     "text": [
      "100%|██████████| 4397/4397 [00:11<00:00, 385.17it/s]\n",
      "100%|██████████| 359/359 [00:00<00:00, 1204.43it/s]\n"
     ]
    },
    {
     "name": "stdout",
     "output_type": "stream",
     "text": [
      "Epoch [4/200], Train Loss: 22.0635, Test Loss: 36.1685\n"
     ]
    },
    {
     "name": "stderr",
     "output_type": "stream",
     "text": [
      "100%|██████████| 4397/4397 [00:11<00:00, 375.72it/s]\n",
      "100%|██████████| 359/359 [00:00<00:00, 854.41it/s]\n"
     ]
    },
    {
     "name": "stdout",
     "output_type": "stream",
     "text": [
      "Epoch [5/200], Train Loss: 21.9830, Test Loss: 36.0569\n"
     ]
    },
    {
     "name": "stderr",
     "output_type": "stream",
     "text": [
      "100%|██████████| 4397/4397 [00:14<00:00, 304.01it/s]\n",
      "100%|██████████| 359/359 [00:00<00:00, 985.07it/s] \n"
     ]
    },
    {
     "name": "stdout",
     "output_type": "stream",
     "text": [
      "Epoch [6/200], Train Loss: 21.9839, Test Loss: 37.4079\n"
     ]
    },
    {
     "name": "stderr",
     "output_type": "stream",
     "text": [
      "100%|██████████| 4397/4397 [00:12<00:00, 358.47it/s]\n",
      "100%|██████████| 359/359 [00:00<00:00, 1083.45it/s]\n"
     ]
    },
    {
     "name": "stdout",
     "output_type": "stream",
     "text": [
      "Epoch [7/200], Train Loss: 22.1381, Test Loss: 36.8456\n"
     ]
    },
    {
     "name": "stderr",
     "output_type": "stream",
     "text": [
      "100%|██████████| 4397/4397 [00:16<00:00, 264.55it/s]\n",
      "100%|██████████| 359/359 [00:00<00:00, 834.13it/s]\n"
     ]
    },
    {
     "name": "stdout",
     "output_type": "stream",
     "text": [
      "Epoch [8/200], Train Loss: 21.7686, Test Loss: 36.1224\n"
     ]
    },
    {
     "name": "stderr",
     "output_type": "stream",
     "text": [
      "100%|██████████| 4397/4397 [00:15<00:00, 278.89it/s]\n",
      "100%|██████████| 359/359 [00:00<00:00, 762.82it/s]\n"
     ]
    },
    {
     "name": "stdout",
     "output_type": "stream",
     "text": [
      "Best Loss! >>  35.466874938157275\n",
      "Epoch [9/200], Train Loss: 21.6298, Test Loss: 35.4669\n"
     ]
    },
    {
     "name": "stderr",
     "output_type": "stream",
     "text": [
      "100%|██████████| 4397/4397 [00:15<00:00, 279.18it/s]\n",
      "100%|██████████| 359/359 [00:00<00:00, 627.83it/s]\n"
     ]
    },
    {
     "name": "stdout",
     "output_type": "stream",
     "text": [
      "Epoch [10/200], Train Loss: 21.6246, Test Loss: 35.7523\n"
     ]
    },
    {
     "name": "stderr",
     "output_type": "stream",
     "text": [
      "100%|██████████| 4397/4397 [00:18<00:00, 242.11it/s]\n",
      "100%|██████████| 359/359 [00:00<00:00, 675.13it/s]\n"
     ]
    },
    {
     "name": "stdout",
     "output_type": "stream",
     "text": [
      "Epoch [11/200], Train Loss: 21.4388, Test Loss: 35.6632\n"
     ]
    },
    {
     "name": "stderr",
     "output_type": "stream",
     "text": [
      "100%|██████████| 4397/4397 [00:16<00:00, 258.71it/s]\n",
      "100%|██████████| 359/359 [00:00<00:00, 635.13it/s]\n"
     ]
    },
    {
     "name": "stdout",
     "output_type": "stream",
     "text": [
      "Epoch [12/200], Train Loss: 21.3022, Test Loss: 36.4232\n"
     ]
    },
    {
     "name": "stderr",
     "output_type": "stream",
     "text": [
      "100%|██████████| 4397/4397 [00:17<00:00, 255.56it/s]\n",
      "100%|██████████| 359/359 [00:00<00:00, 786.70it/s]\n"
     ]
    },
    {
     "name": "stdout",
     "output_type": "stream",
     "text": [
      "Epoch [13/200], Train Loss: 21.3069, Test Loss: 36.6816\n"
     ]
    },
    {
     "name": "stderr",
     "output_type": "stream",
     "text": [
      "100%|██████████| 4397/4397 [00:17<00:00, 256.06it/s]\n",
      "100%|██████████| 359/359 [00:00<00:00, 569.04it/s]\n"
     ]
    },
    {
     "name": "stdout",
     "output_type": "stream",
     "text": [
      "Best Loss! >>  35.02714271864187\n",
      "Epoch [14/200], Train Loss: 21.2080, Test Loss: 35.0271\n"
     ]
    },
    {
     "name": "stderr",
     "output_type": "stream",
     "text": [
      "100%|██████████| 4397/4397 [00:17<00:00, 258.46it/s]\n",
      "100%|██████████| 359/359 [00:00<00:00, 604.12it/s]\n"
     ]
    },
    {
     "name": "stdout",
     "output_type": "stream",
     "text": [
      "Epoch [15/200], Train Loss: 21.2877, Test Loss: 36.4843\n"
     ]
    },
    {
     "name": "stderr",
     "output_type": "stream",
     "text": [
      "100%|██████████| 4397/4397 [00:16<00:00, 269.64it/s]\n",
      "100%|██████████| 359/359 [00:00<00:00, 876.35it/s]\n"
     ]
    },
    {
     "name": "stdout",
     "output_type": "stream",
     "text": [
      "Epoch [16/200], Train Loss: 21.3055, Test Loss: 37.6137\n"
     ]
    },
    {
     "name": "stderr",
     "output_type": "stream",
     "text": [
      "100%|██████████| 4397/4397 [00:17<00:00, 244.64it/s]\n",
      "100%|██████████| 359/359 [00:00<00:00, 767.48it/s]\n"
     ]
    },
    {
     "name": "stdout",
     "output_type": "stream",
     "text": [
      "Epoch [17/200], Train Loss: 21.3161, Test Loss: 37.1545\n"
     ]
    },
    {
     "name": "stderr",
     "output_type": "stream",
     "text": [
      "100%|██████████| 4397/4397 [00:19<00:00, 229.41it/s]\n",
      "100%|██████████| 359/359 [00:00<00:00, 577.02it/s]\n"
     ]
    },
    {
     "name": "stdout",
     "output_type": "stream",
     "text": [
      "Best Loss! >>  35.02559382404125\n",
      "Epoch [18/200], Train Loss: 21.2232, Test Loss: 35.0256\n"
     ]
    },
    {
     "name": "stderr",
     "output_type": "stream",
     "text": [
      "100%|██████████| 4397/4397 [00:20<00:00, 211.26it/s]\n",
      "100%|██████████| 359/359 [00:00<00:00, 617.49it/s]\n"
     ]
    },
    {
     "name": "stdout",
     "output_type": "stream",
     "text": [
      "Epoch [19/200], Train Loss: 21.2226, Test Loss: 36.8937\n"
     ]
    },
    {
     "name": "stderr",
     "output_type": "stream",
     "text": [
      "100%|██████████| 4397/4397 [00:20<00:00, 211.11it/s]\n",
      "100%|██████████| 359/359 [00:00<00:00, 622.96it/s]\n"
     ]
    },
    {
     "name": "stdout",
     "output_type": "stream",
     "text": [
      "Epoch [20/200], Train Loss: 21.2413, Test Loss: 36.5807\n"
     ]
    },
    {
     "name": "stderr",
     "output_type": "stream",
     "text": [
      "100%|██████████| 4397/4397 [00:21<00:00, 204.52it/s]\n",
      "100%|██████████| 359/359 [00:00<00:00, 372.67it/s]\n"
     ]
    },
    {
     "name": "stdout",
     "output_type": "stream",
     "text": [
      "Epoch [21/200], Train Loss: 21.2270, Test Loss: 37.4888\n"
     ]
    },
    {
     "name": "stderr",
     "output_type": "stream",
     "text": [
      "100%|██████████| 4397/4397 [00:16<00:00, 264.30it/s]\n",
      "100%|██████████| 359/359 [00:00<00:00, 847.13it/s]\n"
     ]
    },
    {
     "name": "stdout",
     "output_type": "stream",
     "text": [
      "Epoch 00022: reducing learning rate of group 0 to 6.4000e-03.\n",
      "Epoch [22/200], Train Loss: 21.2044, Test Loss: 35.6201\n"
     ]
    },
    {
     "name": "stderr",
     "output_type": "stream",
     "text": [
      "100%|██████████| 4397/4397 [00:15<00:00, 281.69it/s]\n",
      "100%|██████████| 359/359 [00:00<00:00, 880.17it/s]\n"
     ]
    },
    {
     "name": "stdout",
     "output_type": "stream",
     "text": [
      "Epoch [23/200], Train Loss: 20.8917, Test Loss: 36.1072\n"
     ]
    },
    {
     "name": "stderr",
     "output_type": "stream",
     "text": [
      "100%|██████████| 4397/4397 [00:15<00:00, 277.46it/s]\n",
      "100%|██████████| 359/359 [00:00<00:00, 874.74it/s]\n"
     ]
    },
    {
     "name": "stdout",
     "output_type": "stream",
     "text": [
      "Epoch [24/200], Train Loss: 20.8606, Test Loss: 36.4273\n"
     ]
    },
    {
     "name": "stderr",
     "output_type": "stream",
     "text": [
      "100%|██████████| 4397/4397 [00:18<00:00, 242.37it/s]\n",
      "100%|██████████| 359/359 [00:00<00:00, 468.14it/s]\n"
     ]
    },
    {
     "name": "stdout",
     "output_type": "stream",
     "text": [
      "Epoch [25/200], Train Loss: 20.8165, Test Loss: 35.3316\n"
     ]
    },
    {
     "name": "stderr",
     "output_type": "stream",
     "text": [
      "100%|██████████| 4397/4397 [00:17<00:00, 247.18it/s]\n",
      "100%|██████████| 359/359 [00:00<00:00, 661.92it/s]\n"
     ]
    },
    {
     "name": "stdout",
     "output_type": "stream",
     "text": [
      "Epoch [26/200], Train Loss: 20.7537, Test Loss: 35.4438\n"
     ]
    },
    {
     "name": "stderr",
     "output_type": "stream",
     "text": [
      "100%|██████████| 4397/4397 [00:19<00:00, 230.41it/s]\n",
      "100%|██████████| 359/359 [00:00<00:00, 862.92it/s]\n"
     ]
    },
    {
     "name": "stdout",
     "output_type": "stream",
     "text": [
      "Best Loss! >>  34.68621625873704\n",
      "Epoch [27/200], Train Loss: 20.7187, Test Loss: 34.6862\n"
     ]
    },
    {
     "name": "stderr",
     "output_type": "stream",
     "text": [
      "100%|██████████| 4397/4397 [00:15<00:00, 284.94it/s]\n",
      "100%|██████████| 359/359 [00:00<00:00, 825.75it/s]\n"
     ]
    },
    {
     "name": "stdout",
     "output_type": "stream",
     "text": [
      "Epoch [28/200], Train Loss: 20.7378, Test Loss: 35.1608\n"
     ]
    },
    {
     "name": "stderr",
     "output_type": "stream",
     "text": [
      "100%|██████████| 4397/4397 [00:15<00:00, 281.14it/s]\n",
      "100%|██████████| 359/359 [00:00<00:00, 849.93it/s]\n"
     ]
    },
    {
     "name": "stdout",
     "output_type": "stream",
     "text": [
      "Best Loss! >>  34.4686215222712\n",
      "Epoch [29/200], Train Loss: 20.6866, Test Loss: 34.4686\n"
     ]
    },
    {
     "name": "stderr",
     "output_type": "stream",
     "text": [
      "100%|██████████| 4397/4397 [00:17<00:00, 250.67it/s]\n",
      "100%|██████████| 359/359 [00:00<00:00, 687.82it/s]\n"
     ]
    },
    {
     "name": "stdout",
     "output_type": "stream",
     "text": [
      "Epoch [30/200], Train Loss: 20.6468, Test Loss: 35.1666\n"
     ]
    },
    {
     "name": "stderr",
     "output_type": "stream",
     "text": [
      "100%|██████████| 4397/4397 [00:18<00:00, 234.17it/s]\n",
      "100%|██████████| 359/359 [00:00<00:00, 631.89it/s]\n"
     ]
    },
    {
     "name": "stdout",
     "output_type": "stream",
     "text": [
      "Best Loss! >>  34.31421279375932\n",
      "Epoch [31/200], Train Loss: 20.5753, Test Loss: 34.3142\n"
     ]
    },
    {
     "name": "stderr",
     "output_type": "stream",
     "text": [
      "100%|██████████| 4397/4397 [00:23<00:00, 185.67it/s]\n",
      "100%|██████████| 359/359 [00:00<00:00, 455.09it/s]\n"
     ]
    },
    {
     "name": "stdout",
     "output_type": "stream",
     "text": [
      "Epoch [32/200], Train Loss: 20.6112, Test Loss: 34.5300\n"
     ]
    },
    {
     "name": "stderr",
     "output_type": "stream",
     "text": [
      "100%|██████████| 4397/4397 [00:21<00:00, 207.71it/s]\n",
      "100%|██████████| 359/359 [00:00<00:00, 558.35it/s]\n"
     ]
    },
    {
     "name": "stdout",
     "output_type": "stream",
     "text": [
      "Epoch [33/200], Train Loss: 20.6619, Test Loss: 34.8988\n"
     ]
    },
    {
     "name": "stderr",
     "output_type": "stream",
     "text": [
      "100%|██████████| 4397/4397 [00:20<00:00, 212.13it/s]\n",
      "100%|██████████| 359/359 [00:00<00:00, 579.96it/s]\n"
     ]
    },
    {
     "name": "stdout",
     "output_type": "stream",
     "text": [
      "Epoch [34/200], Train Loss: 20.6250, Test Loss: 35.3316\n"
     ]
    },
    {
     "name": "stderr",
     "output_type": "stream",
     "text": [
      "100%|██████████| 4397/4397 [00:16<00:00, 265.12it/s]\n",
      "100%|██████████| 359/359 [00:00<00:00, 872.26it/s]\n"
     ]
    },
    {
     "name": "stdout",
     "output_type": "stream",
     "text": [
      "Best Loss! >>  34.07138371268355\n",
      "Epoch [35/200], Train Loss: 20.5643, Test Loss: 34.0714\n"
     ]
    },
    {
     "name": "stderr",
     "output_type": "stream",
     "text": [
      "100%|██████████| 4397/4397 [00:15<00:00, 281.32it/s]\n",
      "100%|██████████| 359/359 [00:00<00:00, 873.38it/s]\n"
     ]
    },
    {
     "name": "stdout",
     "output_type": "stream",
     "text": [
      "Epoch [36/200], Train Loss: 20.5518, Test Loss: 35.4916\n"
     ]
    },
    {
     "name": "stderr",
     "output_type": "stream",
     "text": [
      "100%|██████████| 4397/4397 [00:15<00:00, 285.01it/s]\n",
      "100%|██████████| 359/359 [00:00<00:00, 880.69it/s]\n"
     ]
    },
    {
     "name": "stdout",
     "output_type": "stream",
     "text": [
      "Epoch [37/200], Train Loss: 20.6044, Test Loss: 34.5753\n"
     ]
    },
    {
     "name": "stderr",
     "output_type": "stream",
     "text": [
      "100%|██████████| 4397/4397 [00:15<00:00, 283.76it/s]\n",
      "100%|██████████| 359/359 [00:00<00:00, 861.49it/s]\n"
     ]
    },
    {
     "name": "stdout",
     "output_type": "stream",
     "text": [
      "Epoch [38/200], Train Loss: 20.6037, Test Loss: 34.9015\n"
     ]
    },
    {
     "name": "stderr",
     "output_type": "stream",
     "text": [
      "100%|██████████| 4397/4397 [00:15<00:00, 284.71it/s]\n",
      "100%|██████████| 359/359 [00:00<00:00, 877.01it/s]\n"
     ]
    },
    {
     "name": "stdout",
     "output_type": "stream",
     "text": [
      "Epoch [39/200], Train Loss: 20.5346, Test Loss: 34.6580\n"
     ]
    },
    {
     "name": "stderr",
     "output_type": "stream",
     "text": [
      "100%|██████████| 4397/4397 [00:15<00:00, 283.55it/s]\n",
      "100%|██████████| 359/359 [00:00<00:00, 806.33it/s]\n"
     ]
    },
    {
     "name": "stdout",
     "output_type": "stream",
     "text": [
      "Epoch [40/200], Train Loss: 20.5138, Test Loss: 35.8909\n"
     ]
    },
    {
     "name": "stderr",
     "output_type": "stream",
     "text": [
      "100%|██████████| 4397/4397 [00:15<00:00, 281.41it/s]\n",
      "100%|██████████| 359/359 [00:00<00:00, 845.30it/s]\n"
     ]
    },
    {
     "name": "stdout",
     "output_type": "stream",
     "text": [
      "Epoch [41/200], Train Loss: 20.5185, Test Loss: 34.6298\n"
     ]
    },
    {
     "name": "stderr",
     "output_type": "stream",
     "text": [
      "100%|██████████| 4397/4397 [00:15<00:00, 287.38it/s]\n",
      "100%|██████████| 359/359 [00:00<00:00, 888.62it/s]\n"
     ]
    },
    {
     "name": "stdout",
     "output_type": "stream",
     "text": [
      "Epoch [42/200], Train Loss: 20.5102, Test Loss: 34.1686\n"
     ]
    },
    {
     "name": "stderr",
     "output_type": "stream",
     "text": [
      "100%|██████████| 4397/4397 [00:15<00:00, 284.27it/s]\n",
      "100%|██████████| 359/359 [00:00<00:00, 889.75it/s]\n"
     ]
    },
    {
     "name": "stdout",
     "output_type": "stream",
     "text": [
      "Epoch 00043: reducing learning rate of group 0 to 5.1200e-03.\n",
      "Epoch [43/200], Train Loss: 20.5488, Test Loss: 34.3631\n"
     ]
    },
    {
     "name": "stderr",
     "output_type": "stream",
     "text": [
      "100%|██████████| 4397/4397 [00:15<00:00, 285.21it/s]\n",
      "100%|██████████| 359/359 [00:00<00:00, 865.70it/s]\n"
     ]
    },
    {
     "name": "stdout",
     "output_type": "stream",
     "text": [
      "Epoch [44/200], Train Loss: 20.2268, Test Loss: 34.5751\n"
     ]
    },
    {
     "name": "stderr",
     "output_type": "stream",
     "text": [
      "100%|██████████| 4397/4397 [00:15<00:00, 281.21it/s]\n",
      "100%|██████████| 359/359 [00:00<00:00, 878.73it/s]\n"
     ]
    },
    {
     "name": "stdout",
     "output_type": "stream",
     "text": [
      "Best Loss! >>  33.36026872300172\n",
      "Epoch [45/200], Train Loss: 20.2187, Test Loss: 33.3603\n"
     ]
    },
    {
     "name": "stderr",
     "output_type": "stream",
     "text": [
      "100%|██████████| 4397/4397 [00:15<00:00, 285.77it/s]\n",
      "100%|██████████| 359/359 [00:00<00:00, 869.13it/s]\n"
     ]
    },
    {
     "name": "stdout",
     "output_type": "stream",
     "text": [
      "Epoch [46/200], Train Loss: 20.2058, Test Loss: 33.7416\n"
     ]
    },
    {
     "name": "stderr",
     "output_type": "stream",
     "text": [
      "100%|██████████| 4397/4397 [00:16<00:00, 274.09it/s]\n",
      "100%|██████████| 359/359 [00:00<00:00, 865.83it/s]\n"
     ]
    },
    {
     "name": "stdout",
     "output_type": "stream",
     "text": [
      "Epoch [47/200], Train Loss: 20.1598, Test Loss: 33.4712\n"
     ]
    },
    {
     "name": "stderr",
     "output_type": "stream",
     "text": [
      "100%|██████████| 4397/4397 [00:15<00:00, 283.18it/s]\n",
      "100%|██████████| 359/359 [00:00<00:00, 867.06it/s]\n"
     ]
    },
    {
     "name": "stdout",
     "output_type": "stream",
     "text": [
      "Epoch [48/200], Train Loss: 20.2093, Test Loss: 33.9970\n"
     ]
    },
    {
     "name": "stderr",
     "output_type": "stream",
     "text": [
      "100%|██████████| 4397/4397 [00:15<00:00, 285.04it/s]\n",
      "100%|██████████| 359/359 [00:00<00:00, 870.79it/s]\n"
     ]
    },
    {
     "name": "stdout",
     "output_type": "stream",
     "text": [
      "Epoch [49/200], Train Loss: 20.1276, Test Loss: 33.3835\n"
     ]
    },
    {
     "name": "stderr",
     "output_type": "stream",
     "text": [
      "100%|██████████| 4397/4397 [00:15<00:00, 284.54it/s]\n",
      "100%|██████████| 359/359 [00:00<00:00, 893.15it/s]\n"
     ]
    },
    {
     "name": "stdout",
     "output_type": "stream",
     "text": [
      "Epoch [50/200], Train Loss: 20.2044, Test Loss: 34.2866\n"
     ]
    },
    {
     "name": "stderr",
     "output_type": "stream",
     "text": [
      "100%|██████████| 4397/4397 [00:15<00:00, 283.35it/s]\n",
      "100%|██████████| 359/359 [00:00<00:00, 857.99it/s]\n"
     ]
    },
    {
     "name": "stdout",
     "output_type": "stream",
     "text": [
      "Epoch [51/200], Train Loss: 20.1751, Test Loss: 33.4853\n"
     ]
    },
    {
     "name": "stderr",
     "output_type": "stream",
     "text": [
      "100%|██████████| 4397/4397 [00:15<00:00, 286.28it/s]\n",
      "100%|██████████| 359/359 [00:00<00:00, 869.62it/s]\n"
     ]
    },
    {
     "name": "stdout",
     "output_type": "stream",
     "text": [
      "Epoch [52/200], Train Loss: 20.1750, Test Loss: 33.5272\n"
     ]
    },
    {
     "name": "stderr",
     "output_type": "stream",
     "text": [
      "100%|██████████| 4397/4397 [00:15<00:00, 283.38it/s]\n",
      "100%|██████████| 359/359 [00:00<00:00, 830.16it/s]\n"
     ]
    },
    {
     "name": "stdout",
     "output_type": "stream",
     "text": [
      "Epoch 00053: reducing learning rate of group 0 to 4.0960e-03.\n",
      "Epoch [53/200], Train Loss: 20.1486, Test Loss: 34.0812\n"
     ]
    },
    {
     "name": "stderr",
     "output_type": "stream",
     "text": [
      "100%|██████████| 4397/4397 [00:15<00:00, 285.67it/s]\n",
      "100%|██████████| 359/359 [00:00<00:00, 877.98it/s]\n"
     ]
    },
    {
     "name": "stdout",
     "output_type": "stream",
     "text": [
      "Epoch [54/200], Train Loss: 19.9537, Test Loss: 33.6172\n"
     ]
    },
    {
     "name": "stderr",
     "output_type": "stream",
     "text": [
      "100%|██████████| 4397/4397 [00:15<00:00, 282.79it/s]\n",
      "100%|██████████| 359/359 [00:00<00:00, 863.87it/s]\n"
     ]
    },
    {
     "name": "stdout",
     "output_type": "stream",
     "text": [
      "Best Loss! >>  32.52166092428988\n",
      "Epoch [55/200], Train Loss: 19.9060, Test Loss: 32.5217\n"
     ]
    },
    {
     "name": "stderr",
     "output_type": "stream",
     "text": [
      "100%|██████████| 4397/4397 [00:15<00:00, 285.77it/s]\n",
      "100%|██████████| 359/359 [00:00<00:00, 868.88it/s]\n"
     ]
    },
    {
     "name": "stdout",
     "output_type": "stream",
     "text": [
      "Best Loss! >>  31.94214859115048\n",
      "Epoch [56/200], Train Loss: 19.8966, Test Loss: 31.9421\n"
     ]
    },
    {
     "name": "stderr",
     "output_type": "stream",
     "text": [
      "100%|██████████| 4397/4397 [00:15<00:00, 283.08it/s]\n",
      "100%|██████████| 359/359 [00:00<00:00, 874.83it/s]\n"
     ]
    },
    {
     "name": "stdout",
     "output_type": "stream",
     "text": [
      "Epoch [57/200], Train Loss: 19.8891, Test Loss: 33.2938\n"
     ]
    },
    {
     "name": "stderr",
     "output_type": "stream",
     "text": [
      "100%|██████████| 4397/4397 [00:15<00:00, 285.15it/s]\n",
      "100%|██████████| 359/359 [00:00<00:00, 864.86it/s]\n"
     ]
    },
    {
     "name": "stdout",
     "output_type": "stream",
     "text": [
      "Epoch [58/200], Train Loss: 19.8683, Test Loss: 32.0297\n"
     ]
    },
    {
     "name": "stderr",
     "output_type": "stream",
     "text": [
      "100%|██████████| 4397/4397 [00:15<00:00, 285.87it/s]\n",
      "100%|██████████| 359/359 [00:00<00:00, 870.52it/s]\n"
     ]
    },
    {
     "name": "stdout",
     "output_type": "stream",
     "text": [
      "Epoch [59/200], Train Loss: 19.8739, Test Loss: 32.8644\n"
     ]
    },
    {
     "name": "stderr",
     "output_type": "stream",
     "text": [
      "100%|██████████| 4397/4397 [00:15<00:00, 285.57it/s]\n",
      "100%|██████████| 359/359 [00:00<00:00, 875.35it/s]\n"
     ]
    },
    {
     "name": "stdout",
     "output_type": "stream",
     "text": [
      "Best Loss! >>  31.91241806264043\n",
      "Epoch [60/200], Train Loss: 19.8451, Test Loss: 31.9124\n"
     ]
    },
    {
     "name": "stderr",
     "output_type": "stream",
     "text": [
      "100%|██████████| 4397/4397 [00:15<00:00, 285.56it/s]\n",
      "100%|██████████| 359/359 [00:00<00:00, 873.73it/s]\n"
     ]
    },
    {
     "name": "stdout",
     "output_type": "stream",
     "text": [
      "Best Loss! >>  31.749881101517957\n",
      "Epoch [61/200], Train Loss: 19.8681, Test Loss: 31.7499\n"
     ]
    },
    {
     "name": "stderr",
     "output_type": "stream",
     "text": [
      "100%|██████████| 4397/4397 [00:15<00:00, 284.86it/s]\n",
      "100%|██████████| 359/359 [00:00<00:00, 890.85it/s]\n"
     ]
    },
    {
     "name": "stdout",
     "output_type": "stream",
     "text": [
      "Epoch [62/200], Train Loss: 19.8614, Test Loss: 31.9282\n"
     ]
    },
    {
     "name": "stderr",
     "output_type": "stream",
     "text": [
      "100%|██████████| 4397/4397 [00:15<00:00, 284.04it/s]\n",
      "100%|██████████| 359/359 [00:00<00:00, 829.12it/s]\n"
     ]
    },
    {
     "name": "stdout",
     "output_type": "stream",
     "text": [
      "Epoch [63/200], Train Loss: 19.8781, Test Loss: 32.5941\n"
     ]
    },
    {
     "name": "stderr",
     "output_type": "stream",
     "text": [
      "100%|██████████| 4397/4397 [00:15<00:00, 283.52it/s]\n",
      "100%|██████████| 359/359 [00:00<00:00, 840.14it/s]\n"
     ]
    },
    {
     "name": "stdout",
     "output_type": "stream",
     "text": [
      "Epoch [64/200], Train Loss: 19.8024, Test Loss: 34.4891\n"
     ]
    },
    {
     "name": "stderr",
     "output_type": "stream",
     "text": [
      "100%|██████████| 4397/4397 [00:15<00:00, 285.02it/s]\n",
      "100%|██████████| 359/359 [00:00<00:00, 881.12it/s]\n"
     ]
    },
    {
     "name": "stdout",
     "output_type": "stream",
     "text": [
      "Best Loss! >>  31.592026367825053\n",
      "Epoch [65/200], Train Loss: 19.8309, Test Loss: 31.5920\n"
     ]
    },
    {
     "name": "stderr",
     "output_type": "stream",
     "text": [
      "100%|██████████| 4397/4397 [00:15<00:00, 285.15it/s]\n",
      "100%|██████████| 359/359 [00:00<00:00, 765.70it/s]\n"
     ]
    },
    {
     "name": "stdout",
     "output_type": "stream",
     "text": [
      "Epoch [66/200], Train Loss: 19.8407, Test Loss: 32.0717\n"
     ]
    },
    {
     "name": "stderr",
     "output_type": "stream",
     "text": [
      "100%|██████████| 4397/4397 [00:15<00:00, 286.04it/s]\n",
      "100%|██████████| 359/359 [00:00<00:00, 856.64it/s]\n"
     ]
    },
    {
     "name": "stdout",
     "output_type": "stream",
     "text": [
      "Epoch [67/200], Train Loss: 19.8109, Test Loss: 31.9544\n"
     ]
    },
    {
     "name": "stderr",
     "output_type": "stream",
     "text": [
      "100%|██████████| 4397/4397 [00:15<00:00, 284.24it/s]\n",
      "100%|██████████| 359/359 [00:00<00:00, 882.84it/s]\n"
     ]
    },
    {
     "name": "stdout",
     "output_type": "stream",
     "text": [
      "Epoch [68/200], Train Loss: 19.8508, Test Loss: 31.9104\n"
     ]
    },
    {
     "name": "stderr",
     "output_type": "stream",
     "text": [
      "100%|██████████| 4397/4397 [00:15<00:00, 287.15it/s]\n",
      "100%|██████████| 359/359 [00:00<00:00, 879.73it/s]\n"
     ]
    },
    {
     "name": "stdout",
     "output_type": "stream",
     "text": [
      "Epoch [69/200], Train Loss: 19.8663, Test Loss: 32.1572\n"
     ]
    },
    {
     "name": "stderr",
     "output_type": "stream",
     "text": [
      "100%|██████████| 4397/4397 [00:15<00:00, 283.79it/s]\n",
      "100%|██████████| 359/359 [00:00<00:00, 876.00it/s]\n"
     ]
    },
    {
     "name": "stdout",
     "output_type": "stream",
     "text": [
      "Epoch [70/200], Train Loss: 19.8315, Test Loss: 32.2707\n"
     ]
    },
    {
     "name": "stderr",
     "output_type": "stream",
     "text": [
      "100%|██████████| 4397/4397 [00:15<00:00, 284.06it/s]\n",
      "100%|██████████| 359/359 [00:00<00:00, 877.76it/s]\n"
     ]
    },
    {
     "name": "stdout",
     "output_type": "stream",
     "text": [
      "Epoch [71/200], Train Loss: 19.8146, Test Loss: 31.8270\n"
     ]
    },
    {
     "name": "stderr",
     "output_type": "stream",
     "text": [
      "100%|██████████| 4397/4397 [00:15<00:00, 283.70it/s]\n",
      "100%|██████████| 359/359 [00:00<00:00, 881.15it/s]\n"
     ]
    },
    {
     "name": "stdout",
     "output_type": "stream",
     "text": [
      "Epoch [72/200], Train Loss: 19.8436, Test Loss: 31.9701\n"
     ]
    },
    {
     "name": "stderr",
     "output_type": "stream",
     "text": [
      "100%|██████████| 4397/4397 [00:15<00:00, 284.68it/s]\n",
      "100%|██████████| 359/359 [00:00<00:00, 850.65it/s]\n"
     ]
    },
    {
     "name": "stdout",
     "output_type": "stream",
     "text": [
      "Epoch 00073: reducing learning rate of group 0 to 3.2768e-03.\n",
      "Epoch [73/200], Train Loss: 19.8472, Test Loss: 32.0259\n"
     ]
    },
    {
     "name": "stderr",
     "output_type": "stream",
     "text": [
      "100%|██████████| 4397/4397 [00:15<00:00, 283.39it/s]\n",
      "100%|██████████| 359/359 [00:00<00:00, 864.38it/s]\n"
     ]
    },
    {
     "name": "stdout",
     "output_type": "stream",
     "text": [
      "Epoch [74/200], Train Loss: 19.6740, Test Loss: 31.8741\n"
     ]
    },
    {
     "name": "stderr",
     "output_type": "stream",
     "text": [
      "100%|██████████| 4397/4397 [00:15<00:00, 285.60it/s]\n",
      "100%|██████████| 359/359 [00:00<00:00, 870.01it/s]\n"
     ]
    },
    {
     "name": "stdout",
     "output_type": "stream",
     "text": [
      "Epoch [75/200], Train Loss: 19.6052, Test Loss: 31.8246\n"
     ]
    },
    {
     "name": "stderr",
     "output_type": "stream",
     "text": [
      "100%|██████████| 4397/4397 [00:15<00:00, 285.28it/s]\n",
      "100%|██████████| 359/359 [00:00<00:00, 870.98it/s]\n"
     ]
    },
    {
     "name": "stdout",
     "output_type": "stream",
     "text": [
      "Epoch [76/200], Train Loss: 19.6299, Test Loss: 31.9523\n"
     ]
    },
    {
     "name": "stderr",
     "output_type": "stream",
     "text": [
      "100%|██████████| 4397/4397 [00:15<00:00, 285.96it/s]\n",
      "100%|██████████| 359/359 [00:00<00:00, 889.59it/s]\n"
     ]
    },
    {
     "name": "stdout",
     "output_type": "stream",
     "text": [
      "Epoch [77/200], Train Loss: 19.6343, Test Loss: 32.5538\n"
     ]
    },
    {
     "name": "stderr",
     "output_type": "stream",
     "text": [
      "100%|██████████| 4397/4397 [00:15<00:00, 284.86it/s]\n",
      "100%|██████████| 359/359 [00:00<00:00, 858.15it/s]\n"
     ]
    },
    {
     "name": "stdout",
     "output_type": "stream",
     "text": [
      "Best Loss! >>  31.441766218222615\n",
      "Epoch [78/200], Train Loss: 19.6074, Test Loss: 31.4418\n"
     ]
    },
    {
     "name": "stderr",
     "output_type": "stream",
     "text": [
      "100%|██████████| 4397/4397 [00:15<00:00, 285.48it/s]\n",
      "100%|██████████| 359/359 [00:00<00:00, 858.13it/s]\n"
     ]
    },
    {
     "name": "stdout",
     "output_type": "stream",
     "text": [
      "Best Loss! >>  31.270885711924944\n",
      "Epoch [79/200], Train Loss: 19.6542, Test Loss: 31.2709\n"
     ]
    },
    {
     "name": "stderr",
     "output_type": "stream",
     "text": [
      "100%|██████████| 4397/4397 [00:15<00:00, 285.97it/s]\n",
      "100%|██████████| 359/359 [00:00<00:00, 879.63it/s]\n"
     ]
    },
    {
     "name": "stdout",
     "output_type": "stream",
     "text": [
      "Epoch [80/200], Train Loss: 19.6058, Test Loss: 31.3052\n"
     ]
    },
    {
     "name": "stderr",
     "output_type": "stream",
     "text": [
      "100%|██████████| 4397/4397 [00:15<00:00, 284.10it/s]\n",
      "100%|██████████| 359/359 [00:00<00:00, 868.62it/s]\n"
     ]
    },
    {
     "name": "stdout",
     "output_type": "stream",
     "text": [
      "Epoch [81/200], Train Loss: 19.5782, Test Loss: 31.3192\n"
     ]
    },
    {
     "name": "stderr",
     "output_type": "stream",
     "text": [
      "100%|██████████| 4397/4397 [00:15<00:00, 286.25it/s]\n",
      "100%|██████████| 359/359 [00:00<00:00, 875.17it/s]\n"
     ]
    },
    {
     "name": "stdout",
     "output_type": "stream",
     "text": [
      "Epoch [82/200], Train Loss: 19.6165, Test Loss: 31.5651\n"
     ]
    },
    {
     "name": "stderr",
     "output_type": "stream",
     "text": [
      "100%|██████████| 4397/4397 [00:15<00:00, 284.89it/s]\n",
      "100%|██████████| 359/359 [00:00<00:00, 842.00it/s]\n"
     ]
    },
    {
     "name": "stdout",
     "output_type": "stream",
     "text": [
      "Epoch [83/200], Train Loss: 19.5954, Test Loss: 32.0509\n"
     ]
    },
    {
     "name": "stderr",
     "output_type": "stream",
     "text": [
      "100%|██████████| 4397/4397 [00:15<00:00, 286.90it/s]\n",
      "100%|██████████| 359/359 [00:00<00:00, 871.50it/s]\n"
     ]
    },
    {
     "name": "stdout",
     "output_type": "stream",
     "text": [
      "Best Loss! >>  31.1738438991451\n",
      "Epoch [84/200], Train Loss: 19.5822, Test Loss: 31.1738\n"
     ]
    },
    {
     "name": "stderr",
     "output_type": "stream",
     "text": [
      "100%|██████████| 4397/4397 [00:15<00:00, 284.31it/s]\n",
      "100%|██████████| 359/359 [00:00<00:00, 797.43it/s]\n"
     ]
    },
    {
     "name": "stdout",
     "output_type": "stream",
     "text": [
      "Epoch [85/200], Train Loss: 19.6168, Test Loss: 31.5026\n"
     ]
    },
    {
     "name": "stderr",
     "output_type": "stream",
     "text": [
      "100%|██████████| 4397/4397 [00:15<00:00, 283.78it/s]\n",
      "100%|██████████| 359/359 [00:00<00:00, 847.67it/s]\n"
     ]
    },
    {
     "name": "stdout",
     "output_type": "stream",
     "text": [
      "Epoch [86/200], Train Loss: 19.5919, Test Loss: 31.3902\n"
     ]
    },
    {
     "name": "stderr",
     "output_type": "stream",
     "text": [
      "100%|██████████| 4397/4397 [00:15<00:00, 280.21it/s]\n",
      "100%|██████████| 359/359 [00:00<00:00, 857.71it/s]\n"
     ]
    },
    {
     "name": "stdout",
     "output_type": "stream",
     "text": [
      "Epoch [87/200], Train Loss: 19.6363, Test Loss: 31.5670\n"
     ]
    },
    {
     "name": "stderr",
     "output_type": "stream",
     "text": [
      "100%|██████████| 4397/4397 [00:15<00:00, 286.89it/s]\n",
      "100%|██████████| 359/359 [00:00<00:00, 857.75it/s]\n"
     ]
    },
    {
     "name": "stdout",
     "output_type": "stream",
     "text": [
      "Epoch [88/200], Train Loss: 19.6078, Test Loss: 32.1906\n"
     ]
    },
    {
     "name": "stderr",
     "output_type": "stream",
     "text": [
      "100%|██████████| 4397/4397 [00:15<00:00, 284.12it/s]\n",
      "100%|██████████| 359/359 [00:00<00:00, 770.07it/s]\n"
     ]
    },
    {
     "name": "stdout",
     "output_type": "stream",
     "text": [
      "Best Loss! >>  31.021814532266685\n",
      "Epoch [89/200], Train Loss: 19.5944, Test Loss: 31.0218\n"
     ]
    },
    {
     "name": "stderr",
     "output_type": "stream",
     "text": [
      "100%|██████████| 4397/4397 [00:15<00:00, 286.15it/s]\n",
      "100%|██████████| 359/359 [00:00<00:00, 859.31it/s]\n"
     ]
    },
    {
     "name": "stdout",
     "output_type": "stream",
     "text": [
      "Epoch [90/200], Train Loss: 19.6115, Test Loss: 32.0229\n"
     ]
    },
    {
     "name": "stderr",
     "output_type": "stream",
     "text": [
      "100%|██████████| 4397/4397 [00:15<00:00, 285.10it/s]\n",
      "100%|██████████| 359/359 [00:00<00:00, 861.25it/s]\n"
     ]
    },
    {
     "name": "stdout",
     "output_type": "stream",
     "text": [
      "Epoch [91/200], Train Loss: 19.5712, Test Loss: 31.8255\n"
     ]
    },
    {
     "name": "stderr",
     "output_type": "stream",
     "text": [
      "100%|██████████| 4397/4397 [00:15<00:00, 285.49it/s]\n",
      "100%|██████████| 359/359 [00:00<00:00, 803.57it/s]\n"
     ]
    },
    {
     "name": "stdout",
     "output_type": "stream",
     "text": [
      "Epoch [92/200], Train Loss: 19.6167, Test Loss: 31.3775\n"
     ]
    },
    {
     "name": "stderr",
     "output_type": "stream",
     "text": [
      "100%|██████████| 4397/4397 [00:15<00:00, 283.69it/s]\n",
      "100%|██████████| 359/359 [00:00<00:00, 879.61it/s]\n"
     ]
    },
    {
     "name": "stdout",
     "output_type": "stream",
     "text": [
      "Epoch [93/200], Train Loss: 19.5821, Test Loss: 32.2351\n"
     ]
    },
    {
     "name": "stderr",
     "output_type": "stream",
     "text": [
      "100%|██████████| 4397/4397 [00:15<00:00, 285.81it/s]\n",
      "100%|██████████| 359/359 [00:00<00:00, 863.65it/s]\n"
     ]
    },
    {
     "name": "stdout",
     "output_type": "stream",
     "text": [
      "Epoch [94/200], Train Loss: 19.5939, Test Loss: 31.3211\n"
     ]
    },
    {
     "name": "stderr",
     "output_type": "stream",
     "text": [
      "100%|██████████| 4397/4397 [00:15<00:00, 285.91it/s]\n",
      "100%|██████████| 359/359 [00:00<00:00, 868.23it/s]\n"
     ]
    },
    {
     "name": "stdout",
     "output_type": "stream",
     "text": [
      "Epoch [95/200], Train Loss: 19.6256, Test Loss: 31.4487\n"
     ]
    },
    {
     "name": "stderr",
     "output_type": "stream",
     "text": [
      "100%|██████████| 4397/4397 [00:15<00:00, 285.72it/s]\n",
      "100%|██████████| 359/359 [00:00<00:00, 877.78it/s]\n"
     ]
    },
    {
     "name": "stdout",
     "output_type": "stream",
     "text": [
      "Epoch [96/200], Train Loss: 19.5801, Test Loss: 31.9373\n"
     ]
    },
    {
     "name": "stderr",
     "output_type": "stream",
     "text": [
      "100%|██████████| 4397/4397 [00:15<00:00, 285.85it/s]\n",
      "100%|██████████| 359/359 [00:00<00:00, 875.38it/s]\n"
     ]
    },
    {
     "name": "stdout",
     "output_type": "stream",
     "text": [
      "Epoch 00097: reducing learning rate of group 0 to 2.6214e-03.\n",
      "Epoch [97/200], Train Loss: 19.5685, Test Loss: 31.2042\n"
     ]
    },
    {
     "name": "stderr",
     "output_type": "stream",
     "text": [
      "100%|██████████| 4397/4397 [00:15<00:00, 284.94it/s]\n",
      "100%|██████████| 359/359 [00:00<00:00, 844.48it/s]\n"
     ]
    },
    {
     "name": "stdout",
     "output_type": "stream",
     "text": [
      "Epoch [98/200], Train Loss: 19.4192, Test Loss: 31.7970\n"
     ]
    },
    {
     "name": "stderr",
     "output_type": "stream",
     "text": [
      "100%|██████████| 4397/4397 [00:15<00:00, 285.36it/s]\n",
      "100%|██████████| 359/359 [00:00<00:00, 851.39it/s]\n"
     ]
    },
    {
     "name": "stdout",
     "output_type": "stream",
     "text": [
      "Epoch [99/200], Train Loss: 19.4271, Test Loss: 31.4585\n"
     ]
    },
    {
     "name": "stderr",
     "output_type": "stream",
     "text": [
      "100%|██████████| 4397/4397 [00:15<00:00, 284.67it/s]\n",
      "100%|██████████| 359/359 [00:00<00:00, 871.83it/s]\n"
     ]
    },
    {
     "name": "stdout",
     "output_type": "stream",
     "text": [
      "Epoch [100/200], Train Loss: 19.4474, Test Loss: 31.0346\n"
     ]
    },
    {
     "name": "stderr",
     "output_type": "stream",
     "text": [
      "100%|██████████| 4397/4397 [00:15<00:00, 284.49it/s]\n",
      "100%|██████████| 359/359 [00:00<00:00, 844.96it/s]\n"
     ]
    },
    {
     "name": "stdout",
     "output_type": "stream",
     "text": [
      "Epoch [101/200], Train Loss: 19.4370, Test Loss: 31.2249\n"
     ]
    },
    {
     "name": "stderr",
     "output_type": "stream",
     "text": [
      "100%|██████████| 4397/4397 [00:15<00:00, 284.79it/s]\n",
      "100%|██████████| 359/359 [00:00<00:00, 829.93it/s]\n"
     ]
    },
    {
     "name": "stdout",
     "output_type": "stream",
     "text": [
      "Epoch [102/200], Train Loss: 19.4254, Test Loss: 31.9905\n"
     ]
    },
    {
     "name": "stderr",
     "output_type": "stream",
     "text": [
      "100%|██████████| 4397/4397 [00:15<00:00, 284.66it/s]\n",
      "100%|██████████| 359/359 [00:00<00:00, 871.25it/s]\n"
     ]
    },
    {
     "name": "stdout",
     "output_type": "stream",
     "text": [
      "Epoch [103/200], Train Loss: 19.4058, Test Loss: 32.2289\n"
     ]
    },
    {
     "name": "stderr",
     "output_type": "stream",
     "text": [
      "100%|██████████| 4397/4397 [00:15<00:00, 286.03it/s]\n",
      "100%|██████████| 359/359 [00:00<00:00, 880.99it/s]\n"
     ]
    },
    {
     "name": "stdout",
     "output_type": "stream",
     "text": [
      "Epoch [104/200], Train Loss: 19.4196, Test Loss: 31.2686\n"
     ]
    },
    {
     "name": "stderr",
     "output_type": "stream",
     "text": [
      "100%|██████████| 4397/4397 [00:15<00:00, 283.17it/s]\n",
      "100%|██████████| 359/359 [00:00<00:00, 812.18it/s]\n"
     ]
    },
    {
     "name": "stdout",
     "output_type": "stream",
     "text": [
      "Epoch 00105: reducing learning rate of group 0 to 2.0972e-03.\n",
      "Epoch [105/200], Train Loss: 19.4026, Test Loss: 31.2111\n"
     ]
    },
    {
     "name": "stderr",
     "output_type": "stream",
     "text": [
      "100%|██████████| 4397/4397 [00:15<00:00, 285.80it/s]\n",
      "100%|██████████| 359/359 [00:00<00:00, 761.26it/s]\n"
     ]
    },
    {
     "name": "stdout",
     "output_type": "stream",
     "text": [
      "Best Loss! >>  30.826301723469598\n",
      "Epoch [106/200], Train Loss: 19.3019, Test Loss: 30.8263\n"
     ]
    },
    {
     "name": "stderr",
     "output_type": "stream",
     "text": [
      "100%|██████████| 4397/4397 [00:15<00:00, 286.29it/s]\n",
      "100%|██████████| 359/359 [00:00<00:00, 866.39it/s]\n"
     ]
    },
    {
     "name": "stdout",
     "output_type": "stream",
     "text": [
      "Epoch [107/200], Train Loss: 19.2728, Test Loss: 31.4758\n"
     ]
    },
    {
     "name": "stderr",
     "output_type": "stream",
     "text": [
      "100%|██████████| 4397/4397 [00:15<00:00, 281.74it/s]\n",
      "100%|██████████| 359/359 [00:00<00:00, 871.19it/s]\n"
     ]
    },
    {
     "name": "stdout",
     "output_type": "stream",
     "text": [
      "Best Loss! >>  30.7816379143335\n",
      "Epoch [108/200], Train Loss: 19.2907, Test Loss: 30.7816\n"
     ]
    },
    {
     "name": "stderr",
     "output_type": "stream",
     "text": [
      "100%|██████████| 4397/4397 [00:15<00:00, 284.23it/s]\n",
      "100%|██████████| 359/359 [00:00<00:00, 880.22it/s]\n"
     ]
    },
    {
     "name": "stdout",
     "output_type": "stream",
     "text": [
      "Best Loss! >>  30.68670210134352\n",
      "Epoch [109/200], Train Loss: 19.2764, Test Loss: 30.6867\n"
     ]
    },
    {
     "name": "stderr",
     "output_type": "stream",
     "text": [
      "100%|██████████| 4397/4397 [00:16<00:00, 259.71it/s]\n",
      "100%|██████████| 359/359 [00:00<00:00, 754.87it/s]\n"
     ]
    },
    {
     "name": "stdout",
     "output_type": "stream",
     "text": [
      "Epoch [110/200], Train Loss: 19.2775, Test Loss: 30.8093\n"
     ]
    },
    {
     "name": "stderr",
     "output_type": "stream",
     "text": [
      "100%|██████████| 4397/4397 [00:17<00:00, 251.91it/s]\n",
      "100%|██████████| 359/359 [00:00<00:00, 724.34it/s]\n"
     ]
    },
    {
     "name": "stdout",
     "output_type": "stream",
     "text": [
      "Best Loss! >>  30.640445385138637\n",
      "Epoch [111/200], Train Loss: 19.2621, Test Loss: 30.6404\n"
     ]
    },
    {
     "name": "stderr",
     "output_type": "stream",
     "text": [
      "100%|██████████| 4397/4397 [00:17<00:00, 251.86it/s]\n",
      "100%|██████████| 359/359 [00:00<00:00, 740.79it/s]\n"
     ]
    },
    {
     "name": "stdout",
     "output_type": "stream",
     "text": [
      "Epoch [112/200], Train Loss: 19.2756, Test Loss: 31.3551\n"
     ]
    },
    {
     "name": "stderr",
     "output_type": "stream",
     "text": [
      "100%|██████████| 4397/4397 [00:17<00:00, 249.30it/s]\n",
      "100%|██████████| 359/359 [00:00<00:00, 752.52it/s]\n"
     ]
    },
    {
     "name": "stdout",
     "output_type": "stream",
     "text": [
      "Epoch [113/200], Train Loss: 19.2655, Test Loss: 30.9786\n"
     ]
    },
    {
     "name": "stderr",
     "output_type": "stream",
     "text": [
      "100%|██████████| 4397/4397 [00:17<00:00, 251.91it/s]\n",
      "100%|██████████| 359/359 [00:00<00:00, 750.07it/s]\n"
     ]
    },
    {
     "name": "stdout",
     "output_type": "stream",
     "text": [
      "Epoch [114/200], Train Loss: 19.2815, Test Loss: 30.9009\n"
     ]
    },
    {
     "name": "stderr",
     "output_type": "stream",
     "text": [
      "100%|██████████| 4397/4397 [00:17<00:00, 251.82it/s]\n",
      "100%|██████████| 359/359 [00:00<00:00, 751.84it/s]\n"
     ]
    },
    {
     "name": "stdout",
     "output_type": "stream",
     "text": [
      "Epoch [115/200], Train Loss: 19.2822, Test Loss: 30.9589\n"
     ]
    },
    {
     "name": "stderr",
     "output_type": "stream",
     "text": [
      "100%|██████████| 4397/4397 [00:17<00:00, 251.54it/s]\n",
      "100%|██████████| 359/359 [00:00<00:00, 702.71it/s]\n"
     ]
    },
    {
     "name": "stdout",
     "output_type": "stream",
     "text": [
      "Epoch [116/200], Train Loss: 19.2582, Test Loss: 31.0346\n"
     ]
    },
    {
     "name": "stderr",
     "output_type": "stream",
     "text": [
      "100%|██████████| 4397/4397 [00:17<00:00, 253.32it/s]\n",
      "100%|██████████| 359/359 [00:00<00:00, 753.11it/s]\n"
     ]
    },
    {
     "name": "stdout",
     "output_type": "stream",
     "text": [
      "Epoch [117/200], Train Loss: 19.2431, Test Loss: 30.8575\n"
     ]
    },
    {
     "name": "stderr",
     "output_type": "stream",
     "text": [
      "100%|██████████| 4397/4397 [00:17<00:00, 251.62it/s]\n",
      "100%|██████████| 359/359 [00:00<00:00, 745.42it/s]\n"
     ]
    },
    {
     "name": "stdout",
     "output_type": "stream",
     "text": [
      "Epoch [118/200], Train Loss: 19.2594, Test Loss: 31.2376\n"
     ]
    },
    {
     "name": "stderr",
     "output_type": "stream",
     "text": [
      "100%|██████████| 4397/4397 [00:17<00:00, 251.44it/s]\n",
      "100%|██████████| 359/359 [00:00<00:00, 768.87it/s]\n"
     ]
    },
    {
     "name": "stdout",
     "output_type": "stream",
     "text": [
      "Epoch 00119: reducing learning rate of group 0 to 1.6777e-03.\n",
      "Epoch [119/200], Train Loss: 19.2471, Test Loss: 31.4469\n"
     ]
    },
    {
     "name": "stderr",
     "output_type": "stream",
     "text": [
      "100%|██████████| 4397/4397 [00:17<00:00, 253.59it/s]\n",
      "100%|██████████| 359/359 [00:00<00:00, 766.58it/s]\n"
     ]
    },
    {
     "name": "stdout",
     "output_type": "stream",
     "text": [
      "Epoch [120/200], Train Loss: 19.1632, Test Loss: 31.0927\n"
     ]
    },
    {
     "name": "stderr",
     "output_type": "stream",
     "text": [
      "100%|██████████| 4397/4397 [00:17<00:00, 251.93it/s]\n",
      "100%|██████████| 359/359 [00:00<00:00, 669.70it/s]\n"
     ]
    },
    {
     "name": "stdout",
     "output_type": "stream",
     "text": [
      "Epoch [121/200], Train Loss: 19.1671, Test Loss: 30.7787\n"
     ]
    },
    {
     "name": "stderr",
     "output_type": "stream",
     "text": [
      "100%|██████████| 4397/4397 [00:17<00:00, 250.30it/s]\n",
      "100%|██████████| 359/359 [00:00<00:00, 734.68it/s]\n"
     ]
    },
    {
     "name": "stdout",
     "output_type": "stream",
     "text": [
      "Epoch [122/200], Train Loss: 19.1662, Test Loss: 31.7441\n"
     ]
    },
    {
     "name": "stderr",
     "output_type": "stream",
     "text": [
      "100%|██████████| 4397/4397 [00:17<00:00, 252.00it/s]\n",
      "100%|██████████| 359/359 [00:00<00:00, 762.12it/s]\n"
     ]
    },
    {
     "name": "stdout",
     "output_type": "stream",
     "text": [
      "Best Loss! >>  30.494139503967794\n",
      "Epoch [123/200], Train Loss: 19.1405, Test Loss: 30.4941\n"
     ]
    },
    {
     "name": "stderr",
     "output_type": "stream",
     "text": [
      "100%|██████████| 4397/4397 [00:17<00:00, 252.03it/s]\n",
      "100%|██████████| 359/359 [00:00<00:00, 748.17it/s]\n"
     ]
    },
    {
     "name": "stdout",
     "output_type": "stream",
     "text": [
      "Epoch [124/200], Train Loss: 19.1492, Test Loss: 30.5397\n"
     ]
    },
    {
     "name": "stderr",
     "output_type": "stream",
     "text": [
      "100%|██████████| 4397/4397 [00:17<00:00, 251.29it/s]\n",
      "100%|██████████| 359/359 [00:00<00:00, 741.75it/s]\n"
     ]
    },
    {
     "name": "stdout",
     "output_type": "stream",
     "text": [
      "Epoch [125/200], Train Loss: 19.1322, Test Loss: 30.9179\n"
     ]
    },
    {
     "name": "stderr",
     "output_type": "stream",
     "text": [
      "100%|██████████| 4397/4397 [00:17<00:00, 251.32it/s]\n",
      "100%|██████████| 359/359 [00:00<00:00, 702.36it/s]\n"
     ]
    },
    {
     "name": "stdout",
     "output_type": "stream",
     "text": [
      "Epoch [126/200], Train Loss: 19.1361, Test Loss: 30.7031\n"
     ]
    },
    {
     "name": "stderr",
     "output_type": "stream",
     "text": [
      "100%|██████████| 4397/4397 [00:17<00:00, 249.81it/s]\n",
      "100%|██████████| 359/359 [00:00<00:00, 760.89it/s]\n"
     ]
    },
    {
     "name": "stdout",
     "output_type": "stream",
     "text": [
      "Epoch [127/200], Train Loss: 19.1442, Test Loss: 30.8248\n"
     ]
    },
    {
     "name": "stderr",
     "output_type": "stream",
     "text": [
      "100%|██████████| 4397/4397 [00:17<00:00, 251.84it/s]\n",
      "100%|██████████| 359/359 [00:00<00:00, 755.52it/s]\n"
     ]
    },
    {
     "name": "stdout",
     "output_type": "stream",
     "text": [
      "Epoch [128/200], Train Loss: 19.1286, Test Loss: 30.5298\n"
     ]
    },
    {
     "name": "stderr",
     "output_type": "stream",
     "text": [
      "100%|██████████| 4397/4397 [00:17<00:00, 251.25it/s]\n",
      "100%|██████████| 359/359 [00:00<00:00, 753.56it/s]\n"
     ]
    },
    {
     "name": "stdout",
     "output_type": "stream",
     "text": [
      "Epoch [129/200], Train Loss: 19.1498, Test Loss: 31.1269\n"
     ]
    },
    {
     "name": "stderr",
     "output_type": "stream",
     "text": [
      "100%|██████████| 4397/4397 [00:17<00:00, 249.88it/s]\n",
      "100%|██████████| 359/359 [00:00<00:00, 747.77it/s]\n"
     ]
    },
    {
     "name": "stdout",
     "output_type": "stream",
     "text": [
      "Epoch [130/200], Train Loss: 19.1250, Test Loss: 31.3347\n"
     ]
    },
    {
     "name": "stderr",
     "output_type": "stream",
     "text": [
      "100%|██████████| 4397/4397 [00:17<00:00, 249.77it/s]\n",
      "100%|██████████| 359/359 [00:00<00:00, 755.50it/s]\n"
     ]
    },
    {
     "name": "stdout",
     "output_type": "stream",
     "text": [
      "Epoch 00131: reducing learning rate of group 0 to 1.3422e-03.\n",
      "Epoch [131/200], Train Loss: 19.1457, Test Loss: 31.0661\n"
     ]
    },
    {
     "name": "stderr",
     "output_type": "stream",
     "text": [
      "100%|██████████| 4397/4397 [00:17<00:00, 251.41it/s]\n",
      "100%|██████████| 359/359 [00:00<00:00, 746.72it/s]\n"
     ]
    },
    {
     "name": "stdout",
     "output_type": "stream",
     "text": [
      "Epoch [132/200], Train Loss: 19.0522, Test Loss: 30.8021\n"
     ]
    },
    {
     "name": "stderr",
     "output_type": "stream",
     "text": [
      "100%|██████████| 4397/4397 [00:17<00:00, 253.37it/s]\n",
      "100%|██████████| 359/359 [00:00<00:00, 712.98it/s]\n"
     ]
    },
    {
     "name": "stdout",
     "output_type": "stream",
     "text": [
      "Best Loss! >>  30.431726360055396\n",
      "Epoch [133/200], Train Loss: 19.0344, Test Loss: 30.4317\n"
     ]
    },
    {
     "name": "stderr",
     "output_type": "stream",
     "text": [
      "100%|██████████| 4397/4397 [00:17<00:00, 250.27it/s]\n",
      "100%|██████████| 359/359 [00:00<00:00, 756.42it/s]\n"
     ]
    },
    {
     "name": "stdout",
     "output_type": "stream",
     "text": [
      "Epoch [134/200], Train Loss: 19.0454, Test Loss: 30.5557\n"
     ]
    },
    {
     "name": "stderr",
     "output_type": "stream",
     "text": [
      "100%|██████████| 4397/4397 [00:17<00:00, 252.06it/s]\n",
      "100%|██████████| 359/359 [00:00<00:00, 748.20it/s]\n"
     ]
    },
    {
     "name": "stdout",
     "output_type": "stream",
     "text": [
      "Epoch [135/200], Train Loss: 19.0506, Test Loss: 30.7224\n"
     ]
    },
    {
     "name": "stderr",
     "output_type": "stream",
     "text": [
      "100%|██████████| 4397/4397 [00:17<00:00, 251.62it/s]\n",
      "100%|██████████| 359/359 [00:00<00:00, 752.77it/s]\n"
     ]
    },
    {
     "name": "stdout",
     "output_type": "stream",
     "text": [
      "Epoch [136/200], Train Loss: 19.0453, Test Loss: 30.4837\n"
     ]
    },
    {
     "name": "stderr",
     "output_type": "stream",
     "text": [
      "100%|██████████| 4397/4397 [00:17<00:00, 251.23it/s]\n",
      "100%|██████████| 359/359 [00:00<00:00, 747.58it/s]\n"
     ]
    },
    {
     "name": "stdout",
     "output_type": "stream",
     "text": [
      "Epoch [137/200], Train Loss: 19.0473, Test Loss: 30.7681\n"
     ]
    },
    {
     "name": "stderr",
     "output_type": "stream",
     "text": [
      "100%|██████████| 4397/4397 [00:17<00:00, 252.60it/s]\n",
      "100%|██████████| 359/359 [00:00<00:00, 751.47it/s]\n"
     ]
    },
    {
     "name": "stdout",
     "output_type": "stream",
     "text": [
      "Epoch [138/200], Train Loss: 19.0349, Test Loss: 30.6060\n"
     ]
    },
    {
     "name": "stderr",
     "output_type": "stream",
     "text": [
      "100%|██████████| 4397/4397 [00:17<00:00, 250.16it/s]\n",
      "100%|██████████| 359/359 [00:00<00:00, 740.72it/s]\n"
     ]
    },
    {
     "name": "stdout",
     "output_type": "stream",
     "text": [
      "Best Loss! >>  30.25315682137577\n",
      "Epoch [139/200], Train Loss: 19.0488, Test Loss: 30.2532\n"
     ]
    },
    {
     "name": "stderr",
     "output_type": "stream",
     "text": [
      "100%|██████████| 4397/4397 [00:17<00:00, 253.14it/s]\n",
      "100%|██████████| 359/359 [00:00<00:00, 751.01it/s]\n"
     ]
    },
    {
     "name": "stdout",
     "output_type": "stream",
     "text": [
      "Epoch [140/200], Train Loss: 19.0460, Test Loss: 30.4197\n"
     ]
    },
    {
     "name": "stderr",
     "output_type": "stream",
     "text": [
      "100%|██████████| 4397/4397 [00:17<00:00, 250.58it/s]\n",
      "100%|██████████| 359/359 [00:00<00:00, 751.23it/s]\n"
     ]
    },
    {
     "name": "stdout",
     "output_type": "stream",
     "text": [
      "Epoch [141/200], Train Loss: 19.0528, Test Loss: 30.5763\n"
     ]
    },
    {
     "name": "stderr",
     "output_type": "stream",
     "text": [
      "100%|██████████| 4397/4397 [00:17<00:00, 251.64it/s]\n",
      "100%|██████████| 359/359 [00:00<00:00, 751.73it/s]\n"
     ]
    },
    {
     "name": "stdout",
     "output_type": "stream",
     "text": [
      "Epoch [142/200], Train Loss: 19.0343, Test Loss: 30.6149\n"
     ]
    },
    {
     "name": "stderr",
     "output_type": "stream",
     "text": [
      "100%|██████████| 4397/4397 [00:17<00:00, 253.28it/s]\n",
      "100%|██████████| 359/359 [00:00<00:00, 724.28it/s]\n"
     ]
    },
    {
     "name": "stdout",
     "output_type": "stream",
     "text": [
      "Epoch [143/200], Train Loss: 19.0538, Test Loss: 30.8710\n"
     ]
    },
    {
     "name": "stderr",
     "output_type": "stream",
     "text": [
      "100%|██████████| 4397/4397 [00:17<00:00, 251.31it/s]\n",
      "100%|██████████| 359/359 [00:00<00:00, 756.40it/s]\n"
     ]
    },
    {
     "name": "stdout",
     "output_type": "stream",
     "text": [
      "Epoch [144/200], Train Loss: 19.0310, Test Loss: 30.3530\n"
     ]
    },
    {
     "name": "stderr",
     "output_type": "stream",
     "text": [
      "100%|██████████| 4397/4397 [00:17<00:00, 252.79it/s]\n",
      "100%|██████████| 359/359 [00:00<00:00, 747.09it/s]\n"
     ]
    },
    {
     "name": "stdout",
     "output_type": "stream",
     "text": [
      "Epoch [145/200], Train Loss: 19.0424, Test Loss: 31.2130\n"
     ]
    },
    {
     "name": "stderr",
     "output_type": "stream",
     "text": [
      "100%|██████████| 4397/4397 [00:17<00:00, 250.44it/s]\n",
      "100%|██████████| 359/359 [00:00<00:00, 759.22it/s]\n"
     ]
    },
    {
     "name": "stdout",
     "output_type": "stream",
     "text": [
      "Epoch [146/200], Train Loss: 19.0502, Test Loss: 30.7774\n"
     ]
    },
    {
     "name": "stderr",
     "output_type": "stream",
     "text": [
      "100%|██████████| 4397/4397 [00:17<00:00, 251.92it/s]\n",
      "100%|██████████| 359/359 [00:00<00:00, 751.70it/s]\n"
     ]
    },
    {
     "name": "stdout",
     "output_type": "stream",
     "text": [
      "Epoch 00147: reducing learning rate of group 0 to 1.0737e-03.\n",
      "Epoch [147/200], Train Loss: 19.0423, Test Loss: 30.5781\n"
     ]
    },
    {
     "name": "stderr",
     "output_type": "stream",
     "text": [
      "100%|██████████| 4397/4397 [00:17<00:00, 251.44it/s]\n",
      "100%|██████████| 359/359 [00:00<00:00, 741.63it/s]\n"
     ]
    },
    {
     "name": "stdout",
     "output_type": "stream",
     "text": [
      "Epoch [148/200], Train Loss: 18.9739, Test Loss: 30.3954\n"
     ]
    },
    {
     "name": "stderr",
     "output_type": "stream",
     "text": [
      "100%|██████████| 4397/4397 [00:17<00:00, 251.08it/s]\n",
      "100%|██████████| 359/359 [00:00<00:00, 734.71it/s]\n"
     ]
    },
    {
     "name": "stdout",
     "output_type": "stream",
     "text": [
      "Epoch [149/200], Train Loss: 18.9875, Test Loss: 30.7225\n"
     ]
    },
    {
     "name": "stderr",
     "output_type": "stream",
     "text": [
      "100%|██████████| 4397/4397 [00:17<00:00, 250.69it/s]\n",
      "100%|██████████| 359/359 [00:00<00:00, 739.17it/s]\n"
     ]
    },
    {
     "name": "stdout",
     "output_type": "stream",
     "text": [
      "Epoch [150/200], Train Loss: 18.9818, Test Loss: 30.4576\n"
     ]
    },
    {
     "name": "stderr",
     "output_type": "stream",
     "text": [
      "100%|██████████| 4397/4397 [00:17<00:00, 251.40it/s]\n",
      "100%|██████████| 359/359 [00:00<00:00, 742.41it/s]\n"
     ]
    },
    {
     "name": "stdout",
     "output_type": "stream",
     "text": [
      "Epoch [151/200], Train Loss: 18.9773, Test Loss: 30.5881\n"
     ]
    },
    {
     "name": "stderr",
     "output_type": "stream",
     "text": [
      "100%|██████████| 4397/4397 [00:17<00:00, 252.93it/s]\n",
      "100%|██████████| 359/359 [00:00<00:00, 737.97it/s]\n"
     ]
    },
    {
     "name": "stdout",
     "output_type": "stream",
     "text": [
      "Epoch [152/200], Train Loss: 18.9761, Test Loss: 30.2562\n"
     ]
    },
    {
     "name": "stderr",
     "output_type": "stream",
     "text": [
      "100%|██████████| 4397/4397 [00:17<00:00, 251.56it/s]\n",
      "100%|██████████| 359/359 [00:00<00:00, 753.45it/s]\n"
     ]
    },
    {
     "name": "stdout",
     "output_type": "stream",
     "text": [
      "Epoch [153/200], Train Loss: 18.9595, Test Loss: 30.4070\n"
     ]
    },
    {
     "name": "stderr",
     "output_type": "stream",
     "text": [
      "100%|██████████| 4397/4397 [00:17<00:00, 251.98it/s]\n",
      "100%|██████████| 359/359 [00:00<00:00, 748.30it/s]\n"
     ]
    },
    {
     "name": "stdout",
     "output_type": "stream",
     "text": [
      "Best Loss! >>  30.12713430186832\n",
      "Epoch [154/200], Train Loss: 18.9813, Test Loss: 30.1271\n"
     ]
    },
    {
     "name": "stderr",
     "output_type": "stream",
     "text": [
      "100%|██████████| 4397/4397 [00:17<00:00, 252.81it/s]\n",
      "100%|██████████| 359/359 [00:00<00:00, 750.76it/s]\n"
     ]
    },
    {
     "name": "stdout",
     "output_type": "stream",
     "text": [
      "Epoch [155/200], Train Loss: 18.9687, Test Loss: 30.7668\n"
     ]
    },
    {
     "name": "stderr",
     "output_type": "stream",
     "text": [
      "100%|██████████| 4397/4397 [00:17<00:00, 251.67it/s]\n",
      "100%|██████████| 359/359 [00:00<00:00, 743.65it/s]\n"
     ]
    },
    {
     "name": "stdout",
     "output_type": "stream",
     "text": [
      "Epoch [156/200], Train Loss: 18.9827, Test Loss: 30.3859\n"
     ]
    },
    {
     "name": "stderr",
     "output_type": "stream",
     "text": [
      "100%|██████████| 4397/4397 [00:17<00:00, 253.60it/s]\n",
      "100%|██████████| 359/359 [00:00<00:00, 749.03it/s]\n"
     ]
    },
    {
     "name": "stdout",
     "output_type": "stream",
     "text": [
      "Epoch [157/200], Train Loss: 18.9597, Test Loss: 30.4041\n"
     ]
    },
    {
     "name": "stderr",
     "output_type": "stream",
     "text": [
      "100%|██████████| 4397/4397 [00:17<00:00, 248.75it/s]\n",
      "100%|██████████| 359/359 [00:00<00:00, 730.37it/s]\n"
     ]
    },
    {
     "name": "stdout",
     "output_type": "stream",
     "text": [
      "Epoch [158/200], Train Loss: 18.9527, Test Loss: 30.4455\n"
     ]
    },
    {
     "name": "stderr",
     "output_type": "stream",
     "text": [
      "100%|██████████| 4397/4397 [00:17<00:00, 251.06it/s]\n",
      "100%|██████████| 359/359 [00:00<00:00, 741.27it/s]\n"
     ]
    },
    {
     "name": "stdout",
     "output_type": "stream",
     "text": [
      "Epoch [159/200], Train Loss: 18.9711, Test Loss: 30.4230\n"
     ]
    },
    {
     "name": "stderr",
     "output_type": "stream",
     "text": [
      "100%|██████████| 4397/4397 [00:17<00:00, 253.01it/s]\n",
      "100%|██████████| 359/359 [00:00<00:00, 754.97it/s]\n"
     ]
    },
    {
     "name": "stdout",
     "output_type": "stream",
     "text": [
      "Epoch [160/200], Train Loss: 18.9677, Test Loss: 30.4140\n"
     ]
    },
    {
     "name": "stderr",
     "output_type": "stream",
     "text": [
      "100%|██████████| 4397/4397 [00:17<00:00, 249.88it/s]\n",
      "100%|██████████| 359/359 [00:00<00:00, 746.07it/s]\n"
     ]
    },
    {
     "name": "stdout",
     "output_type": "stream",
     "text": [
      "Epoch [161/200], Train Loss: 18.9644, Test Loss: 30.4810\n"
     ]
    },
    {
     "name": "stderr",
     "output_type": "stream",
     "text": [
      "100%|██████████| 4397/4397 [00:17<00:00, 252.79it/s]\n",
      "100%|██████████| 359/359 [00:00<00:00, 646.74it/s]\n"
     ]
    },
    {
     "name": "stdout",
     "output_type": "stream",
     "text": [
      "Epoch 00162: reducing learning rate of group 0 to 8.5899e-04.\n",
      "Epoch [162/200], Train Loss: 18.9712, Test Loss: 30.2853\n"
     ]
    },
    {
     "name": "stderr",
     "output_type": "stream",
     "text": [
      "100%|██████████| 4397/4397 [00:17<00:00, 253.26it/s]\n",
      "100%|██████████| 359/359 [00:00<00:00, 734.81it/s]\n"
     ]
    },
    {
     "name": "stdout",
     "output_type": "stream",
     "text": [
      "Epoch [163/200], Train Loss: 18.9279, Test Loss: 30.1847\n"
     ]
    },
    {
     "name": "stderr",
     "output_type": "stream",
     "text": [
      "100%|██████████| 4397/4397 [00:17<00:00, 252.06it/s]\n",
      "100%|██████████| 359/359 [00:00<00:00, 749.01it/s]\n"
     ]
    },
    {
     "name": "stdout",
     "output_type": "stream",
     "text": [
      "Epoch [164/200], Train Loss: 18.9188, Test Loss: 30.3243\n"
     ]
    },
    {
     "name": "stderr",
     "output_type": "stream",
     "text": [
      "100%|██████████| 4397/4397 [00:17<00:00, 251.55it/s]\n",
      "100%|██████████| 359/359 [00:00<00:00, 747.09it/s]\n"
     ]
    },
    {
     "name": "stdout",
     "output_type": "stream",
     "text": [
      "Epoch [165/200], Train Loss: 18.9188, Test Loss: 30.4740\n"
     ]
    },
    {
     "name": "stderr",
     "output_type": "stream",
     "text": [
      "100%|██████████| 4397/4397 [00:17<00:00, 250.75it/s]\n",
      "100%|██████████| 359/359 [00:00<00:00, 753.30it/s]\n"
     ]
    },
    {
     "name": "stdout",
     "output_type": "stream",
     "text": [
      "Epoch [166/200], Train Loss: 18.9197, Test Loss: 30.3174\n"
     ]
    },
    {
     "name": "stderr",
     "output_type": "stream",
     "text": [
      "100%|██████████| 4397/4397 [00:17<00:00, 252.33it/s]\n",
      "100%|██████████| 359/359 [00:00<00:00, 747.48it/s]\n"
     ]
    },
    {
     "name": "stdout",
     "output_type": "stream",
     "text": [
      "Epoch [167/200], Train Loss: 18.9114, Test Loss: 30.2565\n"
     ]
    },
    {
     "name": "stderr",
     "output_type": "stream",
     "text": [
      "100%|██████████| 4397/4397 [00:17<00:00, 250.87it/s]\n",
      "100%|██████████| 359/359 [00:00<00:00, 752.21it/s]\n"
     ]
    },
    {
     "name": "stdout",
     "output_type": "stream",
     "text": [
      "Epoch [168/200], Train Loss: 18.9059, Test Loss: 30.8029\n"
     ]
    },
    {
     "name": "stderr",
     "output_type": "stream",
     "text": [
      "100%|██████████| 4397/4397 [00:17<00:00, 253.20it/s]\n",
      "100%|██████████| 359/359 [00:00<00:00, 754.54it/s]\n"
     ]
    },
    {
     "name": "stdout",
     "output_type": "stream",
     "text": [
      "Epoch [169/200], Train Loss: 18.9187, Test Loss: 30.2428\n"
     ]
    },
    {
     "name": "stderr",
     "output_type": "stream",
     "text": [
      "100%|██████████| 4397/4397 [00:17<00:00, 251.37it/s]\n",
      "100%|██████████| 359/359 [00:00<00:00, 724.52it/s]\n"
     ]
    },
    {
     "name": "stdout",
     "output_type": "stream",
     "text": [
      "Epoch 00170: reducing learning rate of group 0 to 6.8719e-04.\n",
      "Epoch [170/200], Train Loss: 18.9204, Test Loss: 30.2064\n"
     ]
    },
    {
     "name": "stderr",
     "output_type": "stream",
     "text": [
      "100%|██████████| 4397/4397 [00:17<00:00, 251.13it/s]\n",
      "100%|██████████| 359/359 [00:00<00:00, 646.98it/s]\n"
     ]
    },
    {
     "name": "stdout",
     "output_type": "stream",
     "text": [
      "Epoch [171/200], Train Loss: 18.8671, Test Loss: 30.2165\n"
     ]
    },
    {
     "name": "stderr",
     "output_type": "stream",
     "text": [
      "100%|██████████| 4397/4397 [00:17<00:00, 252.60it/s]\n",
      "100%|██████████| 359/359 [00:00<00:00, 755.70it/s]\n"
     ]
    },
    {
     "name": "stdout",
     "output_type": "stream",
     "text": [
      "Epoch [172/200], Train Loss: 18.8693, Test Loss: 30.1700\n"
     ]
    },
    {
     "name": "stderr",
     "output_type": "stream",
     "text": [
      "100%|██████████| 4397/4397 [00:17<00:00, 252.19it/s]\n",
      "100%|██████████| 359/359 [00:00<00:00, 759.02it/s]\n"
     ]
    },
    {
     "name": "stdout",
     "output_type": "stream",
     "text": [
      "Best Loss! >>  30.06819561929092\n",
      "Epoch [173/200], Train Loss: 18.8730, Test Loss: 30.0682\n"
     ]
    },
    {
     "name": "stderr",
     "output_type": "stream",
     "text": [
      "100%|██████████| 4397/4397 [00:17<00:00, 252.46it/s]\n",
      "100%|██████████| 359/359 [00:00<00:00, 734.19it/s]\n"
     ]
    },
    {
     "name": "stdout",
     "output_type": "stream",
     "text": [
      "Epoch [174/200], Train Loss: 18.8672, Test Loss: 30.1584\n"
     ]
    },
    {
     "name": "stderr",
     "output_type": "stream",
     "text": [
      "100%|██████████| 4397/4397 [00:17<00:00, 253.15it/s]\n",
      "100%|██████████| 359/359 [00:00<00:00, 755.33it/s]\n"
     ]
    },
    {
     "name": "stdout",
     "output_type": "stream",
     "text": [
      "Epoch [175/200], Train Loss: 18.8659, Test Loss: 30.0975\n"
     ]
    },
    {
     "name": "stderr",
     "output_type": "stream",
     "text": [
      "100%|██████████| 4397/4397 [00:17<00:00, 251.30it/s]\n",
      "100%|██████████| 359/359 [00:00<00:00, 744.23it/s]\n"
     ]
    },
    {
     "name": "stdout",
     "output_type": "stream",
     "text": [
      "Epoch [176/200], Train Loss: 18.8719, Test Loss: 30.3465\n"
     ]
    },
    {
     "name": "stderr",
     "output_type": "stream",
     "text": [
      "100%|██████████| 4397/4397 [00:17<00:00, 252.71it/s]\n",
      "100%|██████████| 359/359 [00:00<00:00, 759.74it/s]\n"
     ]
    },
    {
     "name": "stdout",
     "output_type": "stream",
     "text": [
      "Epoch [177/200], Train Loss: 18.8683, Test Loss: 30.1310\n"
     ]
    },
    {
     "name": "stderr",
     "output_type": "stream",
     "text": [
      "100%|██████████| 4397/4397 [00:17<00:00, 252.38it/s]\n",
      "100%|██████████| 359/359 [00:00<00:00, 741.06it/s]\n"
     ]
    },
    {
     "name": "stdout",
     "output_type": "stream",
     "text": [
      "Epoch [178/200], Train Loss: 18.8581, Test Loss: 30.1243\n"
     ]
    },
    {
     "name": "stderr",
     "output_type": "stream",
     "text": [
      "100%|██████████| 4397/4397 [00:17<00:00, 251.47it/s]\n",
      "100%|██████████| 359/359 [00:00<00:00, 731.51it/s]\n"
     ]
    },
    {
     "name": "stdout",
     "output_type": "stream",
     "text": [
      "Epoch [179/200], Train Loss: 18.8626, Test Loss: 30.3193\n"
     ]
    },
    {
     "name": "stderr",
     "output_type": "stream",
     "text": [
      "100%|██████████| 4397/4397 [00:17<00:00, 252.14it/s]\n",
      "100%|██████████| 359/359 [00:00<00:00, 746.21it/s]\n"
     ]
    },
    {
     "name": "stdout",
     "output_type": "stream",
     "text": [
      "Epoch [180/200], Train Loss: 18.8658, Test Loss: 30.1195\n"
     ]
    },
    {
     "name": "stderr",
     "output_type": "stream",
     "text": [
      "100%|██████████| 4397/4397 [00:17<00:00, 250.72it/s]\n",
      "100%|██████████| 359/359 [00:00<00:00, 749.31it/s]\n"
     ]
    },
    {
     "name": "stdout",
     "output_type": "stream",
     "text": [
      "Epoch 00181: reducing learning rate of group 0 to 5.4976e-04.\n",
      "Epoch [181/200], Train Loss: 18.8658, Test Loss: 30.2049\n"
     ]
    },
    {
     "name": "stderr",
     "output_type": "stream",
     "text": [
      "100%|██████████| 4397/4397 [00:17<00:00, 250.35it/s]\n",
      "100%|██████████| 359/359 [00:00<00:00, 759.79it/s]\n"
     ]
    },
    {
     "name": "stdout",
     "output_type": "stream",
     "text": [
      "Epoch [182/200], Train Loss: 18.8349, Test Loss: 30.2170\n"
     ]
    },
    {
     "name": "stderr",
     "output_type": "stream",
     "text": [
      "100%|██████████| 4397/4397 [00:17<00:00, 253.32it/s]\n",
      "100%|██████████| 359/359 [00:00<00:00, 750.75it/s]\n"
     ]
    },
    {
     "name": "stdout",
     "output_type": "stream",
     "text": [
      "Best Loss! >>  30.042006840612896\n",
      "Epoch [183/200], Train Loss: 18.8278, Test Loss: 30.0420\n"
     ]
    },
    {
     "name": "stderr",
     "output_type": "stream",
     "text": [
      "100%|██████████| 4397/4397 [00:17<00:00, 252.11it/s]\n",
      "100%|██████████| 359/359 [00:00<00:00, 751.12it/s]\n"
     ]
    },
    {
     "name": "stdout",
     "output_type": "stream",
     "text": [
      "Epoch [184/200], Train Loss: 18.8320, Test Loss: 30.1642\n"
     ]
    },
    {
     "name": "stderr",
     "output_type": "stream",
     "text": [
      "100%|██████████| 4397/4397 [00:17<00:00, 252.91it/s]\n",
      "100%|██████████| 359/359 [00:00<00:00, 749.92it/s]\n"
     ]
    },
    {
     "name": "stdout",
     "output_type": "stream",
     "text": [
      "Best Loss! >>  30.00448332656393\n",
      "Epoch [185/200], Train Loss: 18.8370, Test Loss: 30.0045\n"
     ]
    },
    {
     "name": "stderr",
     "output_type": "stream",
     "text": [
      "100%|██████████| 4397/4397 [00:17<00:00, 250.51it/s]\n",
      "100%|██████████| 359/359 [00:00<00:00, 750.79it/s]\n"
     ]
    },
    {
     "name": "stdout",
     "output_type": "stream",
     "text": [
      "Epoch [186/200], Train Loss: 18.8242, Test Loss: 30.0552\n"
     ]
    },
    {
     "name": "stderr",
     "output_type": "stream",
     "text": [
      "100%|██████████| 4397/4397 [00:17<00:00, 251.62it/s]\n",
      "100%|██████████| 359/359 [00:00<00:00, 764.26it/s]\n"
     ]
    },
    {
     "name": "stdout",
     "output_type": "stream",
     "text": [
      "Epoch [187/200], Train Loss: 18.8184, Test Loss: 30.0560\n"
     ]
    },
    {
     "name": "stderr",
     "output_type": "stream",
     "text": [
      "100%|██████████| 4397/4397 [00:17<00:00, 251.91it/s]\n",
      "100%|██████████| 359/359 [00:00<00:00, 750.27it/s]\n"
     ]
    },
    {
     "name": "stdout",
     "output_type": "stream",
     "text": [
      "Epoch [188/200], Train Loss: 18.8333, Test Loss: 30.1550\n"
     ]
    },
    {
     "name": "stderr",
     "output_type": "stream",
     "text": [
      "100%|██████████| 4397/4397 [00:17<00:00, 250.61it/s]\n",
      "100%|██████████| 359/359 [00:00<00:00, 743.80it/s]\n"
     ]
    },
    {
     "name": "stdout",
     "output_type": "stream",
     "text": [
      "Epoch [189/200], Train Loss: 18.8391, Test Loss: 30.0557\n"
     ]
    },
    {
     "name": "stderr",
     "output_type": "stream",
     "text": [
      "100%|██████████| 4397/4397 [00:17<00:00, 249.56it/s]\n",
      "100%|██████████| 359/359 [00:00<00:00, 730.37it/s]\n"
     ]
    },
    {
     "name": "stdout",
     "output_type": "stream",
     "text": [
      "Epoch [190/200], Train Loss: 18.8270, Test Loss: 30.3925\n"
     ]
    },
    {
     "name": "stderr",
     "output_type": "stream",
     "text": [
      "100%|██████████| 4397/4397 [00:17<00:00, 252.47it/s]\n",
      "100%|██████████| 359/359 [00:00<00:00, 733.02it/s]\n"
     ]
    },
    {
     "name": "stdout",
     "output_type": "stream",
     "text": [
      "Epoch [191/200], Train Loss: 18.8303, Test Loss: 30.3128\n"
     ]
    },
    {
     "name": "stderr",
     "output_type": "stream",
     "text": [
      "100%|██████████| 4397/4397 [00:17<00:00, 251.00it/s]\n",
      "100%|██████████| 359/359 [00:00<00:00, 710.86it/s]\n"
     ]
    },
    {
     "name": "stdout",
     "output_type": "stream",
     "text": [
      "Epoch [192/200], Train Loss: 18.8218, Test Loss: 30.0710\n"
     ]
    },
    {
     "name": "stderr",
     "output_type": "stream",
     "text": [
      "100%|██████████| 4397/4397 [00:17<00:00, 251.47it/s]\n",
      "100%|██████████| 359/359 [00:00<00:00, 758.16it/s]\n"
     ]
    },
    {
     "name": "stdout",
     "output_type": "stream",
     "text": [
      "Epoch 00193: reducing learning rate of group 0 to 4.3980e-04.\n",
      "Epoch [193/200], Train Loss: 18.8276, Test Loss: 30.0349\n"
     ]
    },
    {
     "name": "stderr",
     "output_type": "stream",
     "text": [
      "100%|██████████| 4397/4397 [00:17<00:00, 250.97it/s]\n",
      "100%|██████████| 359/359 [00:00<00:00, 743.01it/s]\n"
     ]
    },
    {
     "name": "stdout",
     "output_type": "stream",
     "text": [
      "Epoch [194/200], Train Loss: 18.7991, Test Loss: 30.0652\n"
     ]
    },
    {
     "name": "stderr",
     "output_type": "stream",
     "text": [
      "100%|██████████| 4397/4397 [00:17<00:00, 252.92it/s]\n",
      "100%|██████████| 359/359 [00:00<00:00, 715.77it/s]\n"
     ]
    },
    {
     "name": "stdout",
     "output_type": "stream",
     "text": [
      "Epoch [195/200], Train Loss: 18.7981, Test Loss: 30.0166\n"
     ]
    },
    {
     "name": "stderr",
     "output_type": "stream",
     "text": [
      "100%|██████████| 4397/4397 [00:17<00:00, 251.32it/s]\n",
      "100%|██████████| 359/359 [00:00<00:00, 754.00it/s]\n"
     ]
    },
    {
     "name": "stdout",
     "output_type": "stream",
     "text": [
      "Epoch [196/200], Train Loss: 18.7994, Test Loss: 30.2519\n"
     ]
    },
    {
     "name": "stderr",
     "output_type": "stream",
     "text": [
      "100%|██████████| 4397/4397 [00:17<00:00, 252.47it/s]\n",
      "100%|██████████| 359/359 [00:00<00:00, 751.58it/s]\n"
     ]
    },
    {
     "name": "stdout",
     "output_type": "stream",
     "text": [
      "Epoch [197/200], Train Loss: 18.8001, Test Loss: 30.0398\n"
     ]
    },
    {
     "name": "stderr",
     "output_type": "stream",
     "text": [
      "100%|██████████| 4397/4397 [00:17<00:00, 251.00it/s]\n",
      "100%|██████████| 359/359 [00:00<00:00, 765.88it/s]\n"
     ]
    },
    {
     "name": "stdout",
     "output_type": "stream",
     "text": [
      "Epoch [198/200], Train Loss: 18.7984, Test Loss: 30.0461\n"
     ]
    },
    {
     "name": "stderr",
     "output_type": "stream",
     "text": [
      "100%|██████████| 4397/4397 [00:17<00:00, 251.20it/s]\n",
      "100%|██████████| 359/359 [00:00<00:00, 756.13it/s]\n"
     ]
    },
    {
     "name": "stdout",
     "output_type": "stream",
     "text": [
      "Epoch [199/200], Train Loss: 18.7936, Test Loss: 30.0443\n"
     ]
    },
    {
     "name": "stderr",
     "output_type": "stream",
     "text": [
      "100%|██████████| 4397/4397 [00:17<00:00, 251.66it/s]\n",
      "100%|██████████| 359/359 [00:00<00:00, 716.99it/s]\n"
     ]
    },
    {
     "name": "stdout",
     "output_type": "stream",
     "text": [
      "Epoch [200/200], Train Loss: 18.7883, Test Loss: 30.0257\n",
      "TESTING CONFIG >>  {'pe_t': 2, 'history': 7, 'min_points_history': 1, 'horizon_forecast': 1, 'test_days': 360, 'start': 100, 'step_every': 1}\n"
     ]
    },
    {
     "name": "stderr",
     "output_type": "stream",
     "text": [
      "100%|██████████| 5850/5850 [02:10<00:00, 44.88it/s]\n",
      "100%|██████████| 4392/4392 [00:24<00:00, 176.08it/s]\n",
      "100%|██████████| 359/359 [00:00<00:00, 573.06it/s]\n"
     ]
    },
    {
     "name": "stdout",
     "output_type": "stream",
     "text": [
      "Best Loss! >>  10.467303280046723\n",
      "Epoch [1/200], Train Loss: 13.6832, Test Loss: 10.4673\n"
     ]
    },
    {
     "name": "stderr",
     "output_type": "stream",
     "text": [
      "100%|██████████| 4392/4392 [00:25<00:00, 174.49it/s]\n",
      "100%|██████████| 359/359 [00:00<00:00, 547.51it/s]\n"
     ]
    },
    {
     "name": "stdout",
     "output_type": "stream",
     "text": [
      "Epoch [2/200], Train Loss: 7.4973, Test Loss: 10.6692\n"
     ]
    },
    {
     "name": "stderr",
     "output_type": "stream",
     "text": [
      "100%|██████████| 4392/4392 [00:24<00:00, 178.05it/s]\n",
      "100%|██████████| 359/359 [00:00<00:00, 571.18it/s]\n"
     ]
    },
    {
     "name": "stdout",
     "output_type": "stream",
     "text": [
      "Best Loss! >>  9.69987789037168\n",
      "Epoch [3/200], Train Loss: 7.4642, Test Loss: 9.6999\n"
     ]
    },
    {
     "name": "stderr",
     "output_type": "stream",
     "text": [
      "100%|██████████| 4392/4392 [00:25<00:00, 175.61it/s]\n",
      "100%|██████████| 359/359 [00:00<00:00, 571.90it/s]\n"
     ]
    },
    {
     "name": "stdout",
     "output_type": "stream",
     "text": [
      "Best Loss! >>  8.747651935619896\n",
      "Epoch [4/200], Train Loss: 7.4025, Test Loss: 8.7477\n"
     ]
    },
    {
     "name": "stderr",
     "output_type": "stream",
     "text": [
      "100%|██████████| 4392/4392 [00:24<00:00, 176.83it/s]\n",
      "100%|██████████| 359/359 [00:00<00:00, 577.57it/s]\n"
     ]
    },
    {
     "name": "stdout",
     "output_type": "stream",
     "text": [
      "Epoch [5/200], Train Loss: 7.2147, Test Loss: 9.8718\n"
     ]
    },
    {
     "name": "stderr",
     "output_type": "stream",
     "text": [
      "100%|██████████| 4392/4392 [00:25<00:00, 174.58it/s]\n",
      "100%|██████████| 359/359 [00:00<00:00, 571.47it/s]\n"
     ]
    },
    {
     "name": "stdout",
     "output_type": "stream",
     "text": [
      "Epoch [6/200], Train Loss: 7.2694, Test Loss: 10.4715\n"
     ]
    },
    {
     "name": "stderr",
     "output_type": "stream",
     "text": [
      "100%|██████████| 4392/4392 [00:24<00:00, 177.58it/s]\n",
      "100%|██████████| 359/359 [00:00<00:00, 590.06it/s]\n"
     ]
    },
    {
     "name": "stdout",
     "output_type": "stream",
     "text": [
      "Epoch [7/200], Train Loss: 7.1979, Test Loss: 9.6568\n"
     ]
    },
    {
     "name": "stderr",
     "output_type": "stream",
     "text": [
      "100%|██████████| 4392/4392 [00:24<00:00, 176.55it/s]\n",
      "100%|██████████| 359/359 [00:00<00:00, 582.19it/s]\n"
     ]
    },
    {
     "name": "stdout",
     "output_type": "stream",
     "text": [
      "Best Loss! >>  8.173061891518595\n",
      "Epoch [8/200], Train Loss: 7.1569, Test Loss: 8.1731\n"
     ]
    },
    {
     "name": "stderr",
     "output_type": "stream",
     "text": [
      "100%|██████████| 4392/4392 [00:24<00:00, 176.96it/s]\n",
      "100%|██████████| 359/359 [00:00<00:00, 550.30it/s]\n"
     ]
    },
    {
     "name": "stdout",
     "output_type": "stream",
     "text": [
      "Epoch [9/200], Train Loss: 6.9742, Test Loss: 8.9981\n"
     ]
    },
    {
     "name": "stderr",
     "output_type": "stream",
     "text": [
      "100%|██████████| 4392/4392 [00:24<00:00, 177.00it/s]\n",
      "100%|██████████| 359/359 [00:00<00:00, 578.95it/s]\n"
     ]
    },
    {
     "name": "stdout",
     "output_type": "stream",
     "text": [
      "Epoch [10/200], Train Loss: 7.0478, Test Loss: 11.4553\n"
     ]
    },
    {
     "name": "stderr",
     "output_type": "stream",
     "text": [
      "100%|██████████| 4392/4392 [00:24<00:00, 177.01it/s]\n",
      "100%|██████████| 359/359 [00:00<00:00, 552.49it/s]\n"
     ]
    },
    {
     "name": "stdout",
     "output_type": "stream",
     "text": [
      "Epoch [11/200], Train Loss: 6.9884, Test Loss: 8.9021\n"
     ]
    },
    {
     "name": "stderr",
     "output_type": "stream",
     "text": [
      "100%|██████████| 4392/4392 [00:25<00:00, 175.14it/s]\n",
      "100%|██████████| 359/359 [00:00<00:00, 643.82it/s]\n"
     ]
    },
    {
     "name": "stdout",
     "output_type": "stream",
     "text": [
      "Best Loss! >>  7.979083585207841\n",
      "Epoch [12/200], Train Loss: 6.9308, Test Loss: 7.9791\n"
     ]
    },
    {
     "name": "stderr",
     "output_type": "stream",
     "text": [
      " 85%|████████▌ | 3740/4392 [39:41<06:55,  1.57it/s]   \n",
      "Traceback (most recent call last):\n",
      "  File \"/Users/valentincthrn/Desktop/TCC/StockMarketGNN/src/utils/logs.py\", line 117, in func_log\n",
      "    return func(*args, **kwargs)\n",
      "  File \"/Users/valentincthrn/Desktop/TCC/StockMarketGNN/src/model/main.py\", line 122, in run_gnn_model\n",
      "    loss, _, _ = run_all(\n",
      "  File \"/Users/valentincthrn/Desktop/TCC/StockMarketGNN/src/model/utils.py\", line 39, in run_all\n",
      "    loss = mape_loss(pred, true)\n",
      "  File \"/Users/valentincthrn/Desktop/TCC/StockMarketGNN/src/utils/common.py\", line 8, in mape_loss\n",
      "    loss = torch.abs(100 * (x - y) / (y + epsilon))\n",
      "KeyboardInterrupt\n",
      "\n"
     ]
    },
    {
     "ename": "AttributeError",
     "evalue": "'tuple' object has no attribute 'tb_frame'",
     "output_type": "error",
     "traceback": [
      "\u001b[0;31m---------------------------------------------------------------------------\u001b[0m",
      "\u001b[0;31mKeyboardInterrupt\u001b[0m                         Traceback (most recent call last)",
      "File \u001b[0;32m~/Desktop/TCC/StockMarketGNN/src/utils/logs.py:117\u001b[0m, in \u001b[0;36mlog_errors.<locals>.func_log\u001b[0;34m(*args, **kwargs)\u001b[0m\n\u001b[1;32m    116\u001b[0m \u001b[39mtry\u001b[39;00m:\n\u001b[0;32m--> 117\u001b[0m     \u001b[39mreturn\u001b[39;00m func(\u001b[39m*\u001b[39;49margs, \u001b[39m*\u001b[39;49m\u001b[39m*\u001b[39;49mkwargs)\n\u001b[1;32m    118\u001b[0m \u001b[39mexcept\u001b[39;00m \u001b[39mBaseException\u001b[39;00m:\n",
      "File \u001b[0;32m~/Desktop/TCC/StockMarketGNN/src/model/main.py:122\u001b[0m, in \u001b[0;36mrun_gnn_model\u001b[0;34m(data, d_size, config_path, exp_name, overwrite_dataprep, overwrite_hyperparams, base_path_save_csv)\u001b[0m\n\u001b[1;32m    121\u001b[0m \u001b[39mfor\u001b[39;00m timestep \u001b[39min\u001b[39;00m tqdm(train_timesteps):\n\u001b[0;32m--> 122\u001b[0m     loss, _, _ \u001b[39m=\u001b[39m run_all(\n\u001b[1;32m    123\u001b[0m         data\u001b[39m=\u001b[39;49mdata,\n\u001b[1;32m    124\u001b[0m         timestep\u001b[39m=\u001b[39;49mtimestep,\n\u001b[1;32m    125\u001b[0m         train_or_test\u001b[39m=\u001b[39;49m\u001b[39m\"\u001b[39;49m\u001b[39mtrain\u001b[39;49m\u001b[39m\"\u001b[39;49m,\n\u001b[1;32m    126\u001b[0m         optimizer\u001b[39m=\u001b[39;49moptimizer,\n\u001b[1;32m    127\u001b[0m         lstms\u001b[39m=\u001b[39;49mlstm_models,\n\u001b[1;32m    128\u001b[0m         my_gnn\u001b[39m=\u001b[39;49mmy_gnn,\n\u001b[1;32m    129\u001b[0m         mlp_heads\u001b[39m=\u001b[39;49mmlp_heads,\n\u001b[1;32m    130\u001b[0m         use_gnn\u001b[39m=\u001b[39;49mconfig\u001b[39m.\u001b[39;49mhyperparams[\u001b[39m\"\u001b[39;49m\u001b[39muse_gnn\u001b[39;49m\u001b[39m\"\u001b[39;49m],\n\u001b[1;32m    131\u001b[0m     )\n\u001b[1;32m    133\u001b[0m     total_train_loss \u001b[39m+\u001b[39m\u001b[39m=\u001b[39m loss\u001b[39m.\u001b[39mitem()\n",
      "File \u001b[0;32m~/Desktop/TCC/StockMarketGNN/src/model/utils.py:39\u001b[0m, in \u001b[0;36mrun_all\u001b[0;34m(data, timestep, train_or_test, optimizer, lstms, my_gnn, mlp_heads, use_gnn)\u001b[0m\n\u001b[1;32m     38\u001b[0m \u001b[39m# Compute the loss\u001b[39;00m\n\u001b[0;32m---> 39\u001b[0m loss \u001b[39m=\u001b[39m mape_loss(pred, true)\n\u001b[1;32m     41\u001b[0m \u001b[39mif\u001b[39;00m train_or_test \u001b[39m==\u001b[39m \u001b[39m\"\u001b[39m\u001b[39mtrain\u001b[39m\u001b[39m\"\u001b[39m:\n\u001b[1;32m     42\u001b[0m     \u001b[39m# Backward pass and optimization\u001b[39;00m\n",
      "File \u001b[0;32m~/Desktop/TCC/StockMarketGNN/src/utils/common.py:8\u001b[0m, in \u001b[0;36mmape_loss\u001b[0;34m(x, y)\u001b[0m\n\u001b[1;32m      7\u001b[0m epsilon \u001b[39m=\u001b[39m \u001b[39m1e-6\u001b[39m\n\u001b[0;32m----> 8\u001b[0m loss \u001b[39m=\u001b[39m torch\u001b[39m.\u001b[39;49mabs(\u001b[39m100\u001b[39;49m \u001b[39m*\u001b[39;49m (x \u001b[39m-\u001b[39;49m y) \u001b[39m/\u001b[39;49m (y \u001b[39m+\u001b[39;49m epsilon))\n\u001b[1;32m      9\u001b[0m \u001b[39mreturn\u001b[39;00m torch\u001b[39m.\u001b[39mmean(loss)\n",
      "\u001b[0;31mKeyboardInterrupt\u001b[0m: ",
      "\nDuring handling of the above exception, another exception occurred:\n",
      "\u001b[0;31mSystemExit\u001b[0m                                Traceback (most recent call last)",
      "    \u001b[0;31m[... skipping hidden 1 frame]\u001b[0m\n",
      "\u001b[1;32m/Users/valentincthrn/Desktop/TCC/StockMarketGNN/notebooks/20231030 - Experiments.ipynb Cell 10\u001b[0m line \u001b[0;36m2\n\u001b[1;32m     <a href='vscode-notebook-cell:/Users/valentincthrn/Desktop/TCC/StockMarketGNN/notebooks/20231030%20-%20Experiments.ipynb#X24sZmlsZQ%3D%3D?line=21'>22</a>\u001b[0m \u001b[39m# get the data\u001b[39;00m\n\u001b[0;32m---> <a href='vscode-notebook-cell:/Users/valentincthrn/Desktop/TCC/StockMarketGNN/notebooks/20231030%20-%20Experiments.ipynb#X24sZmlsZQ%3D%3D?line=22'>23</a>\u001b[0m run_gnn_model(\n\u001b[1;32m     <a href='vscode-notebook-cell:/Users/valentincthrn/Desktop/TCC/StockMarketGNN/notebooks/20231030%20-%20Experiments.ipynb#X24sZmlsZQ%3D%3D?line=23'>24</a>\u001b[0m     data\u001b[39m=\u001b[39;49mdata, \n\u001b[1;32m     <a href='vscode-notebook-cell:/Users/valentincthrn/Desktop/TCC/StockMarketGNN/notebooks/20231030%20-%20Experiments.ipynb#X24sZmlsZQ%3D%3D?line=24'>25</a>\u001b[0m     d_size\u001b[39m=\u001b[39;49md_size, \n\u001b[1;32m     <a href='vscode-notebook-cell:/Users/valentincthrn/Desktop/TCC/StockMarketGNN/notebooks/20231030%20-%20Experiments.ipynb#X24sZmlsZQ%3D%3D?line=25'>26</a>\u001b[0m     config_path\u001b[39m=\u001b[39;49mPath(base_config_path), \n\u001b[1;32m     <a href='vscode-notebook-cell:/Users/valentincthrn/Desktop/TCC/StockMarketGNN/notebooks/20231030%20-%20Experiments.ipynb#X24sZmlsZQ%3D%3D?line=26'>27</a>\u001b[0m     exp_name\u001b[39m=\u001b[39;49mTEST_NAME,\n\u001b[1;32m     <a href='vscode-notebook-cell:/Users/valentincthrn/Desktop/TCC/StockMarketGNN/notebooks/20231030%20-%20Experiments.ipynb#X24sZmlsZQ%3D%3D?line=27'>28</a>\u001b[0m     overwrite_dataprep \u001b[39m=\u001b[39;49m overwrite_params,\n\u001b[1;32m     <a href='vscode-notebook-cell:/Users/valentincthrn/Desktop/TCC/StockMarketGNN/notebooks/20231030%20-%20Experiments.ipynb#X24sZmlsZQ%3D%3D?line=28'>29</a>\u001b[0m     base_path_save_csv \u001b[39m=\u001b[39;49m \u001b[39mstr\u001b[39;49m(DATA_PATH \u001b[39m/\u001b[39;49m rid) \u001b[39m+\u001b[39;49m \u001b[39m\"\u001b[39;49m\u001b[39m/\u001b[39;49m\u001b[39m\"\u001b[39;49m,\n\u001b[1;32m     <a href='vscode-notebook-cell:/Users/valentincthrn/Desktop/TCC/StockMarketGNN/notebooks/20231030%20-%20Experiments.ipynb#X24sZmlsZQ%3D%3D?line=29'>30</a>\u001b[0m )\n",
      "File \u001b[0;32m~/Desktop/TCC/StockMarketGNN/src/utils/logs.py:120\u001b[0m, in \u001b[0;36mlog_errors.<locals>.func_log\u001b[0;34m(*args, **kwargs)\u001b[0m\n\u001b[1;32m    119\u001b[0m logger\u001b[39m.\u001b[39merror(traceback\u001b[39m.\u001b[39mformat_exc())\n\u001b[0;32m--> 120\u001b[0m sys\u001b[39m.\u001b[39;49mexit(\u001b[39m-\u001b[39;49m\u001b[39m1\u001b[39;49m)\n",
      "\u001b[0;31mSystemExit\u001b[0m: -1",
      "\nDuring handling of the above exception, another exception occurred:\n",
      "\u001b[0;31mAttributeError\u001b[0m                            Traceback (most recent call last)",
      "    \u001b[0;31m[... skipping hidden 1 frame]\u001b[0m\n",
      "File \u001b[0;32m~/Desktop/TCC/StockMarketGNN/tcc-env/lib/python3.9/site-packages/IPython/core/interactiveshell.py:2095\u001b[0m, in \u001b[0;36mInteractiveShell.showtraceback\u001b[0;34m(self, exc_tuple, filename, tb_offset, exception_only, running_compiled_code)\u001b[0m\n\u001b[1;32m   2092\u001b[0m \u001b[39mif\u001b[39;00m exception_only:\n\u001b[1;32m   2093\u001b[0m     stb \u001b[39m=\u001b[39m [\u001b[39m'\u001b[39m\u001b[39mAn exception has occurred, use \u001b[39m\u001b[39m%\u001b[39m\u001b[39mtb to see \u001b[39m\u001b[39m'\u001b[39m\n\u001b[1;32m   2094\u001b[0m            \u001b[39m'\u001b[39m\u001b[39mthe full traceback.\u001b[39m\u001b[39m\\n\u001b[39;00m\u001b[39m'\u001b[39m]\n\u001b[0;32m-> 2095\u001b[0m     stb\u001b[39m.\u001b[39mextend(\u001b[39mself\u001b[39;49m\u001b[39m.\u001b[39;49mInteractiveTB\u001b[39m.\u001b[39;49mget_exception_only(etype,\n\u001b[1;32m   2096\u001b[0m                                                      value))\n\u001b[1;32m   2097\u001b[0m \u001b[39melse\u001b[39;00m:\n\u001b[1;32m   2098\u001b[0m     \u001b[39mtry\u001b[39;00m:\n\u001b[1;32m   2099\u001b[0m         \u001b[39m# Exception classes can customise their traceback - we\u001b[39;00m\n\u001b[1;32m   2100\u001b[0m         \u001b[39m# use this in IPython.parallel for exceptions occurring\u001b[39;00m\n\u001b[1;32m   2101\u001b[0m         \u001b[39m# in the engines. This should return a list of strings.\u001b[39;00m\n",
      "File \u001b[0;32m~/Desktop/TCC/StockMarketGNN/tcc-env/lib/python3.9/site-packages/IPython/core/ultratb.py:710\u001b[0m, in \u001b[0;36mListTB.get_exception_only\u001b[0;34m(self, etype, value)\u001b[0m\n\u001b[1;32m    702\u001b[0m \u001b[39mdef\u001b[39;00m \u001b[39mget_exception_only\u001b[39m(\u001b[39mself\u001b[39m, etype, value):\n\u001b[1;32m    703\u001b[0m \u001b[39m    \u001b[39m\u001b[39m\"\"\"Only print the exception type and message, without a traceback.\u001b[39;00m\n\u001b[1;32m    704\u001b[0m \n\u001b[1;32m    705\u001b[0m \u001b[39m    Parameters\u001b[39;00m\n\u001b[0;32m   (...)\u001b[0m\n\u001b[1;32m    708\u001b[0m \u001b[39m    value : exception value\u001b[39;00m\n\u001b[1;32m    709\u001b[0m \u001b[39m    \"\"\"\u001b[39;00m\n\u001b[0;32m--> 710\u001b[0m     \u001b[39mreturn\u001b[39;00m ListTB\u001b[39m.\u001b[39;49mstructured_traceback(\u001b[39mself\u001b[39;49m, etype, value)\n",
      "File \u001b[0;32m~/Desktop/TCC/StockMarketGNN/tcc-env/lib/python3.9/site-packages/IPython/core/ultratb.py:568\u001b[0m, in \u001b[0;36mListTB.structured_traceback\u001b[0;34m(self, etype, evalue, etb, tb_offset, context)\u001b[0m\n\u001b[1;32m    565\u001b[0m     chained_exc_ids\u001b[39m.\u001b[39madd(\u001b[39mid\u001b[39m(exception[\u001b[39m1\u001b[39m]))\n\u001b[1;32m    566\u001b[0m     chained_exceptions_tb_offset \u001b[39m=\u001b[39m \u001b[39m0\u001b[39m\n\u001b[1;32m    567\u001b[0m     out_list \u001b[39m=\u001b[39m (\n\u001b[0;32m--> 568\u001b[0m         \u001b[39mself\u001b[39;49m\u001b[39m.\u001b[39;49mstructured_traceback(\n\u001b[1;32m    569\u001b[0m             etype,\n\u001b[1;32m    570\u001b[0m             evalue,\n\u001b[1;32m    571\u001b[0m             (etb, chained_exc_ids),  \u001b[39m# type: ignore\u001b[39;49;00m\n\u001b[1;32m    572\u001b[0m             chained_exceptions_tb_offset,\n\u001b[1;32m    573\u001b[0m             context,\n\u001b[1;32m    574\u001b[0m         )\n\u001b[1;32m    575\u001b[0m         \u001b[39m+\u001b[39m chained_exception_message\n\u001b[1;32m    576\u001b[0m         \u001b[39m+\u001b[39m out_list)\n\u001b[1;32m    578\u001b[0m \u001b[39mreturn\u001b[39;00m out_list\n",
      "File \u001b[0;32m~/Desktop/TCC/StockMarketGNN/tcc-env/lib/python3.9/site-packages/IPython/core/ultratb.py:1428\u001b[0m, in \u001b[0;36mAutoFormattedTB.structured_traceback\u001b[0;34m(self, etype, evalue, etb, tb_offset, number_of_lines_of_context)\u001b[0m\n\u001b[1;32m   1426\u001b[0m \u001b[39melse\u001b[39;00m:\n\u001b[1;32m   1427\u001b[0m     \u001b[39mself\u001b[39m\u001b[39m.\u001b[39mtb \u001b[39m=\u001b[39m etb\n\u001b[0;32m-> 1428\u001b[0m \u001b[39mreturn\u001b[39;00m FormattedTB\u001b[39m.\u001b[39;49mstructured_traceback(\n\u001b[1;32m   1429\u001b[0m     \u001b[39mself\u001b[39;49m, etype, evalue, etb, tb_offset, number_of_lines_of_context\n\u001b[1;32m   1430\u001b[0m )\n",
      "File \u001b[0;32m~/Desktop/TCC/StockMarketGNN/tcc-env/lib/python3.9/site-packages/IPython/core/ultratb.py:1319\u001b[0m, in \u001b[0;36mFormattedTB.structured_traceback\u001b[0;34m(self, etype, value, tb, tb_offset, number_of_lines_of_context)\u001b[0m\n\u001b[1;32m   1316\u001b[0m mode \u001b[39m=\u001b[39m \u001b[39mself\u001b[39m\u001b[39m.\u001b[39mmode\n\u001b[1;32m   1317\u001b[0m \u001b[39mif\u001b[39;00m mode \u001b[39min\u001b[39;00m \u001b[39mself\u001b[39m\u001b[39m.\u001b[39mverbose_modes:\n\u001b[1;32m   1318\u001b[0m     \u001b[39m# Verbose modes need a full traceback\u001b[39;00m\n\u001b[0;32m-> 1319\u001b[0m     \u001b[39mreturn\u001b[39;00m VerboseTB\u001b[39m.\u001b[39;49mstructured_traceback(\n\u001b[1;32m   1320\u001b[0m         \u001b[39mself\u001b[39;49m, etype, value, tb, tb_offset, number_of_lines_of_context\n\u001b[1;32m   1321\u001b[0m     )\n\u001b[1;32m   1322\u001b[0m \u001b[39melif\u001b[39;00m mode \u001b[39m==\u001b[39m \u001b[39m'\u001b[39m\u001b[39mMinimal\u001b[39m\u001b[39m'\u001b[39m:\n\u001b[1;32m   1323\u001b[0m     \u001b[39mreturn\u001b[39;00m ListTB\u001b[39m.\u001b[39mget_exception_only(\u001b[39mself\u001b[39m, etype, value)\n",
      "File \u001b[0;32m~/Desktop/TCC/StockMarketGNN/tcc-env/lib/python3.9/site-packages/IPython/core/ultratb.py:1172\u001b[0m, in \u001b[0;36mVerboseTB.structured_traceback\u001b[0;34m(self, etype, evalue, etb, tb_offset, number_of_lines_of_context)\u001b[0m\n\u001b[1;32m   1163\u001b[0m \u001b[39mdef\u001b[39;00m \u001b[39mstructured_traceback\u001b[39m(\n\u001b[1;32m   1164\u001b[0m     \u001b[39mself\u001b[39m,\n\u001b[1;32m   1165\u001b[0m     etype: \u001b[39mtype\u001b[39m,\n\u001b[0;32m   (...)\u001b[0m\n\u001b[1;32m   1169\u001b[0m     number_of_lines_of_context: \u001b[39mint\u001b[39m \u001b[39m=\u001b[39m \u001b[39m5\u001b[39m,\n\u001b[1;32m   1170\u001b[0m ):\n\u001b[1;32m   1171\u001b[0m \u001b[39m    \u001b[39m\u001b[39m\"\"\"Return a nice text document describing the traceback.\"\"\"\u001b[39;00m\n\u001b[0;32m-> 1172\u001b[0m     formatted_exception \u001b[39m=\u001b[39m \u001b[39mself\u001b[39;49m\u001b[39m.\u001b[39;49mformat_exception_as_a_whole(etype, evalue, etb, number_of_lines_of_context,\n\u001b[1;32m   1173\u001b[0m                                                            tb_offset)\n\u001b[1;32m   1175\u001b[0m     colors \u001b[39m=\u001b[39m \u001b[39mself\u001b[39m\u001b[39m.\u001b[39mColors  \u001b[39m# just a shorthand + quicker name lookup\u001b[39;00m\n\u001b[1;32m   1176\u001b[0m     colorsnormal \u001b[39m=\u001b[39m colors\u001b[39m.\u001b[39mNormal  \u001b[39m# used a lot\u001b[39;00m\n",
      "File \u001b[0;32m~/Desktop/TCC/StockMarketGNN/tcc-env/lib/python3.9/site-packages/IPython/core/ultratb.py:1062\u001b[0m, in \u001b[0;36mVerboseTB.format_exception_as_a_whole\u001b[0;34m(self, etype, evalue, etb, number_of_lines_of_context, tb_offset)\u001b[0m\n\u001b[1;32m   1059\u001b[0m \u001b[39massert\u001b[39;00m \u001b[39misinstance\u001b[39m(tb_offset, \u001b[39mint\u001b[39m)\n\u001b[1;32m   1060\u001b[0m head \u001b[39m=\u001b[39m \u001b[39mself\u001b[39m\u001b[39m.\u001b[39mprepare_header(\u001b[39mstr\u001b[39m(etype), \u001b[39mself\u001b[39m\u001b[39m.\u001b[39mlong_header)\n\u001b[1;32m   1061\u001b[0m records \u001b[39m=\u001b[39m (\n\u001b[0;32m-> 1062\u001b[0m     \u001b[39mself\u001b[39;49m\u001b[39m.\u001b[39;49mget_records(etb, number_of_lines_of_context, tb_offset) \u001b[39mif\u001b[39;00m etb \u001b[39melse\u001b[39;00m []\n\u001b[1;32m   1063\u001b[0m )\n\u001b[1;32m   1065\u001b[0m frames \u001b[39m=\u001b[39m []\n\u001b[1;32m   1066\u001b[0m skipped \u001b[39m=\u001b[39m \u001b[39m0\u001b[39m\n",
      "File \u001b[0;32m~/Desktop/TCC/StockMarketGNN/tcc-env/lib/python3.9/site-packages/IPython/core/ultratb.py:1130\u001b[0m, in \u001b[0;36mVerboseTB.get_records\u001b[0;34m(self, etb, number_of_lines_of_context, tb_offset)\u001b[0m\n\u001b[1;32m   1128\u001b[0m \u001b[39mwhile\u001b[39;00m cf \u001b[39mis\u001b[39;00m \u001b[39mnot\u001b[39;00m \u001b[39mNone\u001b[39;00m:\n\u001b[1;32m   1129\u001b[0m     \u001b[39mtry\u001b[39;00m:\n\u001b[0;32m-> 1130\u001b[0m         mod \u001b[39m=\u001b[39m inspect\u001b[39m.\u001b[39mgetmodule(cf\u001b[39m.\u001b[39;49mtb_frame)\n\u001b[1;32m   1131\u001b[0m         \u001b[39mif\u001b[39;00m mod \u001b[39mis\u001b[39;00m \u001b[39mnot\u001b[39;00m \u001b[39mNone\u001b[39;00m:\n\u001b[1;32m   1132\u001b[0m             mod_name \u001b[39m=\u001b[39m mod\u001b[39m.\u001b[39m\u001b[39m__name__\u001b[39m\n",
      "\u001b[0;31mAttributeError\u001b[0m: 'tuple' object has no attribute 'tb_frame'"
     ]
    }
   ],
   "source": [
    "TEST_NAME = \"HP_Banks_WithoutGNN\"\n",
    "\n",
    "rid = pd.to_datetime(\"today\").strftime(\"%Y%m%d%H%M%S\")\n",
    "\n",
    "os.mkdir(DATA_PATH / rid)\n",
    "\n",
    "for overwrite_params in data_prep_grid:\n",
    "    \n",
    "    if (overwrite_params[\"pe_t\"] == 2) & (overwrite_params[\"history\"] == 1):\n",
    "        continue\n",
    "        \n",
    "    data_prep = DataPrep(\n",
    "        config_path=Path(base_config_path),\n",
    "        db=DBInterface(),\n",
    "        overwrite_params=overwrite_params\n",
    "    )\n",
    "    \n",
    "    print(\"TESTING CONFIG >> \", data_prep.config.data_prep)\n",
    "\n",
    "    data, d_size = data_prep.get_data()\n",
    "    \n",
    "    # get the data\n",
    "    run_gnn_model(\n",
    "        data=data, \n",
    "        d_size=d_size, \n",
    "        config_path=Path(base_config_path), \n",
    "        exp_name=TEST_NAME,\n",
    "        overwrite_dataprep = overwrite_params,\n",
    "        base_path_save_csv = str(DATA_PATH / rid) + \"/\",\n",
    "    )\n"
   ]
  },
  {
   "cell_type": "code",
   "execution_count": null,
   "metadata": {},
   "outputs": [],
   "source": []
  }
 ],
 "metadata": {
  "kernelspec": {
   "display_name": "Python 3 (ipykernel)",
   "language": "python",
   "name": "python3"
  },
  "language_info": {
   "codemirror_mode": {
    "name": "ipython",
    "version": 3
   },
   "file_extension": ".py",
   "mimetype": "text/x-python",
   "name": "python",
   "nbconvert_exporter": "python",
   "pygments_lexer": "ipython3",
   "version": "3.7.13"
  }
 },
 "nbformat": 4,
 "nbformat_minor": 2
}
