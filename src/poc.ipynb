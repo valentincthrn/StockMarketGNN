{
 "cells": [
  {
   "cell_type": "markdown",
   "metadata": {},
   "source": [
    "# Proof Of Concept\n",
    "\n",
    "This notebook aims to apprehend the topic and structure the goal of this project"
   ]
  },
  {
   "cell_type": "markdown",
   "metadata": {},
   "source": [
    "## Librairies"
   ]
  },
  {
   "cell_type": "code",
   "execution_count": 137,
   "metadata": {},
   "outputs": [],
   "source": [
    "import pandas as pd\n",
    "import yfinance as yf\n",
    "import datetime\n",
    "from tqdm import tqdm\n",
    "import matplotlib.pyplot as plt\n",
    "import functools as ft\n",
    "import networkx as nx\n",
    "import numpy as np\n",
    "\n",
    "import torch\n",
    "from torch_geometric.data import Data, Batch"
   ]
  },
  {
   "cell_type": "markdown",
   "metadata": {},
   "source": [
    "## 1. Prepare Data"
   ]
  },
  {
   "cell_type": "markdown",
   "metadata": {},
   "source": [
    "### Extract"
   ]
  },
  {
   "cell_type": "code",
   "execution_count": 14,
   "metadata": {},
   "outputs": [],
   "source": [
    "t = yf.Ticker(\"PETR4.SA\")\n",
    "petr4 = t.history(period=\"max\").reset_index()[[\"Date\", \"Close\"]]\n",
    "petr4[\"Date\"] = petr4['Date'].dt.strftime('%Y%m%d')\n",
    "petr4.columns = [\"Date\", \"petr4_close\"]"
   ]
  },
  {
   "cell_type": "code",
   "execution_count": 26,
   "metadata": {},
   "outputs": [],
   "source": [
    "t = yf.Ticker(\"BPAC11.SA\")\n",
    "btg = t.history(period=\"max\").reset_index()[[\"Date\", \"Close\"]]\n",
    "btg[\"Date\"] = btg['Date'].dt.strftime('%Y%m%d')\n",
    "btg.columns = [\"Date\", \"btg_close\"]"
   ]
  },
  {
   "cell_type": "code",
   "execution_count": 27,
   "metadata": {},
   "outputs": [],
   "source": [
    "t = yf.Ticker(\"B3SA3.SA\")\n",
    "b3 = t.history(period=\"max\").reset_index()[[\"Date\", \"Close\"]]\n",
    "b3[\"Date\"] = b3['Date'].dt.strftime('%Y%m%d')\n",
    "b3.columns = [\"Date\", \"b3_close\"]"
   ]
  },
  {
   "cell_type": "markdown",
   "metadata": {},
   "source": [
    "### Join"
   ]
  },
  {
   "cell_type": "code",
   "execution_count": 29,
   "metadata": {},
   "outputs": [],
   "source": [
    "df = ft.reduce(lambda left, right: pd.merge(left, right, on='Date', how = \"inner\"), [petr4, btg, b3])"
   ]
  },
  {
   "cell_type": "code",
   "execution_count": 62,
   "metadata": {},
   "outputs": [],
   "source": [
    "dataset = df.sort_values(\"Date\").drop(columns=\"Date\")"
   ]
  },
  {
   "cell_type": "code",
   "execution_count": 77,
   "metadata": {},
   "outputs": [
    {
     "data": {
      "text/html": [
       "<div>\n",
       "<style scoped>\n",
       "    .dataframe tbody tr th:only-of-type {\n",
       "        vertical-align: middle;\n",
       "    }\n",
       "\n",
       "    .dataframe tbody tr th {\n",
       "        vertical-align: top;\n",
       "    }\n",
       "\n",
       "    .dataframe thead th {\n",
       "        text-align: right;\n",
       "    }\n",
       "</style>\n",
       "<table border=\"1\" class=\"dataframe\">\n",
       "  <thead>\n",
       "    <tr style=\"text-align: right;\">\n",
       "      <th></th>\n",
       "      <th>petr4_close</th>\n",
       "      <th>btg_close</th>\n",
       "      <th>b3_close</th>\n",
       "    </tr>\n",
       "  </thead>\n",
       "  <tbody>\n",
       "    <tr>\n",
       "      <th>0</th>\n",
       "      <td>5.587599</td>\n",
       "      <td>3.654601</td>\n",
       "      <td>5.058690</td>\n",
       "    </tr>\n",
       "    <tr>\n",
       "      <th>1</th>\n",
       "      <td>5.712750</td>\n",
       "      <td>3.604400</td>\n",
       "      <td>5.079965</td>\n",
       "    </tr>\n",
       "    <tr>\n",
       "      <th>2</th>\n",
       "      <td>5.561833</td>\n",
       "      <td>3.604400</td>\n",
       "      <td>4.973579</td>\n",
       "    </tr>\n",
       "    <tr>\n",
       "      <th>3</th>\n",
       "      <td>5.639132</td>\n",
       "      <td>3.765042</td>\n",
       "      <td>5.000175</td>\n",
       "    </tr>\n",
       "    <tr>\n",
       "      <th>4</th>\n",
       "      <td>5.558152</td>\n",
       "      <td>3.855403</td>\n",
       "      <td>4.968258</td>\n",
       "    </tr>\n",
       "    <tr>\n",
       "      <th>...</th>\n",
       "      <td>...</td>\n",
       "      <td>...</td>\n",
       "      <td>...</td>\n",
       "    </tr>\n",
       "    <tr>\n",
       "      <th>1590</th>\n",
       "      <td>29.100000</td>\n",
       "      <td>32.889999</td>\n",
       "      <td>14.600000</td>\n",
       "    </tr>\n",
       "    <tr>\n",
       "      <th>1591</th>\n",
       "      <td>29.129999</td>\n",
       "      <td>33.320000</td>\n",
       "      <td>14.610000</td>\n",
       "    </tr>\n",
       "    <tr>\n",
       "      <th>1592</th>\n",
       "      <td>29.680000</td>\n",
       "      <td>34.080002</td>\n",
       "      <td>15.170000</td>\n",
       "    </tr>\n",
       "    <tr>\n",
       "      <th>1593</th>\n",
       "      <td>30.299999</td>\n",
       "      <td>33.700001</td>\n",
       "      <td>15.100000</td>\n",
       "    </tr>\n",
       "    <tr>\n",
       "      <th>1594</th>\n",
       "      <td>31.000000</td>\n",
       "      <td>33.560001</td>\n",
       "      <td>14.990000</td>\n",
       "    </tr>\n",
       "  </tbody>\n",
       "</table>\n",
       "<p>1595 rows × 3 columns</p>\n",
       "</div>"
      ],
      "text/plain": [
       "      petr4_close  btg_close   b3_close\n",
       "0        5.587599   3.654601   5.058690\n",
       "1        5.712750   3.604400   5.079965\n",
       "2        5.561833   3.604400   4.973579\n",
       "3        5.639132   3.765042   5.000175\n",
       "4        5.558152   3.855403   4.968258\n",
       "...           ...        ...        ...\n",
       "1590    29.100000  32.889999  14.600000\n",
       "1591    29.129999  33.320000  14.610000\n",
       "1592    29.680000  34.080002  15.170000\n",
       "1593    30.299999  33.700001  15.100000\n",
       "1594    31.000000  33.560001  14.990000\n",
       "\n",
       "[1595 rows x 3 columns]"
      ]
     },
     "execution_count": 77,
     "metadata": {},
     "output_type": "execute_result"
    }
   ],
   "source": [
    "dataset"
   ]
  },
  {
   "cell_type": "code",
   "execution_count": 80,
   "metadata": {},
   "outputs": [
    {
     "data": {
      "text/plain": [
       "9516"
      ]
     },
     "execution_count": 80,
     "metadata": {},
     "output_type": "execute_result"
    }
   ],
   "source": [
    "6*1586"
   ]
  },
  {
   "cell_type": "markdown",
   "metadata": {},
   "source": [
    "## Create dataset"
   ]
  },
  {
   "cell_type": "markdown",
   "metadata": {},
   "source": [
    "### Training set"
   ]
  },
  {
   "cell_type": "code",
   "execution_count": 122,
   "metadata": {},
   "outputs": [
    {
     "name": "stderr",
     "output_type": "stream",
     "text": [
      "100%|██████████| 1485/1485 [00:01<00:00, 796.66it/s]\n"
     ]
    }
   ],
   "source": [
    "# Create a mapping of node names (stocks) to integers\n",
    "node_mapping = {node: i for i, node in enumerate(dataset.columns)}\n",
    "\n",
    "edge_indices = []\n",
    "edge_weights = []\n",
    "node_features = []\n",
    "graphs = []\n",
    "labels = []\n",
    "\n",
    "k = 10\n",
    "test_size = 100\n",
    "\n",
    "for t in tqdm(range(k, len(dataset) - test_size)):\n",
    "    \n",
    "    # Step 1: Create correlation matrix and graph for this time step\n",
    "    correlation_matrix = dataset.iloc[:t].corr()\n",
    "    graph = nx.from_pandas_adjacency(correlation_matrix)\n",
    "    graphs.append(graph)\n",
    "\n",
    "    # Step 2: Convert edges to integer tuples and store as tensor\n",
    "    edges = list(graph.edges)\n",
    "    edges_mapped = [(node_mapping[u], node_mapping[v]) for u, v in edges]\n",
    "    edge_indices.append(torch.tensor(edges_mapped, dtype=torch.long).t().contiguous())\n",
    "\n",
    "    # Step 3: Store edge weights as tensor\n",
    "    edge_weights.append(torch.tensor([graph[u][v]['weight'] for u, v in edges], dtype=torch.float))\n",
    "\n",
    "    # Step 4: Store closing prices as node features (assume last column of df is 'Close')\n",
    "    node_features.append(torch.tensor(dataset.iloc[t-k:t, :].T.values, dtype=torch.float))\n",
    "    \n",
    "    # Step 5: Store prices at t+1 as labels\n",
    "    labels.append(torch.tensor(dataset.iloc[t, :], dtype=torch.float))\n",
    "\n",
    "# Combine edge_indices, edge_weights, and node_features into a list of Data objects\n",
    "data_list = [Data(x=node_features[i], edge_index=edge_indices[i], edge_attr=edge_weights[i], y = labels[i]) for i in range(len(graphs))]\n",
    "\n",
    "# Convert data_list into a Batch for feeding into your model\n",
    "batch = Batch.from_data_list(data_list)\n"
   ]
  },
  {
   "cell_type": "markdown",
   "metadata": {},
   "source": [
    "### Test set"
   ]
  },
  {
   "cell_type": "code",
   "execution_count": 142,
   "metadata": {},
   "outputs": [
    {
     "name": "stderr",
     "output_type": "stream",
     "text": [
      "100%|██████████| 100/100 [00:00<00:00, 518.17it/s]\n"
     ]
    }
   ],
   "source": [
    "# Create a mapping of node names (stocks) to integers\n",
    "node_mapping = {node: i for i, node in enumerate(dataset.columns)}\n",
    "\n",
    "edge_indices = []\n",
    "edge_weights = []\n",
    "node_features = []\n",
    "graphs = []\n",
    "labels = []\n",
    "\n",
    "k = 10\n",
    "test_size = 100\n",
    "\n",
    "for t in tqdm(range(len(dataset) - test_size, len(dataset))):\n",
    "    \n",
    "    # Step 1: Create correlation matrix and graph for this time step\n",
    "    correlation_matrix = dataset.iloc[:t].corr()\n",
    "    graph = nx.from_pandas_adjacency(correlation_matrix)\n",
    "    graphs.append(graph)\n",
    "\n",
    "    # Step 2: Convert edges to integer tuples and store as tensor\n",
    "    edges = list(graph.edges)\n",
    "    edges_mapped = [(node_mapping[u], node_mapping[v]) for u, v in edges]\n",
    "    edge_indices.append(torch.tensor(edges_mapped, dtype=torch.long).t().contiguous())\n",
    "\n",
    "    # Step 3: Store edge weights as tensor\n",
    "    edge_weights.append(torch.tensor([graph[u][v]['weight'] for u, v in edges], dtype=torch.float))\n",
    "\n",
    "    # Step 4: Store closing prices as node features (assume last column of df is 'Close')\n",
    "    node_features.append(torch.tensor(dataset.iloc[t-k:t, :].T.values, dtype=torch.float))\n",
    "    \n",
    "    # Step 5: Store prices at t+1 as labels\n",
    "    labels.append(torch.tensor(dataset.iloc[t, :], dtype=torch.float))\n",
    "\n",
    "# Combine edge_indices, edge_weights, and node_features into a list of Data objects\n",
    "data_list_test = [Data(x=node_features[i], edge_index=edge_indices[i], edge_attr=edge_weights[i], y = labels[i]) for i in range(len(graphs))]\n",
    "\n",
    "# Convert data_list into a Batch for feeding into your model\n",
    "batch_test = Batch.from_data_list(data_list_test)\n"
   ]
  },
  {
   "cell_type": "markdown",
   "metadata": {},
   "source": [
    "## Model "
   ]
  },
  {
   "cell_type": "code",
   "execution_count": 123,
   "metadata": {},
   "outputs": [],
   "source": [
    "import torch.nn.functional as F\n",
    "from torch_geometric.nn import GraphConv\n",
    "from torch.optim import Adam\n",
    "\n",
    "class GNN(torch.nn.Module):\n",
    "    def __init__(self, num_features, hidden_channels, num_classes):\n",
    "        super(GNN, self).__init__()\n",
    "        self.conv1 = GraphConv(num_features, hidden_channels)\n",
    "        self.conv2 = GraphConv(hidden_channels, num_classes)\n",
    "\n",
    "    def forward(self, data):\n",
    "        x, edge_index, edge_attr = data.x, data.edge_index, data.edge_attr\n",
    "        x = self.conv1(x, edge_index, edge_attr)\n",
    "        x = F.relu(x)\n",
    "        x = self.conv2(x, edge_index, edge_attr)\n",
    "        return x\n"
   ]
  },
  {
   "cell_type": "markdown",
   "metadata": {},
   "source": [
    "## Training"
   ]
  },
  {
   "cell_type": "code",
   "execution_count": 127,
   "metadata": {},
   "outputs": [],
   "source": [
    "# Assuming node features are 3 and we want to predict next price (1 value)\n",
    "model = GNN(num_features=10, hidden_channels=6, num_classes=1)"
   ]
  },
  {
   "cell_type": "code",
   "execution_count": 136,
   "metadata": {},
   "outputs": [],
   "source": [
    "\n",
    "# Define a suitable optimizer\n",
    "optimizer = Adam(model.parameters(), lr=0.01)\n",
    "\n",
    "# Define loss function - mean squared error loss\n",
    "loss_func = torch.nn.MSELoss()\n",
    "\n",
    "# Number of epochs\n",
    "epochs = 100"
   ]
  },
  {
   "cell_type": "code",
   "execution_count": 138,
   "metadata": {},
   "outputs": [
    {
     "name": "stdout",
     "output_type": "stream",
     "text": [
      "EPOCH >  0\n"
     ]
    },
    {
     "name": "stderr",
     "output_type": "stream",
     "text": [
      "100%|██████████| 1485/1485 [00:01<00:00, 923.46it/s]\n"
     ]
    },
    {
     "name": "stdout",
     "output_type": "stream",
     "text": [
      "Mean Loss:  0.5580933461223669\n",
      "EPOCH >  1\n"
     ]
    },
    {
     "name": "stderr",
     "output_type": "stream",
     "text": [
      "100%|██████████| 1485/1485 [00:01<00:00, 962.38it/s]\n"
     ]
    },
    {
     "name": "stdout",
     "output_type": "stream",
     "text": [
      "Mean Loss:  0.6621371364200594\n",
      "EPOCH >  2\n"
     ]
    },
    {
     "name": "stderr",
     "output_type": "stream",
     "text": [
      "100%|██████████| 1485/1485 [00:01<00:00, 934.85it/s]\n"
     ]
    },
    {
     "name": "stdout",
     "output_type": "stream",
     "text": [
      "Mean Loss:  0.6781841807949917\n",
      "EPOCH >  3\n"
     ]
    },
    {
     "name": "stderr",
     "output_type": "stream",
     "text": [
      "Exception ignored in: <function tqdm.__del__ at 0x7fbc68c71b80>\n",
      "Traceback (most recent call last):\n",
      "  File \"/Users/valentincthrn/Desktop/TCC/StockMarketGNN/tcc-env/lib/python3.9/site-packages/tqdm/std.py\", line 1145, in __del__\n",
      "    self.close()\n",
      "  File \"/Users/valentincthrn/Desktop/TCC/StockMarketGNN/tcc-env/lib/python3.9/site-packages/tqdm/std.py\", line 1274, in close\n",
      "    if self.last_print_t < self.start_t + self.delay:\n",
      "AttributeError: 'tqdm' object has no attribute 'last_print_t'\n",
      "100%|██████████| 1485/1485 [00:01<00:00, 870.38it/s]\n"
     ]
    },
    {
     "name": "stdout",
     "output_type": "stream",
     "text": [
      "Mean Loss:  0.6685013406136839\n",
      "EPOCH >  4\n"
     ]
    },
    {
     "name": "stderr",
     "output_type": "stream",
     "text": [
      "100%|██████████| 1485/1485 [00:01<00:00, 1001.17it/s]\n"
     ]
    },
    {
     "name": "stdout",
     "output_type": "stream",
     "text": [
      "Mean Loss:  0.6457351271678483\n",
      "EPOCH >  5\n"
     ]
    },
    {
     "name": "stderr",
     "output_type": "stream",
     "text": [
      "100%|██████████| 1485/1485 [00:01<00:00, 996.33it/s] \n"
     ]
    },
    {
     "name": "stdout",
     "output_type": "stream",
     "text": [
      "Mean Loss:  0.6176038777944867\n",
      "EPOCH >  6\n"
     ]
    },
    {
     "name": "stderr",
     "output_type": "stream",
     "text": [
      "100%|██████████| 1485/1485 [00:01<00:00, 992.87it/s] \n"
     ]
    },
    {
     "name": "stdout",
     "output_type": "stream",
     "text": [
      "Mean Loss:  0.5901461353745807\n",
      "EPOCH >  7\n"
     ]
    },
    {
     "name": "stderr",
     "output_type": "stream",
     "text": [
      "100%|██████████| 1485/1485 [00:01<00:00, 1007.59it/s]\n"
     ]
    },
    {
     "name": "stdout",
     "output_type": "stream",
     "text": [
      "Mean Loss:  0.5673064886335196\n",
      "EPOCH >  8\n"
     ]
    },
    {
     "name": "stderr",
     "output_type": "stream",
     "text": [
      "100%|██████████| 1485/1485 [00:01<00:00, 1021.47it/s]\n"
     ]
    },
    {
     "name": "stdout",
     "output_type": "stream",
     "text": [
      "Mean Loss:  0.5507615716135449\n",
      "EPOCH >  9\n"
     ]
    },
    {
     "name": "stderr",
     "output_type": "stream",
     "text": [
      "100%|██████████| 1485/1485 [00:01<00:00, 977.57it/s] \n"
     ]
    },
    {
     "name": "stdout",
     "output_type": "stream",
     "text": [
      "Mean Loss:  0.5403399040782981\n",
      "EPOCH >  10\n"
     ]
    },
    {
     "name": "stderr",
     "output_type": "stream",
     "text": [
      "100%|██████████| 1485/1485 [00:01<00:00, 960.61it/s] \n"
     ]
    },
    {
     "name": "stdout",
     "output_type": "stream",
     "text": [
      "Mean Loss:  0.5347216278960558\n",
      "EPOCH >  11\n"
     ]
    },
    {
     "name": "stderr",
     "output_type": "stream",
     "text": [
      "100%|██████████| 1485/1485 [00:01<00:00, 910.77it/s]\n"
     ]
    },
    {
     "name": "stdout",
     "output_type": "stream",
     "text": [
      "Mean Loss:  0.5320766039492142\n",
      "EPOCH >  12\n"
     ]
    },
    {
     "name": "stderr",
     "output_type": "stream",
     "text": [
      "100%|██████████| 1485/1485 [00:01<00:00, 983.97it/s]\n"
     ]
    },
    {
     "name": "stdout",
     "output_type": "stream",
     "text": [
      "Mean Loss:  0.5306052922526757\n",
      "EPOCH >  13\n"
     ]
    },
    {
     "name": "stderr",
     "output_type": "stream",
     "text": [
      "100%|██████████| 1485/1485 [00:01<00:00, 955.20it/s] \n"
     ]
    },
    {
     "name": "stdout",
     "output_type": "stream",
     "text": [
      "Mean Loss:  0.5290940075408768\n",
      "EPOCH >  14\n"
     ]
    },
    {
     "name": "stderr",
     "output_type": "stream",
     "text": [
      "100%|██████████| 1485/1485 [00:01<00:00, 894.84it/s]\n"
     ]
    },
    {
     "name": "stdout",
     "output_type": "stream",
     "text": [
      "Mean Loss:  0.5273963986017964\n",
      "EPOCH >  15\n"
     ]
    },
    {
     "name": "stderr",
     "output_type": "stream",
     "text": [
      "100%|██████████| 1485/1485 [00:01<00:00, 1008.32it/s]\n"
     ]
    },
    {
     "name": "stdout",
     "output_type": "stream",
     "text": [
      "Mean Loss:  0.5272196786565964\n",
      "EPOCH >  16\n"
     ]
    },
    {
     "name": "stderr",
     "output_type": "stream",
     "text": [
      "100%|██████████| 1485/1485 [00:01<00:00, 1019.73it/s]\n"
     ]
    },
    {
     "name": "stdout",
     "output_type": "stream",
     "text": [
      "Mean Loss:  0.5285019416824572\n",
      "EPOCH >  17\n"
     ]
    },
    {
     "name": "stderr",
     "output_type": "stream",
     "text": [
      "100%|██████████| 1485/1485 [00:01<00:00, 994.36it/s] \n"
     ]
    },
    {
     "name": "stdout",
     "output_type": "stream",
     "text": [
      "Mean Loss:  0.5302796024070294\n",
      "EPOCH >  18\n"
     ]
    },
    {
     "name": "stderr",
     "output_type": "stream",
     "text": [
      "100%|██████████| 1485/1485 [00:01<00:00, 949.43it/s] \n"
     ]
    },
    {
     "name": "stdout",
     "output_type": "stream",
     "text": [
      "Mean Loss:  0.5307685818713667\n",
      "EPOCH >  19\n"
     ]
    },
    {
     "name": "stderr",
     "output_type": "stream",
     "text": [
      "100%|██████████| 1485/1485 [00:01<00:00, 887.89it/s]\n"
     ]
    },
    {
     "name": "stdout",
     "output_type": "stream",
     "text": [
      "Mean Loss:  0.529847535028229\n",
      "EPOCH >  20\n"
     ]
    },
    {
     "name": "stderr",
     "output_type": "stream",
     "text": [
      "100%|██████████| 1485/1485 [00:01<00:00, 994.17it/s] \n"
     ]
    },
    {
     "name": "stdout",
     "output_type": "stream",
     "text": [
      "Mean Loss:  0.5271641266272366\n",
      "EPOCH >  21\n"
     ]
    },
    {
     "name": "stderr",
     "output_type": "stream",
     "text": [
      "100%|██████████| 1485/1485 [00:01<00:00, 904.01it/s] \n"
     ]
    },
    {
     "name": "stdout",
     "output_type": "stream",
     "text": [
      "Mean Loss:  0.5241832292673605\n",
      "EPOCH >  22\n"
     ]
    },
    {
     "name": "stderr",
     "output_type": "stream",
     "text": [
      "100%|██████████| 1485/1485 [00:01<00:00, 994.37it/s] \n"
     ]
    },
    {
     "name": "stdout",
     "output_type": "stream",
     "text": [
      "Mean Loss:  0.521129776627846\n",
      "EPOCH >  23\n"
     ]
    },
    {
     "name": "stderr",
     "output_type": "stream",
     "text": [
      "100%|██████████| 1485/1485 [00:01<00:00, 971.21it/s]\n"
     ]
    },
    {
     "name": "stdout",
     "output_type": "stream",
     "text": [
      "Mean Loss:  0.5180684596676417\n",
      "EPOCH >  24\n"
     ]
    },
    {
     "name": "stderr",
     "output_type": "stream",
     "text": [
      "100%|██████████| 1485/1485 [00:01<00:00, 936.18it/s]\n"
     ]
    },
    {
     "name": "stdout",
     "output_type": "stream",
     "text": [
      "Mean Loss:  0.5149148160547037\n",
      "EPOCH >  25\n"
     ]
    },
    {
     "name": "stderr",
     "output_type": "stream",
     "text": [
      "100%|██████████| 1485/1485 [00:01<00:00, 818.22it/s]\n"
     ]
    },
    {
     "name": "stdout",
     "output_type": "stream",
     "text": [
      "Mean Loss:  0.5118988252765427\n",
      "EPOCH >  26\n"
     ]
    },
    {
     "name": "stderr",
     "output_type": "stream",
     "text": [
      "100%|██████████| 1485/1485 [00:01<00:00, 921.64it/s] \n"
     ]
    },
    {
     "name": "stdout",
     "output_type": "stream",
     "text": [
      "Mean Loss:  0.5089516898200875\n",
      "EPOCH >  27\n"
     ]
    },
    {
     "name": "stderr",
     "output_type": "stream",
     "text": [
      "100%|██████████| 1485/1485 [00:01<00:00, 993.88it/s] \n"
     ]
    },
    {
     "name": "stdout",
     "output_type": "stream",
     "text": [
      "Mean Loss:  0.5063531745657927\n",
      "EPOCH >  28\n"
     ]
    },
    {
     "name": "stderr",
     "output_type": "stream",
     "text": [
      "100%|██████████| 1485/1485 [00:01<00:00, 988.14it/s] \n"
     ]
    },
    {
     "name": "stdout",
     "output_type": "stream",
     "text": [
      "Mean Loss:  0.5039816217713359\n",
      "EPOCH >  29\n"
     ]
    },
    {
     "name": "stderr",
     "output_type": "stream",
     "text": [
      "100%|██████████| 1485/1485 [00:01<00:00, 950.91it/s]\n"
     ]
    },
    {
     "name": "stdout",
     "output_type": "stream",
     "text": [
      "Mean Loss:  0.5019007258455862\n",
      "EPOCH >  30\n"
     ]
    },
    {
     "name": "stderr",
     "output_type": "stream",
     "text": [
      "100%|██████████| 1485/1485 [00:01<00:00, 876.27it/s]\n"
     ]
    },
    {
     "name": "stdout",
     "output_type": "stream",
     "text": [
      "Mean Loss:  0.5001055624177648\n",
      "EPOCH >  31\n"
     ]
    },
    {
     "name": "stderr",
     "output_type": "stream",
     "text": [
      "100%|██████████| 1485/1485 [00:01<00:00, 916.34it/s]\n"
     ]
    },
    {
     "name": "stdout",
     "output_type": "stream",
     "text": [
      "Mean Loss:  0.4984600688609128\n",
      "EPOCH >  32\n"
     ]
    },
    {
     "name": "stderr",
     "output_type": "stream",
     "text": [
      "100%|██████████| 1485/1485 [00:01<00:00, 936.72it/s]\n"
     ]
    },
    {
     "name": "stdout",
     "output_type": "stream",
     "text": [
      "Mean Loss:  0.4971509464916864\n",
      "EPOCH >  33\n"
     ]
    },
    {
     "name": "stderr",
     "output_type": "stream",
     "text": [
      "100%|██████████| 1485/1485 [00:01<00:00, 986.30it/s] \n"
     ]
    },
    {
     "name": "stdout",
     "output_type": "stream",
     "text": [
      "Mean Loss:  0.4959712219960762\n",
      "EPOCH >  34\n"
     ]
    },
    {
     "name": "stderr",
     "output_type": "stream",
     "text": [
      "100%|██████████| 1485/1485 [00:01<00:00, 977.89it/s] \n"
     ]
    },
    {
     "name": "stdout",
     "output_type": "stream",
     "text": [
      "Mean Loss:  0.4950434597244373\n",
      "EPOCH >  35\n"
     ]
    },
    {
     "name": "stderr",
     "output_type": "stream",
     "text": [
      "100%|██████████| 1485/1485 [00:01<00:00, 969.83it/s]\n"
     ]
    },
    {
     "name": "stdout",
     "output_type": "stream",
     "text": [
      "Mean Loss:  0.49430088944347444\n",
      "EPOCH >  36\n"
     ]
    },
    {
     "name": "stderr",
     "output_type": "stream",
     "text": [
      "100%|██████████| 1485/1485 [00:01<00:00, 968.87it/s]\n"
     ]
    },
    {
     "name": "stdout",
     "output_type": "stream",
     "text": [
      "Mean Loss:  0.49365378041431834\n",
      "EPOCH >  37\n"
     ]
    },
    {
     "name": "stderr",
     "output_type": "stream",
     "text": [
      "100%|██████████| 1485/1485 [00:01<00:00, 914.40it/s]\n"
     ]
    },
    {
     "name": "stdout",
     "output_type": "stream",
     "text": [
      "Mean Loss:  0.4931311352416773\n",
      "EPOCH >  38\n"
     ]
    },
    {
     "name": "stderr",
     "output_type": "stream",
     "text": [
      "100%|██████████| 1485/1485 [00:01<00:00, 861.53it/s]\n"
     ]
    },
    {
     "name": "stdout",
     "output_type": "stream",
     "text": [
      "Mean Loss:  0.49307778263135316\n",
      "EPOCH >  39\n"
     ]
    },
    {
     "name": "stderr",
     "output_type": "stream",
     "text": [
      "100%|██████████| 1485/1485 [00:01<00:00, 990.71it/s] \n"
     ]
    },
    {
     "name": "stdout",
     "output_type": "stream",
     "text": [
      "Mean Loss:  0.4926799824085049\n",
      "EPOCH >  40\n"
     ]
    },
    {
     "name": "stderr",
     "output_type": "stream",
     "text": [
      "100%|██████████| 1485/1485 [00:01<00:00, 963.63it/s] \n"
     ]
    },
    {
     "name": "stdout",
     "output_type": "stream",
     "text": [
      "Mean Loss:  0.4924526194323745\n",
      "EPOCH >  41\n"
     ]
    },
    {
     "name": "stderr",
     "output_type": "stream",
     "text": [
      "100%|██████████| 1485/1485 [00:01<00:00, 973.34it/s]\n"
     ]
    },
    {
     "name": "stdout",
     "output_type": "stream",
     "text": [
      "Mean Loss:  0.4922372517868977\n",
      "EPOCH >  42\n"
     ]
    },
    {
     "name": "stderr",
     "output_type": "stream",
     "text": [
      "100%|██████████| 1485/1485 [00:01<00:00, 1004.73it/s]\n"
     ]
    },
    {
     "name": "stdout",
     "output_type": "stream",
     "text": [
      "Mean Loss:  0.492047608386559\n",
      "EPOCH >  43\n"
     ]
    },
    {
     "name": "stderr",
     "output_type": "stream",
     "text": [
      "100%|██████████| 1485/1485 [00:01<00:00, 1002.82it/s]\n"
     ]
    },
    {
     "name": "stdout",
     "output_type": "stream",
     "text": [
      "Mean Loss:  0.4922050231958736\n",
      "EPOCH >  44\n"
     ]
    },
    {
     "name": "stderr",
     "output_type": "stream",
     "text": [
      "100%|██████████| 1485/1485 [00:01<00:00, 993.35it/s] \n"
     ]
    },
    {
     "name": "stdout",
     "output_type": "stream",
     "text": [
      "Mean Loss:  0.4920550942427231\n",
      "EPOCH >  45\n"
     ]
    },
    {
     "name": "stderr",
     "output_type": "stream",
     "text": [
      "100%|██████████| 1485/1485 [00:01<00:00, 1026.40it/s]\n"
     ]
    },
    {
     "name": "stdout",
     "output_type": "stream",
     "text": [
      "Mean Loss:  0.49191582564865033\n",
      "EPOCH >  46\n"
     ]
    },
    {
     "name": "stderr",
     "output_type": "stream",
     "text": [
      "100%|██████████| 1485/1485 [00:01<00:00, 956.80it/s] \n"
     ]
    },
    {
     "name": "stdout",
     "output_type": "stream",
     "text": [
      "Mean Loss:  0.4918227027636021\n",
      "EPOCH >  47\n"
     ]
    },
    {
     "name": "stderr",
     "output_type": "stream",
     "text": [
      "100%|██████████| 1485/1485 [00:01<00:00, 940.13it/s] \n"
     ]
    },
    {
     "name": "stdout",
     "output_type": "stream",
     "text": [
      "Mean Loss:  0.49169906972615857\n",
      "EPOCH >  48\n"
     ]
    },
    {
     "name": "stderr",
     "output_type": "stream",
     "text": [
      "100%|██████████| 1485/1485 [00:01<00:00, 1005.04it/s]\n"
     ]
    },
    {
     "name": "stdout",
     "output_type": "stream",
     "text": [
      "Mean Loss:  0.49197176936786524\n",
      "EPOCH >  49\n"
     ]
    },
    {
     "name": "stderr",
     "output_type": "stream",
     "text": [
      "100%|██████████| 1485/1485 [00:01<00:00, 1007.89it/s]\n"
     ]
    },
    {
     "name": "stdout",
     "output_type": "stream",
     "text": [
      "Mean Loss:  0.49179638487064226\n",
      "EPOCH >  50\n"
     ]
    },
    {
     "name": "stderr",
     "output_type": "stream",
     "text": [
      "100%|██████████| 1485/1485 [00:01<00:00, 1005.95it/s]\n"
     ]
    },
    {
     "name": "stdout",
     "output_type": "stream",
     "text": [
      "Mean Loss:  0.4917012371888748\n",
      "EPOCH >  51\n"
     ]
    },
    {
     "name": "stderr",
     "output_type": "stream",
     "text": [
      "100%|██████████| 1485/1485 [00:01<00:00, 981.13it/s] \n"
     ]
    },
    {
     "name": "stdout",
     "output_type": "stream",
     "text": [
      "Mean Loss:  0.49193529923107815\n",
      "EPOCH >  52\n"
     ]
    },
    {
     "name": "stderr",
     "output_type": "stream",
     "text": [
      "100%|██████████| 1485/1485 [00:01<00:00, 908.77it/s] \n"
     ]
    },
    {
     "name": "stdout",
     "output_type": "stream",
     "text": [
      "Mean Loss:  0.4918150952295165\n",
      "EPOCH >  53\n"
     ]
    },
    {
     "name": "stderr",
     "output_type": "stream",
     "text": [
      "100%|██████████| 1485/1485 [00:01<00:00, 841.01it/s]\n"
     ]
    },
    {
     "name": "stdout",
     "output_type": "stream",
     "text": [
      "Mean Loss:  0.4917091900613692\n",
      "EPOCH >  54\n"
     ]
    },
    {
     "name": "stderr",
     "output_type": "stream",
     "text": [
      "100%|██████████| 1485/1485 [00:01<00:00, 843.59it/s]\n"
     ]
    },
    {
     "name": "stdout",
     "output_type": "stream",
     "text": [
      "Mean Loss:  0.49197380789438017\n",
      "EPOCH >  55\n"
     ]
    },
    {
     "name": "stderr",
     "output_type": "stream",
     "text": [
      "100%|██████████| 1485/1485 [00:01<00:00, 986.56it/s] \n"
     ]
    },
    {
     "name": "stdout",
     "output_type": "stream",
     "text": [
      "Mean Loss:  0.491861323927849\n",
      "EPOCH >  56\n"
     ]
    },
    {
     "name": "stderr",
     "output_type": "stream",
     "text": [
      "100%|██████████| 1485/1485 [00:01<00:00, 775.47it/s]\n"
     ]
    },
    {
     "name": "stdout",
     "output_type": "stream",
     "text": [
      "Mean Loss:  0.4917615797322852\n",
      "EPOCH >  57\n"
     ]
    },
    {
     "name": "stderr",
     "output_type": "stream",
     "text": [
      "100%|██████████| 1485/1485 [00:01<00:00, 1029.66it/s]\n"
     ]
    },
    {
     "name": "stdout",
     "output_type": "stream",
     "text": [
      "Mean Loss:  0.4920474991034591\n",
      "EPOCH >  58\n"
     ]
    },
    {
     "name": "stderr",
     "output_type": "stream",
     "text": [
      "100%|██████████| 1485/1485 [00:01<00:00, 745.86it/s]\n"
     ]
    },
    {
     "name": "stdout",
     "output_type": "stream",
     "text": [
      "Mean Loss:  0.49188840800844547\n",
      "EPOCH >  59\n"
     ]
    },
    {
     "name": "stderr",
     "output_type": "stream",
     "text": [
      "100%|██████████| 1485/1485 [00:01<00:00, 847.68it/s]\n"
     ]
    },
    {
     "name": "stdout",
     "output_type": "stream",
     "text": [
      "Mean Loss:  0.4917759966252604\n",
      "EPOCH >  60\n"
     ]
    },
    {
     "name": "stderr",
     "output_type": "stream",
     "text": [
      "100%|██████████| 1485/1485 [00:01<00:00, 959.35it/s] \n"
     ]
    },
    {
     "name": "stdout",
     "output_type": "stream",
     "text": [
      "Mean Loss:  0.4920766189197386\n",
      "EPOCH >  61\n"
     ]
    },
    {
     "name": "stderr",
     "output_type": "stream",
     "text": [
      "100%|██████████| 1485/1485 [00:01<00:00, 753.65it/s]\n"
     ]
    },
    {
     "name": "stdout",
     "output_type": "stream",
     "text": [
      "Mean Loss:  0.49193142870392476\n",
      "EPOCH >  62\n"
     ]
    },
    {
     "name": "stderr",
     "output_type": "stream",
     "text": [
      "100%|██████████| 1485/1485 [00:01<00:00, 778.87it/s]\n"
     ]
    },
    {
     "name": "stdout",
     "output_type": "stream",
     "text": [
      "Mean Loss:  0.4922175204551462\n",
      "EPOCH >  63\n"
     ]
    },
    {
     "name": "stderr",
     "output_type": "stream",
     "text": [
      "100%|██████████| 1485/1485 [00:01<00:00, 864.68it/s]\n"
     ]
    },
    {
     "name": "stdout",
     "output_type": "stream",
     "text": [
      "Mean Loss:  0.49212474644463194\n",
      "EPOCH >  64\n"
     ]
    },
    {
     "name": "stderr",
     "output_type": "stream",
     "text": [
      "100%|██████████| 1485/1485 [00:01<00:00, 832.72it/s]\n"
     ]
    },
    {
     "name": "stdout",
     "output_type": "stream",
     "text": [
      "Mean Loss:  0.4920624034951977\n",
      "EPOCH >  65\n"
     ]
    },
    {
     "name": "stderr",
     "output_type": "stream",
     "text": [
      "100%|██████████| 1485/1485 [00:01<00:00, 1024.12it/s]\n"
     ]
    },
    {
     "name": "stdout",
     "output_type": "stream",
     "text": [
      "Mean Loss:  0.4923539528468003\n",
      "EPOCH >  66\n"
     ]
    },
    {
     "name": "stderr",
     "output_type": "stream",
     "text": [
      "100%|██████████| 1485/1485 [00:01<00:00, 1075.43it/s]\n"
     ]
    },
    {
     "name": "stdout",
     "output_type": "stream",
     "text": [
      "Mean Loss:  0.49226859220748875\n",
      "EPOCH >  67\n"
     ]
    },
    {
     "name": "stderr",
     "output_type": "stream",
     "text": [
      "100%|██████████| 1485/1485 [00:01<00:00, 1066.93it/s]\n"
     ]
    },
    {
     "name": "stdout",
     "output_type": "stream",
     "text": [
      "Mean Loss:  0.49220580683577403\n",
      "EPOCH >  68\n"
     ]
    },
    {
     "name": "stderr",
     "output_type": "stream",
     "text": [
      "100%|██████████| 1485/1485 [00:01<00:00, 1015.06it/s]\n"
     ]
    },
    {
     "name": "stdout",
     "output_type": "stream",
     "text": [
      "Mean Loss:  0.4924914082400156\n",
      "EPOCH >  69\n"
     ]
    },
    {
     "name": "stderr",
     "output_type": "stream",
     "text": [
      "100%|██████████| 1485/1485 [00:01<00:00, 1002.63it/s]\n"
     ]
    },
    {
     "name": "stdout",
     "output_type": "stream",
     "text": [
      "Mean Loss:  0.49244219103266773\n",
      "EPOCH >  70\n"
     ]
    },
    {
     "name": "stderr",
     "output_type": "stream",
     "text": [
      "100%|██████████| 1485/1485 [00:01<00:00, 883.82it/s]\n"
     ]
    },
    {
     "name": "stdout",
     "output_type": "stream",
     "text": [
      "Mean Loss:  0.4926566725000206\n",
      "EPOCH >  71\n"
     ]
    },
    {
     "name": "stderr",
     "output_type": "stream",
     "text": [
      "100%|██████████| 1485/1485 [00:01<00:00, 1019.63it/s]\n"
     ]
    },
    {
     "name": "stdout",
     "output_type": "stream",
     "text": [
      "Mean Loss:  0.49252940404435824\n",
      "EPOCH >  72\n"
     ]
    },
    {
     "name": "stderr",
     "output_type": "stream",
     "text": [
      "100%|██████████| 1485/1485 [00:01<00:00, 1029.88it/s]\n"
     ]
    },
    {
     "name": "stdout",
     "output_type": "stream",
     "text": [
      "Mean Loss:  0.49280053110917094\n",
      "EPOCH >  73\n"
     ]
    },
    {
     "name": "stderr",
     "output_type": "stream",
     "text": [
      "100%|██████████| 1485/1485 [00:01<00:00, 1003.48it/s]\n"
     ]
    },
    {
     "name": "stdout",
     "output_type": "stream",
     "text": [
      "Mean Loss:  0.49269201902802784\n",
      "EPOCH >  74\n"
     ]
    },
    {
     "name": "stderr",
     "output_type": "stream",
     "text": [
      "100%|██████████| 1485/1485 [00:01<00:00, 1025.25it/s]\n"
     ]
    },
    {
     "name": "stdout",
     "output_type": "stream",
     "text": [
      "Mean Loss:  0.49296509534699107\n",
      "EPOCH >  75\n"
     ]
    },
    {
     "name": "stderr",
     "output_type": "stream",
     "text": [
      "100%|██████████| 1485/1485 [00:01<00:00, 1010.24it/s]\n"
     ]
    },
    {
     "name": "stdout",
     "output_type": "stream",
     "text": [
      "Mean Loss:  0.49287321866256334\n",
      "EPOCH >  76\n"
     ]
    },
    {
     "name": "stderr",
     "output_type": "stream",
     "text": [
      "100%|██████████| 1485/1485 [00:01<00:00, 1035.19it/s]\n"
     ]
    },
    {
     "name": "stdout",
     "output_type": "stream",
     "text": [
      "Mean Loss:  0.4928146103636898\n",
      "EPOCH >  77\n"
     ]
    },
    {
     "name": "stderr",
     "output_type": "stream",
     "text": [
      "100%|██████████| 1485/1485 [00:01<00:00, 1045.61it/s]\n"
     ]
    },
    {
     "name": "stdout",
     "output_type": "stream",
     "text": [
      "Mean Loss:  0.49309406245397\n",
      "EPOCH >  78\n"
     ]
    },
    {
     "name": "stderr",
     "output_type": "stream",
     "text": [
      "100%|██████████| 1485/1485 [00:01<00:00, 1037.28it/s]\n"
     ]
    },
    {
     "name": "stdout",
     "output_type": "stream",
     "text": [
      "Mean Loss:  0.4929993911116362\n",
      "EPOCH >  79\n"
     ]
    },
    {
     "name": "stderr",
     "output_type": "stream",
     "text": [
      "100%|██████████| 1485/1485 [00:01<00:00, 1038.93it/s]\n"
     ]
    },
    {
     "name": "stdout",
     "output_type": "stream",
     "text": [
      "Mean Loss:  0.49293764069533724\n",
      "EPOCH >  80\n"
     ]
    },
    {
     "name": "stderr",
     "output_type": "stream",
     "text": [
      "100%|██████████| 1485/1485 [00:01<00:00, 1019.79it/s]\n"
     ]
    },
    {
     "name": "stdout",
     "output_type": "stream",
     "text": [
      "Mean Loss:  0.49321225180685746\n",
      "EPOCH >  81\n"
     ]
    },
    {
     "name": "stderr",
     "output_type": "stream",
     "text": [
      "100%|██████████| 1485/1485 [00:01<00:00, 1021.34it/s]\n"
     ]
    },
    {
     "name": "stdout",
     "output_type": "stream",
     "text": [
      "Mean Loss:  0.49311418893499304\n",
      "EPOCH >  82\n"
     ]
    },
    {
     "name": "stderr",
     "output_type": "stream",
     "text": [
      "100%|██████████| 1485/1485 [00:01<00:00, 1075.12it/s]\n"
     ]
    },
    {
     "name": "stdout",
     "output_type": "stream",
     "text": [
      "Mean Loss:  0.493054223799316\n",
      "EPOCH >  83\n"
     ]
    },
    {
     "name": "stderr",
     "output_type": "stream",
     "text": [
      "100%|██████████| 1485/1485 [00:01<00:00, 1030.76it/s]\n"
     ]
    },
    {
     "name": "stdout",
     "output_type": "stream",
     "text": [
      "Mean Loss:  0.493330478278202\n",
      "EPOCH >  84\n"
     ]
    },
    {
     "name": "stderr",
     "output_type": "stream",
     "text": [
      "100%|██████████| 1485/1485 [00:01<00:00, 1069.60it/s]\n"
     ]
    },
    {
     "name": "stdout",
     "output_type": "stream",
     "text": [
      "Mean Loss:  0.4932361534923654\n",
      "EPOCH >  85\n"
     ]
    },
    {
     "name": "stderr",
     "output_type": "stream",
     "text": [
      "100%|██████████| 1485/1485 [00:01<00:00, 1062.02it/s]\n"
     ]
    },
    {
     "name": "stdout",
     "output_type": "stream",
     "text": [
      "Mean Loss:  0.4931968876042306\n",
      "EPOCH >  86\n"
     ]
    },
    {
     "name": "stderr",
     "output_type": "stream",
     "text": [
      "100%|██████████| 1485/1485 [00:01<00:00, 1060.37it/s]\n"
     ]
    },
    {
     "name": "stdout",
     "output_type": "stream",
     "text": [
      "Mean Loss:  0.49316326102691854\n",
      "EPOCH >  87\n"
     ]
    },
    {
     "name": "stderr",
     "output_type": "stream",
     "text": [
      "100%|██████████| 1485/1485 [00:01<00:00, 1024.06it/s]\n"
     ]
    },
    {
     "name": "stdout",
     "output_type": "stream",
     "text": [
      "Mean Loss:  0.4934528025186241\n",
      "EPOCH >  88\n"
     ]
    },
    {
     "name": "stderr",
     "output_type": "stream",
     "text": [
      "100%|██████████| 1485/1485 [00:01<00:00, 900.10it/s]\n"
     ]
    },
    {
     "name": "stdout",
     "output_type": "stream",
     "text": [
      "Mean Loss:  0.49336966869871285\n",
      "EPOCH >  89\n"
     ]
    },
    {
     "name": "stderr",
     "output_type": "stream",
     "text": [
      "100%|██████████| 1485/1485 [00:01<00:00, 923.31it/s]\n"
     ]
    },
    {
     "name": "stdout",
     "output_type": "stream",
     "text": [
      "Mean Loss:  0.4933400397987798\n",
      "EPOCH >  90\n"
     ]
    },
    {
     "name": "stderr",
     "output_type": "stream",
     "text": [
      "100%|██████████| 1485/1485 [00:01<00:00, 1016.94it/s]\n"
     ]
    },
    {
     "name": "stdout",
     "output_type": "stream",
     "text": [
      "Mean Loss:  0.49331878350470654\n",
      "EPOCH >  91\n"
     ]
    },
    {
     "name": "stderr",
     "output_type": "stream",
     "text": [
      "100%|██████████| 1485/1485 [00:01<00:00, 1009.85it/s]\n"
     ]
    },
    {
     "name": "stdout",
     "output_type": "stream",
     "text": [
      "Mean Loss:  0.4936193581180559\n",
      "EPOCH >  92\n"
     ]
    },
    {
     "name": "stderr",
     "output_type": "stream",
     "text": [
      "100%|██████████| 1485/1485 [00:01<00:00, 920.02it/s]\n"
     ]
    },
    {
     "name": "stdout",
     "output_type": "stream",
     "text": [
      "Mean Loss:  0.49354446523341505\n",
      "EPOCH >  93\n"
     ]
    },
    {
     "name": "stderr",
     "output_type": "stream",
     "text": [
      "100%|██████████| 1485/1485 [00:01<00:00, 935.50it/s]\n"
     ]
    },
    {
     "name": "stdout",
     "output_type": "stream",
     "text": [
      "Mean Loss:  0.49352301520049285\n",
      "EPOCH >  94\n"
     ]
    },
    {
     "name": "stderr",
     "output_type": "stream",
     "text": [
      "100%|██████████| 1485/1485 [00:01<00:00, 828.22it/s]\n"
     ]
    },
    {
     "name": "stdout",
     "output_type": "stream",
     "text": [
      "Mean Loss:  0.4935195088808296\n",
      "EPOCH >  95\n"
     ]
    },
    {
     "name": "stderr",
     "output_type": "stream",
     "text": [
      "100%|██████████| 1485/1485 [00:01<00:00, 857.28it/s]\n"
     ]
    },
    {
     "name": "stdout",
     "output_type": "stream",
     "text": [
      "Mean Loss:  0.4936009445070894\n",
      "EPOCH >  96\n"
     ]
    },
    {
     "name": "stderr",
     "output_type": "stream",
     "text": [
      "100%|██████████| 1485/1485 [00:01<00:00, 1010.66it/s]\n"
     ]
    },
    {
     "name": "stdout",
     "output_type": "stream",
     "text": [
      "Mean Loss:  0.4937760140326639\n",
      "EPOCH >  97\n"
     ]
    },
    {
     "name": "stderr",
     "output_type": "stream",
     "text": [
      "100%|██████████| 1485/1485 [00:01<00:00, 934.47it/s]\n"
     ]
    },
    {
     "name": "stdout",
     "output_type": "stream",
     "text": [
      "Mean Loss:  0.49384914197722257\n",
      "EPOCH >  98\n"
     ]
    },
    {
     "name": "stderr",
     "output_type": "stream",
     "text": [
      "100%|██████████| 1485/1485 [00:01<00:00, 824.91it/s]\n"
     ]
    },
    {
     "name": "stdout",
     "output_type": "stream",
     "text": [
      "Mean Loss:  0.49377981824980677\n",
      "EPOCH >  99\n"
     ]
    },
    {
     "name": "stderr",
     "output_type": "stream",
     "text": [
      "100%|██████████| 1485/1485 [00:01<00:00, 935.59it/s] "
     ]
    },
    {
     "name": "stdout",
     "output_type": "stream",
     "text": [
      "Mean Loss:  0.4940819965024802\n"
     ]
    },
    {
     "name": "stderr",
     "output_type": "stream",
     "text": [
      "\n"
     ]
    }
   ],
   "source": [
    "# Training loop\n",
    "for epoch in range(epochs):\n",
    "    loss_list = []\n",
    "    print(\"EPOCH > \", epoch)\n",
    "    for data in tqdm(batch.to_data_list()): # Iterate over each graph in the batch\n",
    "        model.train()\n",
    "        optimizer.zero_grad()\n",
    "\n",
    "        #print(\"data: \", data)\n",
    "        # Forward pass\n",
    "        out = model(data).squeeze()\n",
    "        \n",
    "        #print(\"out: \", out)\n",
    "\n",
    "        # Calculate loss\n",
    "        loss = loss_func(out, data.y)\n",
    "        loss_list.append(loss.item())\n",
    "        \n",
    "        \n",
    "        # Backward pass\n",
    "        loss.backward()\n",
    "        optimizer.step()\n",
    "\n",
    "        model.eval()\n",
    "    print(\"Mean Loss: \", np.mean(loss_list))\n"
   ]
  },
  {
   "cell_type": "markdown",
   "metadata": {},
   "source": [
    "### Testing"
   ]
  },
  {
   "cell_type": "code",
   "execution_count": 143,
   "metadata": {},
   "outputs": [],
   "source": [
    "N = len(dataset)\n",
    "testset = dataset.iloc[N-test_size:, :]"
   ]
  },
  {
   "cell_type": "code",
   "execution_count": 144,
   "metadata": {},
   "outputs": [
    {
     "data": {
      "text/html": [
       "<div>\n",
       "<style scoped>\n",
       "    .dataframe tbody tr th:only-of-type {\n",
       "        vertical-align: middle;\n",
       "    }\n",
       "\n",
       "    .dataframe tbody tr th {\n",
       "        vertical-align: top;\n",
       "    }\n",
       "\n",
       "    .dataframe thead th {\n",
       "        text-align: right;\n",
       "    }\n",
       "</style>\n",
       "<table border=\"1\" class=\"dataframe\">\n",
       "  <thead>\n",
       "    <tr style=\"text-align: right;\">\n",
       "      <th></th>\n",
       "      <th>petr4_close</th>\n",
       "      <th>btg_close</th>\n",
       "      <th>b3_close</th>\n",
       "    </tr>\n",
       "  </thead>\n",
       "  <tbody>\n",
       "    <tr>\n",
       "      <th>1495</th>\n",
       "      <td>21.133572</td>\n",
       "      <td>19.440001</td>\n",
       "      <td>10.355125</td>\n",
       "    </tr>\n",
       "    <tr>\n",
       "      <th>1496</th>\n",
       "      <td>20.582260</td>\n",
       "      <td>19.379999</td>\n",
       "      <td>10.443884</td>\n",
       "    </tr>\n",
       "    <tr>\n",
       "      <th>1497</th>\n",
       "      <td>21.467701</td>\n",
       "      <td>19.320000</td>\n",
       "      <td>10.374849</td>\n",
       "    </tr>\n",
       "    <tr>\n",
       "      <th>1498</th>\n",
       "      <td>21.684881</td>\n",
       "      <td>19.780001</td>\n",
       "      <td>10.808779</td>\n",
       "    </tr>\n",
       "    <tr>\n",
       "      <th>1499</th>\n",
       "      <td>20.966507</td>\n",
       "      <td>19.410000</td>\n",
       "      <td>10.897537</td>\n",
       "    </tr>\n",
       "    <tr>\n",
       "      <th>...</th>\n",
       "      <td>...</td>\n",
       "      <td>...</td>\n",
       "      <td>...</td>\n",
       "    </tr>\n",
       "    <tr>\n",
       "      <th>1590</th>\n",
       "      <td>29.100000</td>\n",
       "      <td>32.889999</td>\n",
       "      <td>14.600000</td>\n",
       "    </tr>\n",
       "    <tr>\n",
       "      <th>1591</th>\n",
       "      <td>29.129999</td>\n",
       "      <td>33.320000</td>\n",
       "      <td>14.610000</td>\n",
       "    </tr>\n",
       "    <tr>\n",
       "      <th>1592</th>\n",
       "      <td>29.680000</td>\n",
       "      <td>34.080002</td>\n",
       "      <td>15.170000</td>\n",
       "    </tr>\n",
       "    <tr>\n",
       "      <th>1593</th>\n",
       "      <td>30.299999</td>\n",
       "      <td>33.700001</td>\n",
       "      <td>15.100000</td>\n",
       "    </tr>\n",
       "    <tr>\n",
       "      <th>1594</th>\n",
       "      <td>31.000000</td>\n",
       "      <td>33.560001</td>\n",
       "      <td>14.990000</td>\n",
       "    </tr>\n",
       "  </tbody>\n",
       "</table>\n",
       "<p>100 rows × 3 columns</p>\n",
       "</div>"
      ],
      "text/plain": [
       "      petr4_close  btg_close   b3_close\n",
       "1495    21.133572  19.440001  10.355125\n",
       "1496    20.582260  19.379999  10.443884\n",
       "1497    21.467701  19.320000  10.374849\n",
       "1498    21.684881  19.780001  10.808779\n",
       "1499    20.966507  19.410000  10.897537\n",
       "...           ...        ...        ...\n",
       "1590    29.100000  32.889999  14.600000\n",
       "1591    29.129999  33.320000  14.610000\n",
       "1592    29.680000  34.080002  15.170000\n",
       "1593    30.299999  33.700001  15.100000\n",
       "1594    31.000000  33.560001  14.990000\n",
       "\n",
       "[100 rows x 3 columns]"
      ]
     },
     "execution_count": 144,
     "metadata": {},
     "output_type": "execute_result"
    }
   ],
   "source": [
    "testset"
   ]
  },
  {
   "cell_type": "code",
   "execution_count": 229,
   "metadata": {},
   "outputs": [
    {
     "name": "stderr",
     "output_type": "stream",
     "text": [
      "100it [00:00, 2091.06it/s]"
     ]
    },
    {
     "name": "stderr",
     "output_type": "stream",
     "text": [
      "\n"
     ]
    }
   ],
   "source": [
    "preds = []\n",
    "for i, data in tqdm(enumerate(batch_test.to_data_list())): # Iterate over each graph in the batch\n",
    "\n",
    "    out = list(model(data).detach().numpy())\n",
    "    \n",
    "    preds.append(out)\n",
    "\n",
    "df_pred = pd.DataFrame(np.squeeze(np.array(preds)), columns = [\"petr4_pred_gnn\", \"btg_pred_gnn\", \"b3_pred_gnn\"])"
   ]
  },
  {
   "cell_type": "markdown",
   "metadata": {},
   "source": [
    "## Result"
   ]
  },
  {
   "cell_type": "code",
   "execution_count": 230,
   "metadata": {},
   "outputs": [],
   "source": [
    "df_final = pd.concat([df.iloc[-100:, 0].reset_index().drop(columns=\"index\"), testset.reset_index().drop(columns=\"index\"), df_pred], axis=1)"
   ]
  },
  {
   "cell_type": "code",
   "execution_count": 231,
   "metadata": {},
   "outputs": [
    {
     "data": {
      "text/html": [
       "<div>\n",
       "<style scoped>\n",
       "    .dataframe tbody tr th:only-of-type {\n",
       "        vertical-align: middle;\n",
       "    }\n",
       "\n",
       "    .dataframe tbody tr th {\n",
       "        vertical-align: top;\n",
       "    }\n",
       "\n",
       "    .dataframe thead th {\n",
       "        text-align: right;\n",
       "    }\n",
       "</style>\n",
       "<table border=\"1\" class=\"dataframe\">\n",
       "  <thead>\n",
       "    <tr style=\"text-align: right;\">\n",
       "      <th></th>\n",
       "      <th>Date</th>\n",
       "      <th>petr4_close</th>\n",
       "      <th>btg_close</th>\n",
       "      <th>b3_close</th>\n",
       "      <th>petr4_pred_gnn</th>\n",
       "      <th>btg_pred_gnn</th>\n",
       "      <th>b3_pred_gnn</th>\n",
       "    </tr>\n",
       "  </thead>\n",
       "  <tbody>\n",
       "    <tr>\n",
       "      <th>0</th>\n",
       "      <td>20230301</td>\n",
       "      <td>21.133572</td>\n",
       "      <td>19.440001</td>\n",
       "      <td>10.355125</td>\n",
       "      <td>21.063160</td>\n",
       "      <td>20.158154</td>\n",
       "      <td>10.508205</td>\n",
       "    </tr>\n",
       "    <tr>\n",
       "      <th>1</th>\n",
       "      <td>20230302</td>\n",
       "      <td>20.582260</td>\n",
       "      <td>19.379999</td>\n",
       "      <td>10.443884</td>\n",
       "      <td>21.146984</td>\n",
       "      <td>19.489632</td>\n",
       "      <td>10.259307</td>\n",
       "    </tr>\n",
       "    <tr>\n",
       "      <th>2</th>\n",
       "      <td>20230303</td>\n",
       "      <td>21.467701</td>\n",
       "      <td>19.320000</td>\n",
       "      <td>10.374849</td>\n",
       "      <td>20.741812</td>\n",
       "      <td>19.889858</td>\n",
       "      <td>10.720746</td>\n",
       "    </tr>\n",
       "    <tr>\n",
       "      <th>3</th>\n",
       "      <td>20230306</td>\n",
       "      <td>21.684881</td>\n",
       "      <td>19.780001</td>\n",
       "      <td>10.808779</td>\n",
       "      <td>21.510771</td>\n",
       "      <td>19.915897</td>\n",
       "      <td>10.636232</td>\n",
       "    </tr>\n",
       "    <tr>\n",
       "      <th>4</th>\n",
       "      <td>20230307</td>\n",
       "      <td>20.966507</td>\n",
       "      <td>19.410000</td>\n",
       "      <td>10.897537</td>\n",
       "      <td>21.447708</td>\n",
       "      <td>19.813118</td>\n",
       "      <td>10.491675</td>\n",
       "    </tr>\n",
       "    <tr>\n",
       "      <th>...</th>\n",
       "      <td>...</td>\n",
       "      <td>...</td>\n",
       "      <td>...</td>\n",
       "      <td>...</td>\n",
       "      <td>...</td>\n",
       "      <td>...</td>\n",
       "      <td>...</td>\n",
       "    </tr>\n",
       "    <tr>\n",
       "      <th>95</th>\n",
       "      <td>20230719</td>\n",
       "      <td>29.100000</td>\n",
       "      <td>32.889999</td>\n",
       "      <td>14.600000</td>\n",
       "      <td>28.291529</td>\n",
       "      <td>31.161329</td>\n",
       "      <td>12.190410</td>\n",
       "    </tr>\n",
       "    <tr>\n",
       "      <th>96</th>\n",
       "      <td>20230720</td>\n",
       "      <td>29.129999</td>\n",
       "      <td>33.320000</td>\n",
       "      <td>14.610000</td>\n",
       "      <td>28.350166</td>\n",
       "      <td>30.305115</td>\n",
       "      <td>11.547741</td>\n",
       "    </tr>\n",
       "    <tr>\n",
       "      <th>97</th>\n",
       "      <td>20230721</td>\n",
       "      <td>29.680000</td>\n",
       "      <td>34.080002</td>\n",
       "      <td>15.170000</td>\n",
       "      <td>28.294792</td>\n",
       "      <td>30.987820</td>\n",
       "      <td>11.910377</td>\n",
       "    </tr>\n",
       "    <tr>\n",
       "      <th>98</th>\n",
       "      <td>20230724</td>\n",
       "      <td>30.299999</td>\n",
       "      <td>33.700001</td>\n",
       "      <td>15.100000</td>\n",
       "      <td>28.715916</td>\n",
       "      <td>31.234097</td>\n",
       "      <td>11.899999</td>\n",
       "    </tr>\n",
       "    <tr>\n",
       "      <th>99</th>\n",
       "      <td>20230725</td>\n",
       "      <td>31.000000</td>\n",
       "      <td>33.560001</td>\n",
       "      <td>14.990000</td>\n",
       "      <td>28.911015</td>\n",
       "      <td>30.569382</td>\n",
       "      <td>11.516779</td>\n",
       "    </tr>\n",
       "  </tbody>\n",
       "</table>\n",
       "<p>100 rows × 7 columns</p>\n",
       "</div>"
      ],
      "text/plain": [
       "        Date  petr4_close  btg_close   b3_close  petr4_pred_gnn  btg_pred_gnn  \\\n",
       "0   20230301    21.133572  19.440001  10.355125       21.063160     20.158154   \n",
       "1   20230302    20.582260  19.379999  10.443884       21.146984     19.489632   \n",
       "2   20230303    21.467701  19.320000  10.374849       20.741812     19.889858   \n",
       "3   20230306    21.684881  19.780001  10.808779       21.510771     19.915897   \n",
       "4   20230307    20.966507  19.410000  10.897537       21.447708     19.813118   \n",
       "..       ...          ...        ...        ...             ...           ...   \n",
       "95  20230719    29.100000  32.889999  14.600000       28.291529     31.161329   \n",
       "96  20230720    29.129999  33.320000  14.610000       28.350166     30.305115   \n",
       "97  20230721    29.680000  34.080002  15.170000       28.294792     30.987820   \n",
       "98  20230724    30.299999  33.700001  15.100000       28.715916     31.234097   \n",
       "99  20230725    31.000000  33.560001  14.990000       28.911015     30.569382   \n",
       "\n",
       "    b3_pred_gnn  \n",
       "0     10.508205  \n",
       "1     10.259307  \n",
       "2     10.720746  \n",
       "3     10.636232  \n",
       "4     10.491675  \n",
       "..          ...  \n",
       "95    12.190410  \n",
       "96    11.547741  \n",
       "97    11.910377  \n",
       "98    11.899999  \n",
       "99    11.516779  \n",
       "\n",
       "[100 rows x 7 columns]"
      ]
     },
     "execution_count": 231,
     "metadata": {},
     "output_type": "execute_result"
    }
   ],
   "source": [
    "df_final"
   ]
  },
  {
   "cell_type": "code",
   "execution_count": 252,
   "metadata": {},
   "outputs": [
    {
     "name": "stderr",
     "output_type": "stream",
     "text": [
      "/var/folders/xk/602tgmp162ngdgy2l3rwdpn00000gn/T/ipykernel_29839/2147176583.py:10: SettingWithCopyWarning: \n",
      "A value is trying to be set on a copy of a slice from a DataFrame.\n",
      "Try using .loc[row_indexer,col_indexer] = value instead\n",
      "\n",
      "See the caveats in the documentation: https://pandas.pydata.org/pandas-docs/stable/user_guide/indexing.html#returning-a-view-versus-a-copy\n",
      "  res_pred[pred_naive_col] = res_pred[true_col].shift(1)\n"
     ]
    }
   ],
   "source": [
    "col = \"b3\"\n",
    "true_col = col + \"_close\"\n",
    "pred_gnn_col = col + \"_pred_gnn\"\n",
    "pred_naive_col = col + \"_pred_naive\"\n",
    "date_col = \"Date\"\n",
    "\n",
    "res_pred = df_final[[date_col, true_col, pred_gnn_col]]\n",
    "\n",
    "# Add naive baseline\n",
    "res_pred[pred_naive_col] = res_pred[true_col].shift(1)"
   ]
  },
  {
   "cell_type": "code",
   "execution_count": 272,
   "metadata": {},
   "outputs": [],
   "source": [
    "df_all = df[[date_col, true_col]].merge(res_pred[[date_col, pred_gnn_col, pred_naive_col]], on=date_col, how=\"left\")"
   ]
  },
  {
   "cell_type": "code",
   "execution_count": 273,
   "metadata": {},
   "outputs": [
    {
     "data": {
      "text/html": [
       "<div>\n",
       "<style scoped>\n",
       "    .dataframe tbody tr th:only-of-type {\n",
       "        vertical-align: middle;\n",
       "    }\n",
       "\n",
       "    .dataframe tbody tr th {\n",
       "        vertical-align: top;\n",
       "    }\n",
       "\n",
       "    .dataframe thead th {\n",
       "        text-align: right;\n",
       "    }\n",
       "</style>\n",
       "<table border=\"1\" class=\"dataframe\">\n",
       "  <thead>\n",
       "    <tr style=\"text-align: right;\">\n",
       "      <th></th>\n",
       "      <th>Date</th>\n",
       "      <th>b3_close</th>\n",
       "      <th>b3_pred_gnn</th>\n",
       "      <th>b3_pred_naive</th>\n",
       "    </tr>\n",
       "  </thead>\n",
       "  <tbody>\n",
       "    <tr>\n",
       "      <th>0</th>\n",
       "      <td>20170224</td>\n",
       "      <td>5.058690</td>\n",
       "      <td>NaN</td>\n",
       "      <td>NaN</td>\n",
       "    </tr>\n",
       "    <tr>\n",
       "      <th>1</th>\n",
       "      <td>20170301</td>\n",
       "      <td>5.079965</td>\n",
       "      <td>NaN</td>\n",
       "      <td>NaN</td>\n",
       "    </tr>\n",
       "    <tr>\n",
       "      <th>2</th>\n",
       "      <td>20170302</td>\n",
       "      <td>4.973579</td>\n",
       "      <td>NaN</td>\n",
       "      <td>NaN</td>\n",
       "    </tr>\n",
       "    <tr>\n",
       "      <th>3</th>\n",
       "      <td>20170303</td>\n",
       "      <td>5.000175</td>\n",
       "      <td>NaN</td>\n",
       "      <td>NaN</td>\n",
       "    </tr>\n",
       "    <tr>\n",
       "      <th>4</th>\n",
       "      <td>20170306</td>\n",
       "      <td>4.968258</td>\n",
       "      <td>NaN</td>\n",
       "      <td>NaN</td>\n",
       "    </tr>\n",
       "    <tr>\n",
       "      <th>...</th>\n",
       "      <td>...</td>\n",
       "      <td>...</td>\n",
       "      <td>...</td>\n",
       "      <td>...</td>\n",
       "    </tr>\n",
       "    <tr>\n",
       "      <th>1590</th>\n",
       "      <td>20230719</td>\n",
       "      <td>14.600000</td>\n",
       "      <td>12.190410</td>\n",
       "      <td>14.71</td>\n",
       "    </tr>\n",
       "    <tr>\n",
       "      <th>1591</th>\n",
       "      <td>20230720</td>\n",
       "      <td>14.610000</td>\n",
       "      <td>11.547741</td>\n",
       "      <td>14.60</td>\n",
       "    </tr>\n",
       "    <tr>\n",
       "      <th>1592</th>\n",
       "      <td>20230721</td>\n",
       "      <td>15.170000</td>\n",
       "      <td>11.910377</td>\n",
       "      <td>14.61</td>\n",
       "    </tr>\n",
       "    <tr>\n",
       "      <th>1593</th>\n",
       "      <td>20230724</td>\n",
       "      <td>15.100000</td>\n",
       "      <td>11.899999</td>\n",
       "      <td>15.17</td>\n",
       "    </tr>\n",
       "    <tr>\n",
       "      <th>1594</th>\n",
       "      <td>20230725</td>\n",
       "      <td>14.990000</td>\n",
       "      <td>11.516779</td>\n",
       "      <td>15.10</td>\n",
       "    </tr>\n",
       "  </tbody>\n",
       "</table>\n",
       "<p>1595 rows × 4 columns</p>\n",
       "</div>"
      ],
      "text/plain": [
       "          Date   b3_close  b3_pred_gnn  b3_pred_naive\n",
       "0     20170224   5.058690          NaN            NaN\n",
       "1     20170301   5.079965          NaN            NaN\n",
       "2     20170302   4.973579          NaN            NaN\n",
       "3     20170303   5.000175          NaN            NaN\n",
       "4     20170306   4.968258          NaN            NaN\n",
       "...        ...        ...          ...            ...\n",
       "1590  20230719  14.600000    12.190410          14.71\n",
       "1591  20230720  14.610000    11.547741          14.60\n",
       "1592  20230721  15.170000    11.910377          14.61\n",
       "1593  20230724  15.100000    11.899999          15.17\n",
       "1594  20230725  14.990000    11.516779          15.10\n",
       "\n",
       "[1595 rows x 4 columns]"
      ]
     },
     "execution_count": 273,
     "metadata": {},
     "output_type": "execute_result"
    }
   ],
   "source": [
    "df_all"
   ]
  },
  {
   "cell_type": "code",
   "execution_count": 275,
   "metadata": {},
   "outputs": [
    {
     "data": {
      "text/plain": [
       "<Axes: xlabel='Date'>"
      ]
     },
     "execution_count": 275,
     "metadata": {},
     "output_type": "execute_result"
    },
    {
     "data": {
      "image/png": "[encoded data removed]",
      "text/plain": [
       "<Figure size 2200x400 with 1 Axes>"
      ]
     },
     "metadata": {},
     "output_type": "display_data"
    }
   ],
   "source": [
    "# Overlay the predicted data\n",
    "df_all.iloc[-200:,:].set_index(\"Date\").plot(figsize=(22,4))"
   ]
  },
  {
   "cell_type": "code",
   "execution_count": 276,
   "metadata": {},
   "outputs": [
    {
     "data": {
      "text/plain": [
       "2.2129010144177212"
      ]
     },
     "execution_count": 276,
     "metadata": {},
     "output_type": "execute_result"
    }
   ],
   "source": [
    "rmse_gnn = ((res_pred[pred_gnn_col] - res_pred[true_col]) ** 2).mean() ** .5\n",
    "rmse_gnn"
   ]
  },
  {
   "cell_type": "code",
   "execution_count": 277,
   "metadata": {},
   "outputs": [
    {
     "data": {
      "text/plain": [
       "0.29491942809793303"
      ]
     },
     "execution_count": 277,
     "metadata": {},
     "output_type": "execute_result"
    }
   ],
   "source": [
    "rmse_naive = ((res_pred[pred_naive_col] - res_pred[true_col]) ** 2).mean() ** .5\n",
    "rmse_naive"
   ]
  }
 ],
 "metadata": {
  "kernelspec": {
   "display_name": "tcc-env",
   "language": "python",
   "name": "python3"
  },
  "language_info": {
   "codemirror_mode": {
    "name": "ipython",
    "version": 3
   },
   "file_extension": ".py",
   "mimetype": "text/x-python",
   "name": "python",
   "nbconvert_exporter": "python",
   "pygments_lexer": "ipython3",
   "version": "3.9.7"
  },
  "orig_nbformat": 4
 },
 "nbformat": 4,
 "nbformat_minor": 2
}
